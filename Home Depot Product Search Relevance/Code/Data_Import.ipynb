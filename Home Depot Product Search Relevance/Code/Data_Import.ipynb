{
  "nbformat": 4,
  "nbformat_minor": 0,
  "metadata": {
    "kernelspec": {
      "display_name": "Python 3",
      "language": "python",
      "name": "python3"
    },
    "language_info": {
      "codemirror_mode": {
        "name": "ipython",
        "version": 3
      },
      "file_extension": ".py",
      "mimetype": "text/x-python",
      "name": "python",
      "nbconvert_exporter": "python",
      "pygments_lexer": "ipython3",
      "version": "3.7.1"
    },
    "colab": {
      "name": "Data Import.ipynb",
      "provenance": []
    }
  },
  "cells": [
    {
      "cell_type": "markdown",
      "metadata": {
        "id": "s1UksttPPQL4",
        "colab_type": "text"
      },
      "source": [
        "# Import Packages"
      ]
    },
    {
      "cell_type": "code",
      "metadata": {
        "collapsed": true,
        "id": "MR6eu0HwPQL5",
        "colab_type": "code",
        "colab": {},
        "outputId": "87ca5f11-c0a2-49eb-c59e-9927d0f83fcc"
      },
      "source": [
        "# Install Packages\n",
        "import sys \n",
        "!{sys.executable} -m pip install matplotlib-venn "
      ],
      "execution_count": null,
      "outputs": [
        {
          "output_type": "stream",
          "text": [
            "Requirement already satisfied: matplotlib-venn in c:\\programdata\\anaconda3\\lib\\site-packages (0.11.5)\n",
            "Requirement already satisfied: scipy in c:\\programdata\\anaconda3\\lib\\site-packages (from matplotlib-venn) (1.1.0)\n",
            "Requirement already satisfied: numpy in c:\\programdata\\anaconda3\\lib\\site-packages (from matplotlib-venn) (1.16.1)\n",
            "Requirement already satisfied: matplotlib in c:\\programdata\\anaconda3\\lib\\site-packages (from matplotlib-venn) (3.0.2)\n",
            "Requirement already satisfied: cycler>=0.10 in c:\\programdata\\anaconda3\\lib\\site-packages (from matplotlib->matplotlib-venn) (0.10.0)\n",
            "Requirement already satisfied: kiwisolver>=1.0.1 in c:\\programdata\\anaconda3\\lib\\site-packages (from matplotlib->matplotlib-venn) (1.0.1)\n",
            "Requirement already satisfied: pyparsing!=2.0.4,!=2.1.2,!=2.1.6,>=2.0.1 in c:\\programdata\\anaconda3\\lib\\site-packages (from matplotlib->matplotlib-venn) (2.3.0)\n",
            "Requirement already satisfied: python-dateutil>=2.1 in c:\\programdata\\anaconda3\\lib\\site-packages (from matplotlib->matplotlib-venn) (2.7.5)\n",
            "Requirement already satisfied: six in c:\\programdata\\anaconda3\\lib\\site-packages (from cycler>=0.10->matplotlib->matplotlib-venn) (1.12.0)\n",
            "Requirement already satisfied: setuptools in c:\\programdata\\anaconda3\\lib\\site-packages (from kiwisolver>=1.0.1->matplotlib->matplotlib-venn) (40.8.0)\n"
          ],
          "name": "stdout"
        }
      ]
    },
    {
      "cell_type": "code",
      "metadata": {
        "id": "Gb9nrqECPQL8",
        "colab_type": "code",
        "colab": {}
      },
      "source": [
        "import os\n",
        "from IPython.core.display import HTML\n",
        "\n",
        "# Import pandas \n",
        "import numpy as np \n",
        "import pandas as pd\n",
        "\n",
        "# Import time to measure how long processing takes\n",
        "import time\n",
        "\n",
        "# Import sklearn modules for model building\n",
        "from sklearn.ensemble import GradientBoostingRegressor\n",
        "from sklearn import pipeline\n",
        "from sklearn.model_selection import GridSearchCV, train_test_split\n",
        "from sklearn.base import BaseEstimator, TransformerMixin\n",
        "from sklearn.pipeline import FeatureUnion, Pipeline\n",
        "from sklearn.decomposition import TruncatedSVD\n",
        "from sklearn.feature_extraction.text import TfidfVectorizer\n",
        "from sklearn.metrics import mean_squared_error, make_scorer\n",
        "\n",
        "# Import the Snowball stemmer for stemming operations\n",
        "from nltk.stem.snowball import SnowballStemmer\n",
        "\n",
        "# Import regex for cleaning and other data processng\n",
        "import re\n",
        "\n",
        "\n",
        "import random\n",
        "from collections import Counter\n",
        "\n",
        "# Import matplotlib colors for color identification in queries\n",
        "from matplotlib import colors as mcolors\n",
        "import matplotlib.pyplot as plt\n",
        "import seaborn as sns\n",
        "%matplotlib inline\n",
        "\n",
        "# Import requests and json for search requests to google\n",
        "import requests, json\n",
        "\n",
        "# Import StringIO to handle the attributes file formatting errors on import\n",
        "from io import StringIO"
      ],
      "execution_count": null,
      "outputs": []
    },
    {
      "cell_type": "markdown",
      "metadata": {
        "id": "J08JLi3fPQL-",
        "colab_type": "text"
      },
      "source": [
        "# Import Data"
      ]
    },
    {
      "cell_type": "code",
      "metadata": {
        "collapsed": true,
        "id": "QSTjopFcPQL_",
        "colab_type": "code",
        "colab": {},
        "outputId": "48637e1a-6f9a-4564-e5bd-0cdc4c05da88"
      },
      "source": [
        "# Vigi Desktop\n",
        "# Import Train, Test, Product Descriptions and Attributes\n",
        "# encoding=\"ISO-8859-1\"\n",
        "Train = pd.read_csv('C:/Users/SPashikanti/Downloads/HomeDepot Kaggle/Data/train.csv', encoding='latin-1')\n",
        "Test = pd.read_csv('C:/Users/SPashikanti/Downloads/HomeDepot Kaggle/Data/test.csv', encoding='latin-1')\n",
        "ProductDescriptions = pd.read_csv('C:/Users/SPashikanti/Downloads/HomeDepot Kaggle/Data/product_descriptions.csv', encoding='latin-1')\n",
        "Attributes = pd.read_csv('C:/Users/SPashikanti/Downloads/HomeDepot Kaggle/Data/attributes.csv', encoding='latin-1')"
      ],
      "execution_count": null,
      "outputs": [
        {
          "output_type": "error",
          "ename": "FileNotFoundError",
          "evalue": "File b'C:/Users/SPashikanti/Downloads/HomeDepot Kaggle/Data/train.csv' does not exist",
          "traceback": [
            "\u001b[1;31m---------------------------------------------------------------------------\u001b[0m",
            "\u001b[1;31mFileNotFoundError\u001b[0m                         Traceback (most recent call last)",
            "\u001b[1;32m<ipython-input-2-c2dae6d7c0bf>\u001b[0m in \u001b[0;36m<module>\u001b[1;34m\u001b[0m\n\u001b[0;32m      1\u001b[0m \u001b[1;31m# Import Train, Test, Product Descriptions and Attributes\u001b[0m\u001b[1;33m\u001b[0m\u001b[1;33m\u001b[0m\u001b[1;33m\u001b[0m\u001b[0m\n\u001b[1;32m----> 2\u001b[1;33m \u001b[0mTrain\u001b[0m \u001b[1;33m=\u001b[0m \u001b[0mpd\u001b[0m\u001b[1;33m.\u001b[0m\u001b[0mread_csv\u001b[0m\u001b[1;33m(\u001b[0m\u001b[1;34m'C:/Users/SPashikanti/Downloads/HomeDepot Kaggle/Data/train.csv'\u001b[0m\u001b[1;33m,\u001b[0m \u001b[0mencoding\u001b[0m\u001b[1;33m=\u001b[0m\u001b[1;34m'latin-1'\u001b[0m\u001b[1;33m)\u001b[0m\u001b[1;33m\u001b[0m\u001b[1;33m\u001b[0m\u001b[0m\n\u001b[0m\u001b[0;32m      3\u001b[0m \u001b[0mTest\u001b[0m \u001b[1;33m=\u001b[0m \u001b[0mpd\u001b[0m\u001b[1;33m.\u001b[0m\u001b[0mread_csv\u001b[0m\u001b[1;33m(\u001b[0m\u001b[1;34m'C:/Users/SPashikanti/Downloads/HomeDepot Kaggle/Data/test.csv'\u001b[0m\u001b[1;33m,\u001b[0m \u001b[0mencoding\u001b[0m\u001b[1;33m=\u001b[0m\u001b[1;34m'latin-1'\u001b[0m\u001b[1;33m)\u001b[0m\u001b[1;33m\u001b[0m\u001b[1;33m\u001b[0m\u001b[0m\n\u001b[0;32m      4\u001b[0m \u001b[0mProductDescriptions\u001b[0m \u001b[1;33m=\u001b[0m \u001b[0mpd\u001b[0m\u001b[1;33m.\u001b[0m\u001b[0mread_csv\u001b[0m\u001b[1;33m(\u001b[0m\u001b[1;34m'C:/Users/SPashikanti/Downloads/HomeDepot Kaggle/Data/product_descriptions.csv'\u001b[0m\u001b[1;33m,\u001b[0m \u001b[0mencoding\u001b[0m\u001b[1;33m=\u001b[0m\u001b[1;34m'latin-1'\u001b[0m\u001b[1;33m)\u001b[0m\u001b[1;33m\u001b[0m\u001b[1;33m\u001b[0m\u001b[0m\n\u001b[0;32m      5\u001b[0m \u001b[0mAttributes\u001b[0m \u001b[1;33m=\u001b[0m \u001b[0mpd\u001b[0m\u001b[1;33m.\u001b[0m\u001b[0mread_csv\u001b[0m\u001b[1;33m(\u001b[0m\u001b[1;34m'C:/Users/SPashikanti/Downloads/HomeDepot Kaggle/Data/attributes.csv'\u001b[0m\u001b[1;33m,\u001b[0m \u001b[0mencoding\u001b[0m\u001b[1;33m=\u001b[0m\u001b[1;34m'latin-1'\u001b[0m\u001b[1;33m)\u001b[0m\u001b[1;33m\u001b[0m\u001b[1;33m\u001b[0m\u001b[0m\n",
            "\u001b[1;32mC:\\ProgramData\\Anaconda3\\lib\\site-packages\\pandas\\io\\parsers.py\u001b[0m in \u001b[0;36mparser_f\u001b[1;34m(filepath_or_buffer, sep, delimiter, header, names, index_col, usecols, squeeze, prefix, mangle_dupe_cols, dtype, engine, converters, true_values, false_values, skipinitialspace, skiprows, nrows, na_values, keep_default_na, na_filter, verbose, skip_blank_lines, parse_dates, infer_datetime_format, keep_date_col, date_parser, dayfirst, iterator, chunksize, compression, thousands, decimal, lineterminator, quotechar, quoting, escapechar, comment, encoding, dialect, tupleize_cols, error_bad_lines, warn_bad_lines, skipfooter, doublequote, delim_whitespace, low_memory, memory_map, float_precision)\u001b[0m\n\u001b[0;32m    676\u001b[0m                     skip_blank_lines=skip_blank_lines)\n\u001b[0;32m    677\u001b[0m \u001b[1;33m\u001b[0m\u001b[0m\n\u001b[1;32m--> 678\u001b[1;33m         \u001b[1;32mreturn\u001b[0m \u001b[0m_read\u001b[0m\u001b[1;33m(\u001b[0m\u001b[0mfilepath_or_buffer\u001b[0m\u001b[1;33m,\u001b[0m \u001b[0mkwds\u001b[0m\u001b[1;33m)\u001b[0m\u001b[1;33m\u001b[0m\u001b[1;33m\u001b[0m\u001b[0m\n\u001b[0m\u001b[0;32m    679\u001b[0m \u001b[1;33m\u001b[0m\u001b[0m\n\u001b[0;32m    680\u001b[0m     \u001b[0mparser_f\u001b[0m\u001b[1;33m.\u001b[0m\u001b[0m__name__\u001b[0m \u001b[1;33m=\u001b[0m \u001b[0mname\u001b[0m\u001b[1;33m\u001b[0m\u001b[1;33m\u001b[0m\u001b[0m\n",
            "\u001b[1;32mC:\\ProgramData\\Anaconda3\\lib\\site-packages\\pandas\\io\\parsers.py\u001b[0m in \u001b[0;36m_read\u001b[1;34m(filepath_or_buffer, kwds)\u001b[0m\n\u001b[0;32m    438\u001b[0m \u001b[1;33m\u001b[0m\u001b[0m\n\u001b[0;32m    439\u001b[0m     \u001b[1;31m# Create the parser.\u001b[0m\u001b[1;33m\u001b[0m\u001b[1;33m\u001b[0m\u001b[1;33m\u001b[0m\u001b[0m\n\u001b[1;32m--> 440\u001b[1;33m     \u001b[0mparser\u001b[0m \u001b[1;33m=\u001b[0m \u001b[0mTextFileReader\u001b[0m\u001b[1;33m(\u001b[0m\u001b[0mfilepath_or_buffer\u001b[0m\u001b[1;33m,\u001b[0m \u001b[1;33m**\u001b[0m\u001b[0mkwds\u001b[0m\u001b[1;33m)\u001b[0m\u001b[1;33m\u001b[0m\u001b[1;33m\u001b[0m\u001b[0m\n\u001b[0m\u001b[0;32m    441\u001b[0m \u001b[1;33m\u001b[0m\u001b[0m\n\u001b[0;32m    442\u001b[0m     \u001b[1;32mif\u001b[0m \u001b[0mchunksize\u001b[0m \u001b[1;32mor\u001b[0m \u001b[0miterator\u001b[0m\u001b[1;33m:\u001b[0m\u001b[1;33m\u001b[0m\u001b[1;33m\u001b[0m\u001b[0m\n",
            "\u001b[1;32mC:\\ProgramData\\Anaconda3\\lib\\site-packages\\pandas\\io\\parsers.py\u001b[0m in \u001b[0;36m__init__\u001b[1;34m(self, f, engine, **kwds)\u001b[0m\n\u001b[0;32m    785\u001b[0m             \u001b[0mself\u001b[0m\u001b[1;33m.\u001b[0m\u001b[0moptions\u001b[0m\u001b[1;33m[\u001b[0m\u001b[1;34m'has_index_names'\u001b[0m\u001b[1;33m]\u001b[0m \u001b[1;33m=\u001b[0m \u001b[0mkwds\u001b[0m\u001b[1;33m[\u001b[0m\u001b[1;34m'has_index_names'\u001b[0m\u001b[1;33m]\u001b[0m\u001b[1;33m\u001b[0m\u001b[1;33m\u001b[0m\u001b[0m\n\u001b[0;32m    786\u001b[0m \u001b[1;33m\u001b[0m\u001b[0m\n\u001b[1;32m--> 787\u001b[1;33m         \u001b[0mself\u001b[0m\u001b[1;33m.\u001b[0m\u001b[0m_make_engine\u001b[0m\u001b[1;33m(\u001b[0m\u001b[0mself\u001b[0m\u001b[1;33m.\u001b[0m\u001b[0mengine\u001b[0m\u001b[1;33m)\u001b[0m\u001b[1;33m\u001b[0m\u001b[1;33m\u001b[0m\u001b[0m\n\u001b[0m\u001b[0;32m    788\u001b[0m \u001b[1;33m\u001b[0m\u001b[0m\n\u001b[0;32m    789\u001b[0m     \u001b[1;32mdef\u001b[0m \u001b[0mclose\u001b[0m\u001b[1;33m(\u001b[0m\u001b[0mself\u001b[0m\u001b[1;33m)\u001b[0m\u001b[1;33m:\u001b[0m\u001b[1;33m\u001b[0m\u001b[1;33m\u001b[0m\u001b[0m\n",
            "\u001b[1;32mC:\\ProgramData\\Anaconda3\\lib\\site-packages\\pandas\\io\\parsers.py\u001b[0m in \u001b[0;36m_make_engine\u001b[1;34m(self, engine)\u001b[0m\n\u001b[0;32m   1012\u001b[0m     \u001b[1;32mdef\u001b[0m \u001b[0m_make_engine\u001b[0m\u001b[1;33m(\u001b[0m\u001b[0mself\u001b[0m\u001b[1;33m,\u001b[0m \u001b[0mengine\u001b[0m\u001b[1;33m=\u001b[0m\u001b[1;34m'c'\u001b[0m\u001b[1;33m)\u001b[0m\u001b[1;33m:\u001b[0m\u001b[1;33m\u001b[0m\u001b[1;33m\u001b[0m\u001b[0m\n\u001b[0;32m   1013\u001b[0m         \u001b[1;32mif\u001b[0m \u001b[0mengine\u001b[0m \u001b[1;33m==\u001b[0m \u001b[1;34m'c'\u001b[0m\u001b[1;33m:\u001b[0m\u001b[1;33m\u001b[0m\u001b[1;33m\u001b[0m\u001b[0m\n\u001b[1;32m-> 1014\u001b[1;33m             \u001b[0mself\u001b[0m\u001b[1;33m.\u001b[0m\u001b[0m_engine\u001b[0m \u001b[1;33m=\u001b[0m \u001b[0mCParserWrapper\u001b[0m\u001b[1;33m(\u001b[0m\u001b[0mself\u001b[0m\u001b[1;33m.\u001b[0m\u001b[0mf\u001b[0m\u001b[1;33m,\u001b[0m \u001b[1;33m**\u001b[0m\u001b[0mself\u001b[0m\u001b[1;33m.\u001b[0m\u001b[0moptions\u001b[0m\u001b[1;33m)\u001b[0m\u001b[1;33m\u001b[0m\u001b[1;33m\u001b[0m\u001b[0m\n\u001b[0m\u001b[0;32m   1015\u001b[0m         \u001b[1;32melse\u001b[0m\u001b[1;33m:\u001b[0m\u001b[1;33m\u001b[0m\u001b[1;33m\u001b[0m\u001b[0m\n\u001b[0;32m   1016\u001b[0m             \u001b[1;32mif\u001b[0m \u001b[0mengine\u001b[0m \u001b[1;33m==\u001b[0m \u001b[1;34m'python'\u001b[0m\u001b[1;33m:\u001b[0m\u001b[1;33m\u001b[0m\u001b[1;33m\u001b[0m\u001b[0m\n",
            "\u001b[1;32mC:\\ProgramData\\Anaconda3\\lib\\site-packages\\pandas\\io\\parsers.py\u001b[0m in \u001b[0;36m__init__\u001b[1;34m(self, src, **kwds)\u001b[0m\n\u001b[0;32m   1706\u001b[0m         \u001b[0mkwds\u001b[0m\u001b[1;33m[\u001b[0m\u001b[1;34m'usecols'\u001b[0m\u001b[1;33m]\u001b[0m \u001b[1;33m=\u001b[0m \u001b[0mself\u001b[0m\u001b[1;33m.\u001b[0m\u001b[0musecols\u001b[0m\u001b[1;33m\u001b[0m\u001b[1;33m\u001b[0m\u001b[0m\n\u001b[0;32m   1707\u001b[0m \u001b[1;33m\u001b[0m\u001b[0m\n\u001b[1;32m-> 1708\u001b[1;33m         \u001b[0mself\u001b[0m\u001b[1;33m.\u001b[0m\u001b[0m_reader\u001b[0m \u001b[1;33m=\u001b[0m \u001b[0mparsers\u001b[0m\u001b[1;33m.\u001b[0m\u001b[0mTextReader\u001b[0m\u001b[1;33m(\u001b[0m\u001b[0msrc\u001b[0m\u001b[1;33m,\u001b[0m \u001b[1;33m**\u001b[0m\u001b[0mkwds\u001b[0m\u001b[1;33m)\u001b[0m\u001b[1;33m\u001b[0m\u001b[1;33m\u001b[0m\u001b[0m\n\u001b[0m\u001b[0;32m   1709\u001b[0m \u001b[1;33m\u001b[0m\u001b[0m\n\u001b[0;32m   1710\u001b[0m         \u001b[0mpassed_names\u001b[0m \u001b[1;33m=\u001b[0m \u001b[0mself\u001b[0m\u001b[1;33m.\u001b[0m\u001b[0mnames\u001b[0m \u001b[1;32mis\u001b[0m \u001b[1;32mNone\u001b[0m\u001b[1;33m\u001b[0m\u001b[1;33m\u001b[0m\u001b[0m\n",
            "\u001b[1;32mpandas\\_libs\\parsers.pyx\u001b[0m in \u001b[0;36mpandas._libs.parsers.TextReader.__cinit__\u001b[1;34m()\u001b[0m\n",
            "\u001b[1;32mpandas\\_libs\\parsers.pyx\u001b[0m in \u001b[0;36mpandas._libs.parsers.TextReader._setup_parser_source\u001b[1;34m()\u001b[0m\n",
            "\u001b[1;31mFileNotFoundError\u001b[0m: File b'C:/Users/SPashikanti/Downloads/HomeDepot Kaggle/Data/train.csv' does not exist"
          ]
        }
      ]
    },
    {
      "cell_type": "code",
      "metadata": {
        "id": "NOasE0osPQMB",
        "colab_type": "code",
        "colab": {}
      },
      "source": [
        "# Dell Xps \n",
        "# Import Train, Test, Product Descriptions and Attributes\n",
        "# encoding=\"ISO-8859-1\"\n",
        "Train = pd.read_csv('C:/Users/sandh/Google Drive/Data Science/Kaggle Projects/home-depot-product-search-relevance/Data/train.csv', encoding='latin-1')\n",
        "Test = pd.read_csv('C:/Users/sandh/Google Drive/Data Science/Kaggle Projects/home-depot-product-search-relevance/Data/test.csv', encoding='latin-1')\n",
        "ProductDescriptions = pd.read_csv('C:/Users/sandh/Google Drive/Data Science/Kaggle Projects/home-depot-product-search-relevance/Data/product_descriptions.csv', encoding='latin-1')\n",
        "Attributes = pd.read_csv('C:/Users/sandh/Google Drive/Data Science/Kaggle Projects/home-depot-product-search-relevance/Data/attributes.csv', encoding='latin-1')"
      ],
      "execution_count": null,
      "outputs": []
    },
    {
      "cell_type": "markdown",
      "metadata": {
        "id": "T3oujMstPQMD",
        "colab_type": "text"
      },
      "source": [
        "# Data Exploration"
      ]
    },
    {
      "cell_type": "code",
      "metadata": {
        "id": "yhrucT3ePQMD",
        "colab_type": "code",
        "colab": {}
      },
      "source": [
        "# Function returns number of rows, columns; data types; Number of missing, unique values in each var;\n",
        "# top observations; top unique values\n",
        "def data_summary(df): \n",
        "    return print('This dataset has ' + str(df.shape[0]) + ' rows, and ' + str(df.shape[1]) + ' columns'), print(\" \"), print(\"DATA TYPES\"), print (df.dtypes), print(\" \"), print(\"MISSING VALUES\"), print(df.isnull().sum()) , print(\" \"), print(\"TOP OBSERVATIONS\"), print (display(df.head(5))) , print(\" \") , print(\"UNIQUE VALUES IN EACH VARIABLE\"), print(df.apply(lambda x: [x.unique()])), print(\" \"), print(\"NUMBER OF UNIQUE VALUES IN EACH VARIABLE\"), print(df.apply(lambda x: [len(x.unique())]))"
      ],
      "execution_count": null,
      "outputs": []
    },
    {
      "cell_type": "code",
      "metadata": {
        "collapsed": true,
        "id": "iNXUxvanPQMF",
        "colab_type": "code",
        "colab": {},
        "outputId": "ecc52b87-dd64-4ab0-e522-b34cf5aa91a2"
      },
      "source": [
        "data_summary(Train)"
      ],
      "execution_count": null,
      "outputs": [
        {
          "output_type": "stream",
          "text": [
            "This dataset has 74067 rows, and 5 columns\n",
            " \n",
            "DATA TYPES\n",
            "id                 int64\n",
            "product_uid        int64\n",
            "product_title     object\n",
            "search_term       object\n",
            "relevance        float64\n",
            "dtype: object\n",
            " \n",
            "MISSING DATA\n",
            "id               0\n",
            "product_uid      0\n",
            "product_title    0\n",
            "search_term      0\n",
            "relevance        0\n",
            "dtype: int64\n",
            " \n",
            "TOP OBSERVATIONS\n"
          ],
          "name": "stdout"
        },
        {
          "output_type": "display_data",
          "data": {
            "text/html": [
              "<div>\n",
              "<style scoped>\n",
              "    .dataframe tbody tr th:only-of-type {\n",
              "        vertical-align: middle;\n",
              "    }\n",
              "\n",
              "    .dataframe tbody tr th {\n",
              "        vertical-align: top;\n",
              "    }\n",
              "\n",
              "    .dataframe thead th {\n",
              "        text-align: right;\n",
              "    }\n",
              "</style>\n",
              "<table border=\"1\" class=\"dataframe\">\n",
              "  <thead>\n",
              "    <tr style=\"text-align: right;\">\n",
              "      <th></th>\n",
              "      <th>id</th>\n",
              "      <th>product_uid</th>\n",
              "      <th>product_title</th>\n",
              "      <th>search_term</th>\n",
              "      <th>relevance</th>\n",
              "    </tr>\n",
              "  </thead>\n",
              "  <tbody>\n",
              "    <tr>\n",
              "      <th>0</th>\n",
              "      <td>2</td>\n",
              "      <td>100001</td>\n",
              "      <td>Simpson Strong-Tie 12-Gauge Angle</td>\n",
              "      <td>angle bracket</td>\n",
              "      <td>3.00</td>\n",
              "    </tr>\n",
              "    <tr>\n",
              "      <th>1</th>\n",
              "      <td>3</td>\n",
              "      <td>100001</td>\n",
              "      <td>Simpson Strong-Tie 12-Gauge Angle</td>\n",
              "      <td>l bracket</td>\n",
              "      <td>2.50</td>\n",
              "    </tr>\n",
              "    <tr>\n",
              "      <th>2</th>\n",
              "      <td>9</td>\n",
              "      <td>100002</td>\n",
              "      <td>BEHR Premium Textured DeckOver 1-gal. #SC-141 ...</td>\n",
              "      <td>deck over</td>\n",
              "      <td>3.00</td>\n",
              "    </tr>\n",
              "    <tr>\n",
              "      <th>3</th>\n",
              "      <td>16</td>\n",
              "      <td>100005</td>\n",
              "      <td>Delta Vero 1-Handle Shower Only Faucet Trim Ki...</td>\n",
              "      <td>rain shower head</td>\n",
              "      <td>2.33</td>\n",
              "    </tr>\n",
              "    <tr>\n",
              "      <th>4</th>\n",
              "      <td>17</td>\n",
              "      <td>100005</td>\n",
              "      <td>Delta Vero 1-Handle Shower Only Faucet Trim Ki...</td>\n",
              "      <td>shower only faucet</td>\n",
              "      <td>2.67</td>\n",
              "    </tr>\n",
              "  </tbody>\n",
              "</table>\n",
              "</div>"
            ],
            "text/plain": [
              "   id  product_uid                                      product_title  \\\n",
              "0   2       100001                  Simpson Strong-Tie 12-Gauge Angle   \n",
              "1   3       100001                  Simpson Strong-Tie 12-Gauge Angle   \n",
              "2   9       100002  BEHR Premium Textured DeckOver 1-gal. #SC-141 ...   \n",
              "3  16       100005  Delta Vero 1-Handle Shower Only Faucet Trim Ki...   \n",
              "4  17       100005  Delta Vero 1-Handle Shower Only Faucet Trim Ki...   \n",
              "\n",
              "          search_term  relevance  \n",
              "0       angle bracket       3.00  \n",
              "1           l bracket       2.50  \n",
              "2           deck over       3.00  \n",
              "3    rain shower head       2.33  \n",
              "4  shower only faucet       2.67  "
            ]
          },
          "metadata": {
            "tags": []
          }
        },
        {
          "output_type": "stream",
          "text": [
            "None\n",
            " \n",
            "UNIQUE VALUES IN EACH VARIABLE\n",
            "id               [[2, 3, 9, 16, 17, 18, 20, 21, 23, 27, 34, 35,...\n",
            "product_uid      [[100001, 100002, 100005, 100006, 100007, 1000...\n",
            "product_title    [[Simpson Strong-Tie 12-Gauge Angle, BEHR Prem...\n",
            "search_term      [[angle bracket, l bracket, deck over, rain sh...\n",
            "relevance        [[3.0, 2.5, 2.33, 2.67, 2.0, 1.0, 1.67, 1.33, ...\n",
            "dtype: object\n",
            " \n",
            "NUMBER OF UNIQUE VALUES IN EACH VARIABLE\n",
            "id               [74067]\n",
            "product_uid      [54667]\n",
            "product_title    [53489]\n",
            "search_term      [11795]\n",
            "relevance           [13]\n",
            "dtype: object\n"
          ],
          "name": "stdout"
        },
        {
          "output_type": "execute_result",
          "data": {
            "text/plain": [
              "(None,\n",
              " None,\n",
              " None,\n",
              " None,\n",
              " None,\n",
              " None,\n",
              " None,\n",
              " None,\n",
              " None,\n",
              " None,\n",
              " None,\n",
              " None,\n",
              " None,\n",
              " None,\n",
              " None,\n",
              " None)"
            ]
          },
          "metadata": {
            "tags": []
          },
          "execution_count": 17
        }
      ]
    },
    {
      "cell_type": "code",
      "metadata": {
        "collapsed": true,
        "id": "Mm4TqQQhPQMI",
        "colab_type": "code",
        "colab": {},
        "outputId": "bc49e1a8-f0a4-4457-f48a-7e18d824d8d3"
      },
      "source": [
        "data_summary(Test)"
      ],
      "execution_count": null,
      "outputs": [
        {
          "output_type": "stream",
          "text": [
            "This dataset has 166693 rows, and 4 columns\n",
            " \n",
            "DATA TYPES\n",
            "id                int64\n",
            "product_uid       int64\n",
            "product_title    object\n",
            "search_term      object\n",
            "dtype: object\n",
            " \n",
            "MISSING DATA\n",
            "id               0\n",
            "product_uid      0\n",
            "product_title    0\n",
            "search_term      0\n",
            "dtype: int64\n",
            " \n",
            "TOP OBSERVATIONS\n"
          ],
          "name": "stdout"
        },
        {
          "output_type": "display_data",
          "data": {
            "text/html": [
              "<div>\n",
              "<style scoped>\n",
              "    .dataframe tbody tr th:only-of-type {\n",
              "        vertical-align: middle;\n",
              "    }\n",
              "\n",
              "    .dataframe tbody tr th {\n",
              "        vertical-align: top;\n",
              "    }\n",
              "\n",
              "    .dataframe thead th {\n",
              "        text-align: right;\n",
              "    }\n",
              "</style>\n",
              "<table border=\"1\" class=\"dataframe\">\n",
              "  <thead>\n",
              "    <tr style=\"text-align: right;\">\n",
              "      <th></th>\n",
              "      <th>id</th>\n",
              "      <th>product_uid</th>\n",
              "      <th>product_title</th>\n",
              "      <th>search_term</th>\n",
              "    </tr>\n",
              "  </thead>\n",
              "  <tbody>\n",
              "    <tr>\n",
              "      <th>0</th>\n",
              "      <td>1</td>\n",
              "      <td>100001</td>\n",
              "      <td>Simpson Strong-Tie 12-Gauge Angle</td>\n",
              "      <td>90 degree bracket</td>\n",
              "    </tr>\n",
              "    <tr>\n",
              "      <th>1</th>\n",
              "      <td>4</td>\n",
              "      <td>100001</td>\n",
              "      <td>Simpson Strong-Tie 12-Gauge Angle</td>\n",
              "      <td>metal l brackets</td>\n",
              "    </tr>\n",
              "    <tr>\n",
              "      <th>2</th>\n",
              "      <td>5</td>\n",
              "      <td>100001</td>\n",
              "      <td>Simpson Strong-Tie 12-Gauge Angle</td>\n",
              "      <td>simpson sku able</td>\n",
              "    </tr>\n",
              "    <tr>\n",
              "      <th>3</th>\n",
              "      <td>6</td>\n",
              "      <td>100001</td>\n",
              "      <td>Simpson Strong-Tie 12-Gauge Angle</td>\n",
              "      <td>simpson strong  ties</td>\n",
              "    </tr>\n",
              "    <tr>\n",
              "      <th>4</th>\n",
              "      <td>7</td>\n",
              "      <td>100001</td>\n",
              "      <td>Simpson Strong-Tie 12-Gauge Angle</td>\n",
              "      <td>simpson strong tie hcc668</td>\n",
              "    </tr>\n",
              "  </tbody>\n",
              "</table>\n",
              "</div>"
            ],
            "text/plain": [
              "   id  product_uid                      product_title  \\\n",
              "0   1       100001  Simpson Strong-Tie 12-Gauge Angle   \n",
              "1   4       100001  Simpson Strong-Tie 12-Gauge Angle   \n",
              "2   5       100001  Simpson Strong-Tie 12-Gauge Angle   \n",
              "3   6       100001  Simpson Strong-Tie 12-Gauge Angle   \n",
              "4   7       100001  Simpson Strong-Tie 12-Gauge Angle   \n",
              "\n",
              "                 search_term  \n",
              "0          90 degree bracket  \n",
              "1           metal l brackets  \n",
              "2           simpson sku able  \n",
              "3       simpson strong  ties  \n",
              "4  simpson strong tie hcc668  "
            ]
          },
          "metadata": {
            "tags": []
          }
        },
        {
          "output_type": "stream",
          "text": [
            "None\n",
            " \n",
            "UNIQUE VALUES IN EACH VARIABLE\n",
            "id               [[1, 4, 5, 6, 7, 8, 10, 11, 12, 13, 14, 15, 19...\n",
            "product_uid      [[100001, 100003, 100004, 100005, 100006, 1000...\n",
            "product_title    [[Simpson Strong-Tie 12-Gauge Angle, STERLING ...\n",
            "search_term      [[90 degree bracket, metal l brackets, simpson...\n",
            "dtype: object\n",
            " \n",
            "NUMBER OF UNIQUE VALUES IN EACH VARIABLE\n",
            "id               [166693]\n",
            "product_uid       [97460]\n",
            "product_title     [94731]\n",
            "search_term       [22427]\n",
            "dtype: object\n"
          ],
          "name": "stdout"
        },
        {
          "output_type": "execute_result",
          "data": {
            "text/plain": [
              "(None,\n",
              " None,\n",
              " None,\n",
              " None,\n",
              " None,\n",
              " None,\n",
              " None,\n",
              " None,\n",
              " None,\n",
              " None,\n",
              " None,\n",
              " None,\n",
              " None,\n",
              " None,\n",
              " None,\n",
              " None)"
            ]
          },
          "metadata": {
            "tags": []
          },
          "execution_count": 18
        }
      ]
    },
    {
      "cell_type": "code",
      "metadata": {
        "collapsed": true,
        "id": "88aoiDhhPQML",
        "colab_type": "code",
        "colab": {},
        "outputId": "9ae0dcf7-db79-43a5-be3b-50c765cf8084"
      },
      "source": [
        "data_summary(ProductDescriptions)"
      ],
      "execution_count": null,
      "outputs": [
        {
          "output_type": "stream",
          "text": [
            "This dataset has 124428 rows, and 2 columns\n",
            " \n",
            "DATA TYPES\n",
            "product_uid             int64\n",
            "product_description    object\n",
            "dtype: object\n",
            " \n",
            "MISSING DATA\n",
            "product_uid            0\n",
            "product_description    0\n",
            "dtype: int64\n",
            " \n",
            "TOP OBSERVATIONS\n"
          ],
          "name": "stdout"
        },
        {
          "output_type": "display_data",
          "data": {
            "text/html": [
              "<div>\n",
              "<style scoped>\n",
              "    .dataframe tbody tr th:only-of-type {\n",
              "        vertical-align: middle;\n",
              "    }\n",
              "\n",
              "    .dataframe tbody tr th {\n",
              "        vertical-align: top;\n",
              "    }\n",
              "\n",
              "    .dataframe thead th {\n",
              "        text-align: right;\n",
              "    }\n",
              "</style>\n",
              "<table border=\"1\" class=\"dataframe\">\n",
              "  <thead>\n",
              "    <tr style=\"text-align: right;\">\n",
              "      <th></th>\n",
              "      <th>product_uid</th>\n",
              "      <th>product_description</th>\n",
              "    </tr>\n",
              "  </thead>\n",
              "  <tbody>\n",
              "    <tr>\n",
              "      <th>0</th>\n",
              "      <td>100001</td>\n",
              "      <td>Not only do angles make joints stronger, they ...</td>\n",
              "    </tr>\n",
              "    <tr>\n",
              "      <th>1</th>\n",
              "      <td>100002</td>\n",
              "      <td>BEHR Premium Textured DECKOVER is an innovativ...</td>\n",
              "    </tr>\n",
              "    <tr>\n",
              "      <th>2</th>\n",
              "      <td>100003</td>\n",
              "      <td>Classic architecture meets contemporary design...</td>\n",
              "    </tr>\n",
              "    <tr>\n",
              "      <th>3</th>\n",
              "      <td>100004</td>\n",
              "      <td>The Grape Solar 265-Watt Polycrystalline PV So...</td>\n",
              "    </tr>\n",
              "    <tr>\n",
              "      <th>4</th>\n",
              "      <td>100005</td>\n",
              "      <td>Update your bathroom with the Delta Vero Singl...</td>\n",
              "    </tr>\n",
              "  </tbody>\n",
              "</table>\n",
              "</div>"
            ],
            "text/plain": [
              "   product_uid                                product_description\n",
              "0       100001  Not only do angles make joints stronger, they ...\n",
              "1       100002  BEHR Premium Textured DECKOVER is an innovativ...\n",
              "2       100003  Classic architecture meets contemporary design...\n",
              "3       100004  The Grape Solar 265-Watt Polycrystalline PV So...\n",
              "4       100005  Update your bathroom with the Delta Vero Singl..."
            ]
          },
          "metadata": {
            "tags": []
          }
        },
        {
          "output_type": "stream",
          "text": [
            "None\n",
            " \n",
            "UNIQUE VALUES IN EACH VARIABLE\n",
            "product_uid            [[100001, 100002, 100003, 100004, 100005, 1000...\n",
            "product_description    [[Not only do angles make joints stronger, the...\n",
            "dtype: object\n",
            " \n",
            "NUMBER OF UNIQUE VALUES IN EACH VARIABLE\n",
            "product_uid            [124428]\n",
            "product_description    [110128]\n",
            "dtype: object\n"
          ],
          "name": "stdout"
        },
        {
          "output_type": "execute_result",
          "data": {
            "text/plain": [
              "(None,\n",
              " None,\n",
              " None,\n",
              " None,\n",
              " None,\n",
              " None,\n",
              " None,\n",
              " None,\n",
              " None,\n",
              " None,\n",
              " None,\n",
              " None,\n",
              " None,\n",
              " None,\n",
              " None,\n",
              " None)"
            ]
          },
          "metadata": {
            "tags": []
          },
          "execution_count": 16
        }
      ]
    },
    {
      "cell_type": "code",
      "metadata": {
        "collapsed": true,
        "id": "yqkwmwP0PQMN",
        "colab_type": "code",
        "colab": {},
        "outputId": "a4f4e9ed-2aaa-46e6-e48f-6e05e3bcc7ca"
      },
      "source": [
        "data_summary(Attributes)"
      ],
      "execution_count": null,
      "outputs": [
        {
          "output_type": "stream",
          "text": [
            "This dataset has 2044803 rows, and 3 columns\n",
            " \n",
            "DATA TYPES\n",
            "product_uid    float64\n",
            "name            object\n",
            "value           object\n",
            "dtype: object\n",
            " \n",
            "MISSING DATA\n",
            "product_uid     155\n",
            "name            155\n",
            "value          2284\n",
            "dtype: int64\n",
            " \n",
            "TOP OBSERVATIONS\n"
          ],
          "name": "stdout"
        },
        {
          "output_type": "display_data",
          "data": {
            "text/html": [
              "<div>\n",
              "<style scoped>\n",
              "    .dataframe tbody tr th:only-of-type {\n",
              "        vertical-align: middle;\n",
              "    }\n",
              "\n",
              "    .dataframe tbody tr th {\n",
              "        vertical-align: top;\n",
              "    }\n",
              "\n",
              "    .dataframe thead th {\n",
              "        text-align: right;\n",
              "    }\n",
              "</style>\n",
              "<table border=\"1\" class=\"dataframe\">\n",
              "  <thead>\n",
              "    <tr style=\"text-align: right;\">\n",
              "      <th></th>\n",
              "      <th>product_uid</th>\n",
              "      <th>name</th>\n",
              "      <th>value</th>\n",
              "    </tr>\n",
              "  </thead>\n",
              "  <tbody>\n",
              "    <tr>\n",
              "      <th>0</th>\n",
              "      <td>100001.0</td>\n",
              "      <td>Bullet01</td>\n",
              "      <td>Versatile connector for various 90Â° connectio...</td>\n",
              "    </tr>\n",
              "    <tr>\n",
              "      <th>1</th>\n",
              "      <td>100001.0</td>\n",
              "      <td>Bullet02</td>\n",
              "      <td>Stronger than angled nailing or screw fastenin...</td>\n",
              "    </tr>\n",
              "    <tr>\n",
              "      <th>2</th>\n",
              "      <td>100001.0</td>\n",
              "      <td>Bullet03</td>\n",
              "      <td>Help ensure joints are consistently straight a...</td>\n",
              "    </tr>\n",
              "    <tr>\n",
              "      <th>3</th>\n",
              "      <td>100001.0</td>\n",
              "      <td>Bullet04</td>\n",
              "      <td>Dimensions: 3 in. x 3 in. x 1-1/2 in.</td>\n",
              "    </tr>\n",
              "    <tr>\n",
              "      <th>4</th>\n",
              "      <td>100001.0</td>\n",
              "      <td>Bullet05</td>\n",
              "      <td>Made from 12-Gauge steel</td>\n",
              "    </tr>\n",
              "  </tbody>\n",
              "</table>\n",
              "</div>"
            ],
            "text/plain": [
              "   product_uid      name                                              value\n",
              "0     100001.0  Bullet01  Versatile connector for various 90Â° connectio...\n",
              "1     100001.0  Bullet02  Stronger than angled nailing or screw fastenin...\n",
              "2     100001.0  Bullet03  Help ensure joints are consistently straight a...\n",
              "3     100001.0  Bullet04              Dimensions: 3 in. x 3 in. x 1-1/2 in.\n",
              "4     100001.0  Bullet05                           Made from 12-Gauge steel"
            ]
          },
          "metadata": {
            "tags": []
          }
        },
        {
          "output_type": "stream",
          "text": [
            "None\n",
            " \n",
            "UNIQUE VALUES IN EACH VARIABLE\n",
            "product_uid    [[100001.0, 100002.0, 100003.0, 100004.0, 1000...\n",
            "name           [[Bullet01, Bullet02, Bullet03, Bullet04, Bull...\n",
            "value          [[Versatile connector for various 90Â° connect...\n",
            "dtype: object\n",
            " \n",
            "NUMBER OF UNIQUE VALUES IN EACH VARIABLE\n",
            "product_uid     [86264]\n",
            "name             [5411]\n",
            "value          [307588]\n",
            "dtype: object\n"
          ],
          "name": "stdout"
        },
        {
          "output_type": "execute_result",
          "data": {
            "text/plain": [
              "(None,\n",
              " None,\n",
              " None,\n",
              " None,\n",
              " None,\n",
              " None,\n",
              " None,\n",
              " None,\n",
              " None,\n",
              " None,\n",
              " None,\n",
              " None,\n",
              " None,\n",
              " None,\n",
              " None,\n",
              " None)"
            ]
          },
          "metadata": {
            "tags": []
          },
          "execution_count": 11
        }
      ]
    },
    {
      "cell_type": "code",
      "metadata": {
        "collapsed": true,
        "id": "DI34aR4kPQMP",
        "colab_type": "code",
        "colab": {},
        "outputId": "0cda5561-16ca-4ab4-95c1-22e439eefb2e"
      },
      "source": [
        "# Extract missing data - few observations have missing data in all their columns or in values columns\n",
        "# Implies when data is missing we can delete those rows\n",
        "Attributes_missing = Attributes[Attributes['product_uid'].isnull() | Attributes['name'].isnull() | Attributes['value'].isnull()]\n",
        "Attributes_missing"
      ],
      "execution_count": null,
      "outputs": [
        {
          "output_type": "execute_result",
          "data": {
            "text/html": [
              "<div>\n",
              "<style scoped>\n",
              "    .dataframe tbody tr th:only-of-type {\n",
              "        vertical-align: middle;\n",
              "    }\n",
              "\n",
              "    .dataframe tbody tr th {\n",
              "        vertical-align: top;\n",
              "    }\n",
              "\n",
              "    .dataframe thead th {\n",
              "        text-align: right;\n",
              "    }\n",
              "</style>\n",
              "<table border=\"1\" class=\"dataframe\">\n",
              "  <thead>\n",
              "    <tr style=\"text-align: right;\">\n",
              "      <th></th>\n",
              "      <th>product_uid</th>\n",
              "      <th>name</th>\n",
              "      <th>value</th>\n",
              "    </tr>\n",
              "  </thead>\n",
              "  <tbody>\n",
              "    <tr>\n",
              "      <th>1022</th>\n",
              "      <td>100044.0</td>\n",
              "      <td>Collection Name</td>\n",
              "      <td>NaN</td>\n",
              "    </tr>\n",
              "    <tr>\n",
              "      <th>1349</th>\n",
              "      <td>100058.0</td>\n",
              "      <td>Battery Size</td>\n",
              "      <td>NaN</td>\n",
              "    </tr>\n",
              "    <tr>\n",
              "      <th>1929</th>\n",
              "      <td>NaN</td>\n",
              "      <td>NaN</td>\n",
              "      <td>NaN</td>\n",
              "    </tr>\n",
              "    <tr>\n",
              "      <th>4094</th>\n",
              "      <td>NaN</td>\n",
              "      <td>NaN</td>\n",
              "      <td>NaN</td>\n",
              "    </tr>\n",
              "    <tr>\n",
              "      <th>4100</th>\n",
              "      <td>NaN</td>\n",
              "      <td>NaN</td>\n",
              "      <td>NaN</td>\n",
              "    </tr>\n",
              "    <tr>\n",
              "      <th>5909</th>\n",
              "      <td>100248.0</td>\n",
              "      <td>Fastener Thread Type</td>\n",
              "      <td>NaN</td>\n",
              "    </tr>\n",
              "    <tr>\n",
              "      <th>6367</th>\n",
              "      <td>100266.0</td>\n",
              "      <td>Drive Style</td>\n",
              "      <td>NaN</td>\n",
              "    </tr>\n",
              "    <tr>\n",
              "      <th>6823</th>\n",
              "      <td>NaN</td>\n",
              "      <td>NaN</td>\n",
              "      <td>NaN</td>\n",
              "    </tr>\n",
              "    <tr>\n",
              "      <th>7898</th>\n",
              "      <td>100329.0</td>\n",
              "      <td>Fastener recommendation</td>\n",
              "      <td>NaN</td>\n",
              "    </tr>\n",
              "    <tr>\n",
              "      <th>7901</th>\n",
              "      <td>100329.0</td>\n",
              "      <td>MFG Brand Name</td>\n",
              "      <td>NaN</td>\n",
              "    </tr>\n",
              "    <tr>\n",
              "      <th>8823</th>\n",
              "      <td>100372.0</td>\n",
              "      <td>Collection Name</td>\n",
              "      <td>NaN</td>\n",
              "    </tr>\n",
              "    <tr>\n",
              "      <th>9131</th>\n",
              "      <td>100386.0</td>\n",
              "      <td>Battery Type Required</td>\n",
              "      <td>NaN</td>\n",
              "    </tr>\n",
              "    <tr>\n",
              "      <th>9589</th>\n",
              "      <td>100403.0</td>\n",
              "      <td>Exact Dry SCOF Rating</td>\n",
              "      <td>NaN</td>\n",
              "    </tr>\n",
              "    <tr>\n",
              "      <th>9590</th>\n",
              "      <td>100403.0</td>\n",
              "      <td>Exact Wet SCOF Rating</td>\n",
              "      <td>NaN</td>\n",
              "    </tr>\n",
              "    <tr>\n",
              "      <th>9595</th>\n",
              "      <td>100403.0</td>\n",
              "      <td>Mosaic Sub Unit Length (in.)</td>\n",
              "      <td>NaN</td>\n",
              "    </tr>\n",
              "    <tr>\n",
              "      <th>9596</th>\n",
              "      <td>100403.0</td>\n",
              "      <td>Mosaic Sub Unit Width (in.)</td>\n",
              "      <td>NaN</td>\n",
              "    </tr>\n",
              "    <tr>\n",
              "      <th>9617</th>\n",
              "      <td>100404.0</td>\n",
              "      <td>Conductor Material</td>\n",
              "      <td>NaN</td>\n",
              "    </tr>\n",
              "    <tr>\n",
              "      <th>10103</th>\n",
              "      <td>100421.0</td>\n",
              "      <td>Security/ANSI Grade</td>\n",
              "      <td>NaN</td>\n",
              "    </tr>\n",
              "    <tr>\n",
              "      <th>10369</th>\n",
              "      <td>100432.0</td>\n",
              "      <td>Min Chuck Size Required</td>\n",
              "      <td>NaN</td>\n",
              "    </tr>\n",
              "    <tr>\n",
              "      <th>13268</th>\n",
              "      <td>100544.0</td>\n",
              "      <td>Color/Finish</td>\n",
              "      <td>NaN</td>\n",
              "    </tr>\n",
              "    <tr>\n",
              "      <th>14420</th>\n",
              "      <td>100592.0</td>\n",
              "      <td>Free Pick-up/Delivery Service</td>\n",
              "      <td>NaN</td>\n",
              "    </tr>\n",
              "    <tr>\n",
              "      <th>15266</th>\n",
              "      <td>100623.0</td>\n",
              "      <td>Color/Pattern</td>\n",
              "      <td>NaN</td>\n",
              "    </tr>\n",
              "    <tr>\n",
              "      <th>15773</th>\n",
              "      <td>100641.0</td>\n",
              "      <td>Security/ANSI Grade</td>\n",
              "      <td>NaN</td>\n",
              "    </tr>\n",
              "    <tr>\n",
              "      <th>22959</th>\n",
              "      <td>100925.0</td>\n",
              "      <td>Security/ANSI Grade</td>\n",
              "      <td>NaN</td>\n",
              "    </tr>\n",
              "    <tr>\n",
              "      <th>23110</th>\n",
              "      <td>100932.0</td>\n",
              "      <td>Exact Dry SCOF Rating</td>\n",
              "      <td>NaN</td>\n",
              "    </tr>\n",
              "    <tr>\n",
              "      <th>23111</th>\n",
              "      <td>100932.0</td>\n",
              "      <td>Exact Wet SCOF Rating</td>\n",
              "      <td>NaN</td>\n",
              "    </tr>\n",
              "    <tr>\n",
              "      <th>23116</th>\n",
              "      <td>100932.0</td>\n",
              "      <td>Mosaic Sub Unit Length (in.)</td>\n",
              "      <td>NaN</td>\n",
              "    </tr>\n",
              "    <tr>\n",
              "      <th>23117</th>\n",
              "      <td>100932.0</td>\n",
              "      <td>Mosaic Sub Unit Width (in.)</td>\n",
              "      <td>NaN</td>\n",
              "    </tr>\n",
              "    <tr>\n",
              "      <th>27575</th>\n",
              "      <td>101118.0</td>\n",
              "      <td>Pattern Match Length (in.)</td>\n",
              "      <td>NaN</td>\n",
              "    </tr>\n",
              "    <tr>\n",
              "      <th>27576</th>\n",
              "      <td>101118.0</td>\n",
              "      <td>Pattern Match Width (in.)</td>\n",
              "      <td>NaN</td>\n",
              "    </tr>\n",
              "    <tr>\n",
              "      <th>...</th>\n",
              "      <td>...</td>\n",
              "      <td>...</td>\n",
              "      <td>...</td>\n",
              "    </tr>\n",
              "    <tr>\n",
              "      <th>2015240</th>\n",
              "      <td>223054.0</td>\n",
              "      <td>Pedestal Model#</td>\n",
              "      <td>NaN</td>\n",
              "    </tr>\n",
              "    <tr>\n",
              "      <th>2015246</th>\n",
              "      <td>223054.0</td>\n",
              "      <td>Stacking Kit Model#</td>\n",
              "      <td>NaN</td>\n",
              "    </tr>\n",
              "    <tr>\n",
              "      <th>2016950</th>\n",
              "      <td>223129.0</td>\n",
              "      <td>Security/ANSI Grade</td>\n",
              "      <td>NaN</td>\n",
              "    </tr>\n",
              "    <tr>\n",
              "      <th>2018658</th>\n",
              "      <td>223206.0</td>\n",
              "      <td>Mount Type</td>\n",
              "      <td>NaN</td>\n",
              "    </tr>\n",
              "    <tr>\n",
              "      <th>2018806</th>\n",
              "      <td>223211.0</td>\n",
              "      <td>Security/ANSI Grade</td>\n",
              "      <td>NaN</td>\n",
              "    </tr>\n",
              "    <tr>\n",
              "      <th>2021918</th>\n",
              "      <td>223362.0</td>\n",
              "      <td>Collection Name</td>\n",
              "      <td>NaN</td>\n",
              "    </tr>\n",
              "    <tr>\n",
              "      <th>2023232</th>\n",
              "      <td>223419.0</td>\n",
              "      <td>Cabinet Type</td>\n",
              "      <td>NaN</td>\n",
              "    </tr>\n",
              "    <tr>\n",
              "      <th>2023808</th>\n",
              "      <td>223446.0</td>\n",
              "      <td>Security/ANSI Grade</td>\n",
              "      <td>NaN</td>\n",
              "    </tr>\n",
              "    <tr>\n",
              "      <th>2024650</th>\n",
              "      <td>223484.0</td>\n",
              "      <td>Min Chuck Size Required</td>\n",
              "      <td>NaN</td>\n",
              "    </tr>\n",
              "    <tr>\n",
              "      <th>2027937</th>\n",
              "      <td>NaN</td>\n",
              "      <td>NaN</td>\n",
              "      <td>NaN</td>\n",
              "    </tr>\n",
              "    <tr>\n",
              "      <th>2028311</th>\n",
              "      <td>223656.0</td>\n",
              "      <td>Control Type</td>\n",
              "      <td>NaN</td>\n",
              "    </tr>\n",
              "    <tr>\n",
              "      <th>2028730</th>\n",
              "      <td>223675.0</td>\n",
              "      <td>Security/ANSI Grade</td>\n",
              "      <td>NaN</td>\n",
              "    </tr>\n",
              "    <tr>\n",
              "      <th>2029302</th>\n",
              "      <td>223700.0</td>\n",
              "      <td>Fastener Head Style</td>\n",
              "      <td>NaN</td>\n",
              "    </tr>\n",
              "    <tr>\n",
              "      <th>2029458</th>\n",
              "      <td>223708.0</td>\n",
              "      <td>Fastener Head Style</td>\n",
              "      <td>NaN</td>\n",
              "    </tr>\n",
              "    <tr>\n",
              "      <th>2029637</th>\n",
              "      <td>223719.0</td>\n",
              "      <td>Collection Name</td>\n",
              "      <td>NaN</td>\n",
              "    </tr>\n",
              "    <tr>\n",
              "      <th>2029915</th>\n",
              "      <td>223734.0</td>\n",
              "      <td>Battery Type Required</td>\n",
              "      <td>NaN</td>\n",
              "    </tr>\n",
              "    <tr>\n",
              "      <th>2030067</th>\n",
              "      <td>223743.0</td>\n",
              "      <td>Battery Size</td>\n",
              "      <td>NaN</td>\n",
              "    </tr>\n",
              "    <tr>\n",
              "      <th>2030483</th>\n",
              "      <td>223757.0</td>\n",
              "      <td>Bullet05</td>\n",
              "      <td>NaN</td>\n",
              "    </tr>\n",
              "    <tr>\n",
              "      <th>2033302</th>\n",
              "      <td>223892.0</td>\n",
              "      <td>On-Unit Display</td>\n",
              "      <td>NaN</td>\n",
              "    </tr>\n",
              "    <tr>\n",
              "      <th>2033376</th>\n",
              "      <td>223895.0</td>\n",
              "      <td>Min Chuck Size Required</td>\n",
              "      <td>NaN</td>\n",
              "    </tr>\n",
              "    <tr>\n",
              "      <th>2035458</th>\n",
              "      <td>223996.0</td>\n",
              "      <td>Hardware Finish Family</td>\n",
              "      <td>NaN</td>\n",
              "    </tr>\n",
              "    <tr>\n",
              "      <th>2035918</th>\n",
              "      <td>224018.0</td>\n",
              "      <td>Collection Name</td>\n",
              "      <td>NaN</td>\n",
              "    </tr>\n",
              "    <tr>\n",
              "      <th>2036568</th>\n",
              "      <td>224046.0</td>\n",
              "      <td>Security/ANSI Grade</td>\n",
              "      <td>NaN</td>\n",
              "    </tr>\n",
              "    <tr>\n",
              "      <th>2037241</th>\n",
              "      <td>224077.0</td>\n",
              "      <td>Security/ANSI Grade</td>\n",
              "      <td>NaN</td>\n",
              "    </tr>\n",
              "    <tr>\n",
              "      <th>2038883</th>\n",
              "      <td>224152.0</td>\n",
              "      <td>Claw Type</td>\n",
              "      <td>NaN</td>\n",
              "    </tr>\n",
              "    <tr>\n",
              "      <th>2040533</th>\n",
              "      <td>224234.0</td>\n",
              "      <td>Hardware Finish Family</td>\n",
              "      <td>NaN</td>\n",
              "    </tr>\n",
              "    <tr>\n",
              "      <th>2040775</th>\n",
              "      <td>224246.0</td>\n",
              "      <td>Mosaic Sub Unit Length (in.)</td>\n",
              "      <td>NaN</td>\n",
              "    </tr>\n",
              "    <tr>\n",
              "      <th>2040776</th>\n",
              "      <td>224246.0</td>\n",
              "      <td>Mosaic Sub Unit Width (in.)</td>\n",
              "      <td>NaN</td>\n",
              "    </tr>\n",
              "    <tr>\n",
              "      <th>2041817</th>\n",
              "      <td>224289.0</td>\n",
              "      <td>Bore offset</td>\n",
              "      <td>NaN</td>\n",
              "    </tr>\n",
              "    <tr>\n",
              "      <th>2044339</th>\n",
              "      <td>224407.0</td>\n",
              "      <td>Security/ANSI Grade</td>\n",
              "      <td>NaN</td>\n",
              "    </tr>\n",
              "  </tbody>\n",
              "</table>\n",
              "<p>2284 rows × 3 columns</p>\n",
              "</div>"
            ],
            "text/plain": [
              "         product_uid                           name value\n",
              "1022        100044.0                Collection Name   NaN\n",
              "1349        100058.0                   Battery Size   NaN\n",
              "1929             NaN                            NaN   NaN\n",
              "4094             NaN                            NaN   NaN\n",
              "4100             NaN                            NaN   NaN\n",
              "5909        100248.0           Fastener Thread Type   NaN\n",
              "6367        100266.0                    Drive Style   NaN\n",
              "6823             NaN                            NaN   NaN\n",
              "7898        100329.0        Fastener recommendation   NaN\n",
              "7901        100329.0                 MFG Brand Name   NaN\n",
              "8823        100372.0                Collection Name   NaN\n",
              "9131        100386.0          Battery Type Required   NaN\n",
              "9589        100403.0          Exact Dry SCOF Rating   NaN\n",
              "9590        100403.0          Exact Wet SCOF Rating   NaN\n",
              "9595        100403.0   Mosaic Sub Unit Length (in.)   NaN\n",
              "9596        100403.0    Mosaic Sub Unit Width (in.)   NaN\n",
              "9617        100404.0             Conductor Material   NaN\n",
              "10103       100421.0            Security/ANSI Grade   NaN\n",
              "10369       100432.0        Min Chuck Size Required   NaN\n",
              "13268       100544.0                   Color/Finish   NaN\n",
              "14420       100592.0  Free Pick-up/Delivery Service   NaN\n",
              "15266       100623.0                  Color/Pattern   NaN\n",
              "15773       100641.0            Security/ANSI Grade   NaN\n",
              "22959       100925.0            Security/ANSI Grade   NaN\n",
              "23110       100932.0          Exact Dry SCOF Rating   NaN\n",
              "23111       100932.0          Exact Wet SCOF Rating   NaN\n",
              "23116       100932.0   Mosaic Sub Unit Length (in.)   NaN\n",
              "23117       100932.0    Mosaic Sub Unit Width (in.)   NaN\n",
              "27575       101118.0     Pattern Match Length (in.)   NaN\n",
              "27576       101118.0      Pattern Match Width (in.)   NaN\n",
              "...              ...                            ...   ...\n",
              "2015240     223054.0                Pedestal Model#   NaN\n",
              "2015246     223054.0            Stacking Kit Model#   NaN\n",
              "2016950     223129.0            Security/ANSI Grade   NaN\n",
              "2018658     223206.0                     Mount Type   NaN\n",
              "2018806     223211.0            Security/ANSI Grade   NaN\n",
              "2021918     223362.0                Collection Name   NaN\n",
              "2023232     223419.0                   Cabinet Type   NaN\n",
              "2023808     223446.0            Security/ANSI Grade   NaN\n",
              "2024650     223484.0        Min Chuck Size Required   NaN\n",
              "2027937          NaN                            NaN   NaN\n",
              "2028311     223656.0                   Control Type   NaN\n",
              "2028730     223675.0            Security/ANSI Grade   NaN\n",
              "2029302     223700.0            Fastener Head Style   NaN\n",
              "2029458     223708.0            Fastener Head Style   NaN\n",
              "2029637     223719.0                Collection Name   NaN\n",
              "2029915     223734.0          Battery Type Required   NaN\n",
              "2030067     223743.0                   Battery Size   NaN\n",
              "2030483     223757.0                       Bullet05   NaN\n",
              "2033302     223892.0                On-Unit Display   NaN\n",
              "2033376     223895.0        Min Chuck Size Required   NaN\n",
              "2035458     223996.0         Hardware Finish Family   NaN\n",
              "2035918     224018.0                Collection Name   NaN\n",
              "2036568     224046.0            Security/ANSI Grade   NaN\n",
              "2037241     224077.0            Security/ANSI Grade   NaN\n",
              "2038883     224152.0                      Claw Type   NaN\n",
              "2040533     224234.0         Hardware Finish Family   NaN\n",
              "2040775     224246.0   Mosaic Sub Unit Length (in.)   NaN\n",
              "2040776     224246.0    Mosaic Sub Unit Width (in.)   NaN\n",
              "2041817     224289.0                    Bore offset   NaN\n",
              "2044339     224407.0            Security/ANSI Grade   NaN\n",
              "\n",
              "[2284 rows x 3 columns]"
            ]
          },
          "metadata": {
            "tags": []
          },
          "execution_count": 35
        }
      ]
    },
    {
      "cell_type": "code",
      "metadata": {
        "id": "zqh4I5PcPQMT",
        "colab_type": "code",
        "colab": {},
        "outputId": "a00cf5f9-c29a-44d9-c8b4-7fc5e06fde7f"
      },
      "source": [
        "# Extract only observations with no missing data\n",
        "Attributes_NoMissing = Attributes[Attributes['value'].notnull()]\n",
        "len(Attributes_NoMissing)"
      ],
      "execution_count": null,
      "outputs": [
        {
          "output_type": "execute_result",
          "data": {
            "text/plain": [
              "2042519"
            ]
          },
          "metadata": {
            "tags": []
          },
          "execution_count": 36
        }
      ]
    },
    {
      "cell_type": "markdown",
      "metadata": {
        "id": "SjwDtP2IPQMW",
        "colab_type": "text"
      },
      "source": [
        "##### How many prodcut_ids are in Train, Test or both"
      ]
    },
    {
      "cell_type": "code",
      "metadata": {
        "scrolled": false,
        "id": "nPwqQcoGPQMW",
        "colab_type": "code",
        "colab": {},
        "outputId": "05e747c5-722c-452a-a354-606315d38621"
      },
      "source": [
        "from matplotlib_venn import venn2\n",
        "venn2([set(Train[\"product_uid\"]), set(Test[\"product_uid\"])],set_labels=('Train', 'Test'))\n",
        "plt.show()"
      ],
      "execution_count": null,
      "outputs": [
        {
          "output_type": "display_data",
          "data": {
            "image/png": "[encoded data removed]",
            "text/plain": [
              "<Figure size 432x288 with 1 Axes>"
            ]
          },
          "metadata": {
            "tags": []
          }
        }
      ]
    },
    {
      "cell_type": "code",
      "metadata": {
        "id": "lc4x274KPQMY",
        "colab_type": "code",
        "colab": {},
        "outputId": "a769269d-3847-4ec9-cb92-a0e35c7b7681"
      },
      "source": [
        "# Total distinct product ids of Train and Test \n",
        "ProductIDs_Train_Test = set(pd.unique(Train['product_uid'])).union(set(pd.unique(Test['product_uid'])))\n",
        "len(ProductIDs_Train_Test)\n",
        "\n",
        "# Check if all the IDs of Test_Train are present in ProductDescriptions - TRUE\n",
        "ProductIDs_Both = ProductIDs_Train_Test.intersection(set(pd.unique(ProductDescriptions['product_uid'])))\n",
        "len(ProductIDs_Both)\n",
        "\n",
        "# All the Train & Test product_uid have product descriptions - So this variable can alos be used"
      ],
      "execution_count": null,
      "outputs": [
        {
          "output_type": "execute_result",
          "data": {
            "text/plain": [
              "124428"
            ]
          },
          "metadata": {
            "tags": []
          },
          "execution_count": 30
        }
      ]
    },
    {
      "cell_type": "markdown",
      "metadata": {
        "id": "-w82oqJNPQMa",
        "colab_type": "text"
      },
      "source": [
        "##### How many search_terms are in Train, Test or both"
      ]
    },
    {
      "cell_type": "code",
      "metadata": {
        "scrolled": true,
        "id": "ZmjTS01iPQMa",
        "colab_type": "code",
        "colab": {},
        "outputId": "208c48bb-01ab-46ff-8fbf-901f1ab74074"
      },
      "source": [
        "from matplotlib_venn import venn2\n",
        "venn2([set(Train[\"search_term\"]), set(Test[\"search_term\"])],set_labels=('Train', 'Test'))\n",
        "plt.show()"
      ],
      "execution_count": null,
      "outputs": [
        {
          "output_type": "display_data",
          "data": {
            "image/png": "[encoded data removed]",
            "text/plain": [
              "<Figure size 432x288 with 1 Axes>"
            ]
          },
          "metadata": {
            "tags": []
          }
        }
      ]
    },
    {
      "cell_type": "markdown",
      "metadata": {
        "id": "sNYXuMI-PQMc",
        "colab_type": "text"
      },
      "source": [
        "##### Distribution of Relevance scores"
      ]
    },
    {
      "cell_type": "code",
      "metadata": {
        "scrolled": true,
        "id": "D8AATvrKPQMd",
        "colab_type": "code",
        "colab": {},
        "outputId": "f25a0997-0519-4636-edff-b257f3cf8e7b"
      },
      "source": [
        "Train.relevance.hist(color='c', alpha=0.5)\n",
        "plt.show()"
      ],
      "execution_count": null,
      "outputs": [
        {
          "output_type": "display_data",
          "data": {
            "image/png": "[encoded data removed]",
            "text/plain": [
              "<Figure size 432x288 with 1 Axes>"
            ]
          },
          "metadata": {
            "tags": [],
            "needs_background": "light"
          }
        }
      ]
    },
    {
      "cell_type": "code",
      "metadata": {
        "scrolled": false,
        "id": "2yWevKl4PQMe",
        "colab_type": "code",
        "colab": {},
        "outputId": "b2a21e7c-f209-415d-e42e-b1ac9e0cb60a"
      },
      "source": [
        "sns.countplot(x=\"relevance\", data=Train, color=\"c\")\n",
        "plt.show()"
      ],
      "execution_count": null,
      "outputs": [
        {
          "output_type": "display_data",
          "data": {
            "image/png": "[encoded data removed]",
            "text/plain": [
              "<Figure size 432x288 with 1 Axes>"
            ]
          },
          "metadata": {
            "tags": [],
            "needs_background": "light"
          }
        }
      ]
    },
    {
      "cell_type": "markdown",
      "metadata": {
        "id": "eAeGkffOPQMh",
        "colab_type": "text"
      },
      "source": [
        "##### Attribute types"
      ]
    },
    {
      "cell_type": "code",
      "metadata": {
        "id": "OMflcx6APQMh",
        "colab_type": "code",
        "colab": {},
        "outputId": "e1b43097-9672-4893-fe95-a331951574ed"
      },
      "source": [
        "# Frequency of different Attribute types - 5411 distinct attribute types\n",
        "Attributes_NoMissing.name.value_counts().head(10)"
      ],
      "execution_count": null,
      "outputs": [
        {
          "output_type": "execute_result",
          "data": {
            "text/plain": [
              "Bullet02                86248\n",
              "Bullet03                86226\n",
              "MFG Brand Name          86185\n",
              "Bullet04                86174\n",
              "Bullet01                85940\n",
              "Product Width (in.)     61137\n",
              "Bullet05                60528\n",
              "Product Height (in.)    54698\n",
              "Product Depth (in.)     53652\n",
              "Product Weight (lb.)    45175\n",
              "Name: name, dtype: int64"
            ]
          },
          "metadata": {
            "tags": []
          },
          "execution_count": 49
        }
      ]
    },
    {
      "cell_type": "markdown",
      "metadata": {
        "id": "yn0UOQe0PQMj",
        "colab_type": "text"
      },
      "source": [
        "# Data Pre-processing"
      ]
    },
    {
      "cell_type": "markdown",
      "metadata": {
        "id": "eAKsTCEZPQMj",
        "colab_type": "text"
      },
      "source": [
        "#####  Spell checking"
      ]
    },
    {
      "cell_type": "code",
      "metadata": {
        "id": "Y-Fs4BOLPQMj",
        "colab_type": "code",
        "colab": {}
      },
      "source": [
        "def spell_check(text):\n",
        "    for key in spell_check_dict:\n",
        "        text = text.replace(key, spell_check_dict[key])\n",
        "    return text"
      ],
      "execution_count": null,
      "outputs": []
    },
    {
      "cell_type": "code",
      "metadata": {
        "id": "exh7lC-fPQMl",
        "colab_type": "code",
        "colab": {},
        "outputId": "a2c297e4-7fc3-4502-9812-2f50e04801c9"
      },
      "source": [
        "Train['search_term'].map(lambda x:spell_check(str(x)))"
      ],
      "execution_count": null,
      "outputs": [
        {
          "output_type": "error",
          "ename": "NameError",
          "evalue": "name 'spell_check_dict' is not defined",
          "traceback": [
            "\u001b[1;31m---------------------------------------------------------------------------\u001b[0m",
            "\u001b[1;31mNameError\u001b[0m                                 Traceback (most recent call last)",
            "\u001b[1;32m<ipython-input-5-7a1d4e0f863c>\u001b[0m in \u001b[0;36m<module>\u001b[1;34m\u001b[0m\n\u001b[1;32m----> 1\u001b[1;33m \u001b[0mTrain\u001b[0m\u001b[1;33m[\u001b[0m\u001b[1;34m'search_term'\u001b[0m\u001b[1;33m]\u001b[0m\u001b[1;33m.\u001b[0m\u001b[0mmap\u001b[0m\u001b[1;33m(\u001b[0m\u001b[1;32mlambda\u001b[0m \u001b[0mx\u001b[0m\u001b[1;33m:\u001b[0m\u001b[0mspell_check\u001b[0m\u001b[1;33m(\u001b[0m\u001b[0mstr\u001b[0m\u001b[1;33m(\u001b[0m\u001b[0mx\u001b[0m\u001b[1;33m)\u001b[0m\u001b[1;33m)\u001b[0m\u001b[1;33m)\u001b[0m\u001b[1;33m\u001b[0m\u001b[1;33m\u001b[0m\u001b[0m\n\u001b[0m",
            "\u001b[1;32mC:\\ProgramData\\Anaconda3\\lib\\site-packages\\pandas\\core\\series.py\u001b[0m in \u001b[0;36mmap\u001b[1;34m(self, arg, na_action)\u001b[0m\n\u001b[0;32m   2996\u001b[0m         \"\"\"\n\u001b[0;32m   2997\u001b[0m         new_values = super(Series, self)._map_values(\n\u001b[1;32m-> 2998\u001b[1;33m             arg, na_action=na_action)\n\u001b[0m\u001b[0;32m   2999\u001b[0m         return self._constructor(new_values,\n\u001b[0;32m   3000\u001b[0m                                  index=self.index).__finalize__(self)\n",
            "\u001b[1;32mC:\\ProgramData\\Anaconda3\\lib\\site-packages\\pandas\\core\\base.py\u001b[0m in \u001b[0;36m_map_values\u001b[1;34m(self, mapper, na_action)\u001b[0m\n\u001b[0;32m   1002\u001b[0m \u001b[1;33m\u001b[0m\u001b[0m\n\u001b[0;32m   1003\u001b[0m         \u001b[1;31m# mapper is a function\u001b[0m\u001b[1;33m\u001b[0m\u001b[1;33m\u001b[0m\u001b[1;33m\u001b[0m\u001b[0m\n\u001b[1;32m-> 1004\u001b[1;33m         \u001b[0mnew_values\u001b[0m \u001b[1;33m=\u001b[0m \u001b[0mmap_f\u001b[0m\u001b[1;33m(\u001b[0m\u001b[0mvalues\u001b[0m\u001b[1;33m,\u001b[0m \u001b[0mmapper\u001b[0m\u001b[1;33m)\u001b[0m\u001b[1;33m\u001b[0m\u001b[1;33m\u001b[0m\u001b[0m\n\u001b[0m\u001b[0;32m   1005\u001b[0m \u001b[1;33m\u001b[0m\u001b[0m\n\u001b[0;32m   1006\u001b[0m         \u001b[1;32mreturn\u001b[0m \u001b[0mnew_values\u001b[0m\u001b[1;33m\u001b[0m\u001b[1;33m\u001b[0m\u001b[0m\n",
            "\u001b[1;32mpandas/_libs/src\\inference.pyx\u001b[0m in \u001b[0;36mpandas._libs.lib.map_infer\u001b[1;34m()\u001b[0m\n",
            "\u001b[1;32m<ipython-input-5-7a1d4e0f863c>\u001b[0m in \u001b[0;36m<lambda>\u001b[1;34m(x)\u001b[0m\n\u001b[1;32m----> 1\u001b[1;33m \u001b[0mTrain\u001b[0m\u001b[1;33m[\u001b[0m\u001b[1;34m'search_term'\u001b[0m\u001b[1;33m]\u001b[0m\u001b[1;33m.\u001b[0m\u001b[0mmap\u001b[0m\u001b[1;33m(\u001b[0m\u001b[1;32mlambda\u001b[0m \u001b[0mx\u001b[0m\u001b[1;33m:\u001b[0m\u001b[0mspell_check\u001b[0m\u001b[1;33m(\u001b[0m\u001b[0mstr\u001b[0m\u001b[1;33m(\u001b[0m\u001b[0mx\u001b[0m\u001b[1;33m)\u001b[0m\u001b[1;33m)\u001b[0m\u001b[1;33m)\u001b[0m\u001b[1;33m\u001b[0m\u001b[1;33m\u001b[0m\u001b[0m\n\u001b[0m",
            "\u001b[1;32m<ipython-input-1-ce9281948aa5>\u001b[0m in \u001b[0;36mspell_check\u001b[1;34m(text)\u001b[0m\n\u001b[0;32m      1\u001b[0m \u001b[1;32mdef\u001b[0m \u001b[0mspell_check\u001b[0m\u001b[1;33m(\u001b[0m\u001b[0mtext\u001b[0m\u001b[1;33m)\u001b[0m\u001b[1;33m:\u001b[0m\u001b[1;33m\u001b[0m\u001b[1;33m\u001b[0m\u001b[0m\n\u001b[1;32m----> 2\u001b[1;33m     \u001b[1;32mfor\u001b[0m \u001b[0mkey\u001b[0m \u001b[1;32min\u001b[0m \u001b[0mspell_check_dict\u001b[0m\u001b[1;33m:\u001b[0m\u001b[1;33m\u001b[0m\u001b[1;33m\u001b[0m\u001b[0m\n\u001b[0m\u001b[0;32m      3\u001b[0m         \u001b[0mtext\u001b[0m \u001b[1;33m=\u001b[0m \u001b[0mtext\u001b[0m\u001b[1;33m.\u001b[0m\u001b[0mreplace\u001b[0m\u001b[1;33m(\u001b[0m\u001b[0mkey\u001b[0m\u001b[1;33m,\u001b[0m \u001b[0mspell_check_dict\u001b[0m\u001b[1;33m[\u001b[0m\u001b[0mkey\u001b[0m\u001b[1;33m]\u001b[0m\u001b[1;33m)\u001b[0m\u001b[1;33m\u001b[0m\u001b[1;33m\u001b[0m\u001b[0m\n\u001b[0;32m      4\u001b[0m     \u001b[1;32mreturn\u001b[0m \u001b[0mtext\u001b[0m\u001b[1;33m\u001b[0m\u001b[1;33m\u001b[0m\u001b[0m\n",
            "\u001b[1;31mNameError\u001b[0m: name 'spell_check_dict' is not defined"
          ]
        }
      ]
    },
    {
      "cell_type": "code",
      "metadata": {
        "id": "TkfMVYDPPQMn",
        "colab_type": "code",
        "colab": {}
      },
      "source": [
        "import requests\n",
        "import re\n",
        "import time\n",
        "from random import randint\n",
        "\n",
        "START_SPELL_CHECK=\"<span class=\\\"spell\\\">Showing results for</span>\"\n",
        "END_SPELL_CHECK=\"<br><span class=\\\"spell_orig\\\">Search instead for\"\n",
        "\n",
        "HTML_Codes = (\n",
        "\t\t(\"'\", '&#39;'),\n",
        "\t\t('\"', '&quot;'),\n",
        "\t\t('>', '&gt;'),\n",
        "\t\t('<', '&lt;'),\n",
        "\t\t('&', '&amp;'),\n",
        ")\n",
        "\n",
        "def spell_check(s):\n",
        "\tq = '+'.join(s.split())\n",
        "\ttime.sleep(  randint(0,2) ) #relax and don't let google be angry\n",
        "\tr = requests.get(\"https://www.google.co.uk/search?q=\"+q)\n",
        "\tcontent = r.text\n",
        "\tstart=content.find(START_SPELL_CHECK) \n",
        "\tif ( start > -1 ):\n",
        "\t\tstart = start + len(START_SPELL_CHECK)\n",
        "\t\tend=content.find(END_SPELL_CHECK)\n",
        "\t\tsearch= content[start:end]\n",
        "\t\tsearch = re.sub(r'<[^>]+>', '', search)\n",
        "\t\tfor code in HTML_Codes:\n",
        "\t\t\tsearch = search.replace(code[1], code[0])\n",
        "\t\tsearch = search[1:]\n",
        "\telse:\n",
        "\t\tsearch = s\n",
        "\treturn search ;\n",
        "\n",
        "\n",
        "###samples\n",
        "#searches = [ \"metal plate cover gcfi\", 'artric air portable\", \"roll roofing lap cemet\", \"basemetnt window\", \n",
        "#            \"vynal grip strip\", \"lawn mower- electic\" ]\n",
        " \n",
        "#for search in searches:\n",
        "\t#speel_check_search= spell_check(search)\n",
        "\t#print (search+\"->\" + speel_check_search)"
      ],
      "execution_count": null,
      "outputs": []
    },
    {
      "cell_type": "code",
      "metadata": {
        "id": "H76aX8oQPQMo",
        "colab_type": "code",
        "colab": {}
      },
      "source": [
        "searches = [ \"metal plate cver gcfi\", \"artric air portable\", ]"
      ],
      "execution_count": null,
      "outputs": []
    },
    {
      "cell_type": "code",
      "metadata": {
        "id": "GOhOcBNQPQMq",
        "colab_type": "code",
        "colab": {},
        "outputId": "37191715-f931-45a8-aff3-47dee28fb019"
      },
      "source": [
        "for search in searches:\n",
        "\tspeel_check_search= spell_check(search)\n",
        "\tprint (search+\"->\" + speel_check_search)"
      ],
      "execution_count": null,
      "outputs": [
        {
          "output_type": "stream",
          "text": [
            "metal plate cver gcfi->metal plate cver gcfi\n",
            "artric air portable->artric air portable\n"
          ],
          "name": "stdout"
        }
      ]
    },
    {
      "cell_type": "code",
      "metadata": {
        "id": "gZ0X25C9PQMs",
        "colab_type": "code",
        "colab": {},
        "outputId": "1f1f2713-c350-4ea1-83a2-084afe1da632"
      },
      "source": [
        "spell_check(\"gas mowe\")"
      ],
      "execution_count": null,
      "outputs": [
        {
          "output_type": "execute_result",
          "data": {
            "text/plain": [
              "'gas mowe'"
            ]
          },
          "metadata": {
            "tags": []
          },
          "execution_count": 18
        }
      ]
    },
    {
      "cell_type": "code",
      "metadata": {
        "id": "FcKOV_WcPQMu",
        "colab_type": "code",
        "colab": {}
      },
      "source": [
        ""
      ],
      "execution_count": null,
      "outputs": []
    },
    {
      "cell_type": "code",
      "metadata": {
        "id": "cuhwK0EjPQMw",
        "colab_type": "code",
        "colab": {}
      },
      "source": [
        "# Define the spelling correction function.\n",
        "# This uses a pre-defined dictionary of spelling mistakes for improved efficiency.\n",
        "\n",
        "def spell_check(text):\n",
        "    for key in spell_check_dict:\n",
        "        text = text.replace(key, spell_check_dict[key])\n",
        "    return text"
      ],
      "execution_count": null,
      "outputs": []
    },
    {
      "cell_type": "code",
      "metadata": {
        "collapsed": true,
        "id": "tq--cZklPQMx",
        "colab_type": "code",
        "colab": {},
        "outputId": "094909e7-31d5-4a6b-c54e-651616efc9ad"
      },
      "source": [
        "# Run the spelling correction on the search term field in the training and testing set.\n",
        "# Spelling correction is not performed on the description and attribute datasets as\n",
        "# the assumption is made that the website contained correct spelling.\n",
        "start_time = time.time()\n",
        "\n",
        "Test['search_term'] = Test['search_term'].map(lambda x:spell_check(str(x)))\n",
        "Train['search_term'] = Train['search_term'].map(lambda x:spell_check(str(x)))\n",
        "\n",
        "print(\"--- %s seconds ---\" % (time.time() - start_time))"
      ],
      "execution_count": null,
      "outputs": [
        {
          "output_type": "error",
          "ename": "NameError",
          "evalue": "name 'spell_check_dict' is not defined",
          "traceback": [
            "\u001b[1;31m---------------------------------------------------------------------------\u001b[0m",
            "\u001b[1;31mNameError\u001b[0m                                 Traceback (most recent call last)",
            "\u001b[1;32m<ipython-input-22-dcc4f65492a3>\u001b[0m in \u001b[0;36m<module>\u001b[1;34m\u001b[0m\n\u001b[0;32m      4\u001b[0m \u001b[0mstart_time\u001b[0m \u001b[1;33m=\u001b[0m \u001b[0mtime\u001b[0m\u001b[1;33m.\u001b[0m\u001b[0mtime\u001b[0m\u001b[1;33m(\u001b[0m\u001b[1;33m)\u001b[0m\u001b[1;33m\u001b[0m\u001b[1;33m\u001b[0m\u001b[0m\n\u001b[0;32m      5\u001b[0m \u001b[1;33m\u001b[0m\u001b[0m\n\u001b[1;32m----> 6\u001b[1;33m \u001b[0mTest\u001b[0m\u001b[1;33m[\u001b[0m\u001b[1;34m'search_term'\u001b[0m\u001b[1;33m]\u001b[0m \u001b[1;33m=\u001b[0m \u001b[0mTest\u001b[0m\u001b[1;33m[\u001b[0m\u001b[1;34m'search_term'\u001b[0m\u001b[1;33m]\u001b[0m\u001b[1;33m.\u001b[0m\u001b[0mmap\u001b[0m\u001b[1;33m(\u001b[0m\u001b[1;32mlambda\u001b[0m \u001b[0mx\u001b[0m\u001b[1;33m:\u001b[0m\u001b[0mspell_check\u001b[0m\u001b[1;33m(\u001b[0m\u001b[0mstr\u001b[0m\u001b[1;33m(\u001b[0m\u001b[0mx\u001b[0m\u001b[1;33m)\u001b[0m\u001b[1;33m)\u001b[0m\u001b[1;33m)\u001b[0m\u001b[1;33m\u001b[0m\u001b[1;33m\u001b[0m\u001b[0m\n\u001b[0m\u001b[0;32m      7\u001b[0m \u001b[0mTrain\u001b[0m\u001b[1;33m[\u001b[0m\u001b[1;34m'search_term'\u001b[0m\u001b[1;33m]\u001b[0m \u001b[1;33m=\u001b[0m \u001b[0mTrain\u001b[0m\u001b[1;33m[\u001b[0m\u001b[1;34m'search_term'\u001b[0m\u001b[1;33m]\u001b[0m\u001b[1;33m.\u001b[0m\u001b[0mmap\u001b[0m\u001b[1;33m(\u001b[0m\u001b[1;32mlambda\u001b[0m \u001b[0mx\u001b[0m\u001b[1;33m:\u001b[0m\u001b[0mspell_check\u001b[0m\u001b[1;33m(\u001b[0m\u001b[0mstr\u001b[0m\u001b[1;33m(\u001b[0m\u001b[0mx\u001b[0m\u001b[1;33m)\u001b[0m\u001b[1;33m)\u001b[0m\u001b[1;33m)\u001b[0m\u001b[1;33m\u001b[0m\u001b[1;33m\u001b[0m\u001b[0m\n\u001b[0;32m      8\u001b[0m \u001b[1;33m\u001b[0m\u001b[0m\n",
            "\u001b[1;32mC:\\ProgramData\\Anaconda3\\lib\\site-packages\\pandas\\core\\series.py\u001b[0m in \u001b[0;36mmap\u001b[1;34m(self, arg, na_action)\u001b[0m\n\u001b[0;32m   2996\u001b[0m         \"\"\"\n\u001b[0;32m   2997\u001b[0m         new_values = super(Series, self)._map_values(\n\u001b[1;32m-> 2998\u001b[1;33m             arg, na_action=na_action)\n\u001b[0m\u001b[0;32m   2999\u001b[0m         return self._constructor(new_values,\n\u001b[0;32m   3000\u001b[0m                                  index=self.index).__finalize__(self)\n",
            "\u001b[1;32mC:\\ProgramData\\Anaconda3\\lib\\site-packages\\pandas\\core\\base.py\u001b[0m in \u001b[0;36m_map_values\u001b[1;34m(self, mapper, na_action)\u001b[0m\n\u001b[0;32m   1002\u001b[0m \u001b[1;33m\u001b[0m\u001b[0m\n\u001b[0;32m   1003\u001b[0m         \u001b[1;31m# mapper is a function\u001b[0m\u001b[1;33m\u001b[0m\u001b[1;33m\u001b[0m\u001b[1;33m\u001b[0m\u001b[0m\n\u001b[1;32m-> 1004\u001b[1;33m         \u001b[0mnew_values\u001b[0m \u001b[1;33m=\u001b[0m \u001b[0mmap_f\u001b[0m\u001b[1;33m(\u001b[0m\u001b[0mvalues\u001b[0m\u001b[1;33m,\u001b[0m \u001b[0mmapper\u001b[0m\u001b[1;33m)\u001b[0m\u001b[1;33m\u001b[0m\u001b[1;33m\u001b[0m\u001b[0m\n\u001b[0m\u001b[0;32m   1005\u001b[0m \u001b[1;33m\u001b[0m\u001b[0m\n\u001b[0;32m   1006\u001b[0m         \u001b[1;32mreturn\u001b[0m \u001b[0mnew_values\u001b[0m\u001b[1;33m\u001b[0m\u001b[1;33m\u001b[0m\u001b[0m\n",
            "\u001b[1;32mpandas/_libs/src\\inference.pyx\u001b[0m in \u001b[0;36mpandas._libs.lib.map_infer\u001b[1;34m()\u001b[0m\n",
            "\u001b[1;32m<ipython-input-22-dcc4f65492a3>\u001b[0m in \u001b[0;36m<lambda>\u001b[1;34m(x)\u001b[0m\n\u001b[0;32m      4\u001b[0m \u001b[0mstart_time\u001b[0m \u001b[1;33m=\u001b[0m \u001b[0mtime\u001b[0m\u001b[1;33m.\u001b[0m\u001b[0mtime\u001b[0m\u001b[1;33m(\u001b[0m\u001b[1;33m)\u001b[0m\u001b[1;33m\u001b[0m\u001b[1;33m\u001b[0m\u001b[0m\n\u001b[0;32m      5\u001b[0m \u001b[1;33m\u001b[0m\u001b[0m\n\u001b[1;32m----> 6\u001b[1;33m \u001b[0mTest\u001b[0m\u001b[1;33m[\u001b[0m\u001b[1;34m'search_term'\u001b[0m\u001b[1;33m]\u001b[0m \u001b[1;33m=\u001b[0m \u001b[0mTest\u001b[0m\u001b[1;33m[\u001b[0m\u001b[1;34m'search_term'\u001b[0m\u001b[1;33m]\u001b[0m\u001b[1;33m.\u001b[0m\u001b[0mmap\u001b[0m\u001b[1;33m(\u001b[0m\u001b[1;32mlambda\u001b[0m \u001b[0mx\u001b[0m\u001b[1;33m:\u001b[0m\u001b[0mspell_check\u001b[0m\u001b[1;33m(\u001b[0m\u001b[0mstr\u001b[0m\u001b[1;33m(\u001b[0m\u001b[0mx\u001b[0m\u001b[1;33m)\u001b[0m\u001b[1;33m)\u001b[0m\u001b[1;33m)\u001b[0m\u001b[1;33m\u001b[0m\u001b[1;33m\u001b[0m\u001b[0m\n\u001b[0m\u001b[0;32m      7\u001b[0m \u001b[0mTrain\u001b[0m\u001b[1;33m[\u001b[0m\u001b[1;34m'search_term'\u001b[0m\u001b[1;33m]\u001b[0m \u001b[1;33m=\u001b[0m \u001b[0mTrain\u001b[0m\u001b[1;33m[\u001b[0m\u001b[1;34m'search_term'\u001b[0m\u001b[1;33m]\u001b[0m\u001b[1;33m.\u001b[0m\u001b[0mmap\u001b[0m\u001b[1;33m(\u001b[0m\u001b[1;32mlambda\u001b[0m \u001b[0mx\u001b[0m\u001b[1;33m:\u001b[0m\u001b[0mspell_check\u001b[0m\u001b[1;33m(\u001b[0m\u001b[0mstr\u001b[0m\u001b[1;33m(\u001b[0m\u001b[0mx\u001b[0m\u001b[1;33m)\u001b[0m\u001b[1;33m)\u001b[0m\u001b[1;33m)\u001b[0m\u001b[1;33m\u001b[0m\u001b[1;33m\u001b[0m\u001b[0m\n\u001b[0;32m      8\u001b[0m \u001b[1;33m\u001b[0m\u001b[0m\n",
            "\u001b[1;32m<ipython-input-19-f71e04c6a3de>\u001b[0m in \u001b[0;36mspell_check\u001b[1;34m(text)\u001b[0m\n\u001b[0;32m      3\u001b[0m \u001b[1;33m\u001b[0m\u001b[0m\n\u001b[0;32m      4\u001b[0m \u001b[1;32mdef\u001b[0m \u001b[0mspell_check\u001b[0m\u001b[1;33m(\u001b[0m\u001b[0mtext\u001b[0m\u001b[1;33m)\u001b[0m\u001b[1;33m:\u001b[0m\u001b[1;33m\u001b[0m\u001b[1;33m\u001b[0m\u001b[0m\n\u001b[1;32m----> 5\u001b[1;33m     \u001b[1;32mfor\u001b[0m \u001b[0mkey\u001b[0m \u001b[1;32min\u001b[0m \u001b[0mspell_check_dict\u001b[0m\u001b[1;33m:\u001b[0m\u001b[1;33m\u001b[0m\u001b[1;33m\u001b[0m\u001b[0m\n\u001b[0m\u001b[0;32m      6\u001b[0m         \u001b[0mtext\u001b[0m \u001b[1;33m=\u001b[0m \u001b[0mtext\u001b[0m\u001b[1;33m.\u001b[0m\u001b[0mreplace\u001b[0m\u001b[1;33m(\u001b[0m\u001b[0mkey\u001b[0m\u001b[1;33m,\u001b[0m \u001b[0mspell_check_dict\u001b[0m\u001b[1;33m[\u001b[0m\u001b[0mkey\u001b[0m\u001b[1;33m]\u001b[0m\u001b[1;33m)\u001b[0m\u001b[1;33m\u001b[0m\u001b[1;33m\u001b[0m\u001b[0m\n\u001b[0;32m      7\u001b[0m     \u001b[1;32mreturn\u001b[0m \u001b[0mtext\u001b[0m\u001b[1;33m\u001b[0m\u001b[1;33m\u001b[0m\u001b[0m\n",
            "\u001b[1;31mNameError\u001b[0m: name 'spell_check_dict' is not defined"
          ]
        }
      ]
    },
    {
      "cell_type": "code",
      "metadata": {
        "id": "J6eekASSPQMz",
        "colab_type": "code",
        "colab": {},
        "outputId": "4137fdce-09c3-46a5-9508-357676502dff"
      },
      "source": [
        "Train.head()"
      ],
      "execution_count": null,
      "outputs": [
        {
          "output_type": "execute_result",
          "data": {
            "text/html": [
              "<div>\n",
              "<style scoped>\n",
              "    .dataframe tbody tr th:only-of-type {\n",
              "        vertical-align: middle;\n",
              "    }\n",
              "\n",
              "    .dataframe tbody tr th {\n",
              "        vertical-align: top;\n",
              "    }\n",
              "\n",
              "    .dataframe thead th {\n",
              "        text-align: right;\n",
              "    }\n",
              "</style>\n",
              "<table border=\"1\" class=\"dataframe\">\n",
              "  <thead>\n",
              "    <tr style=\"text-align: right;\">\n",
              "      <th></th>\n",
              "      <th>id</th>\n",
              "      <th>product_uid</th>\n",
              "      <th>product_title</th>\n",
              "      <th>search_term</th>\n",
              "      <th>relevance</th>\n",
              "    </tr>\n",
              "  </thead>\n",
              "  <tbody>\n",
              "    <tr>\n",
              "      <th>0</th>\n",
              "      <td>2</td>\n",
              "      <td>100001</td>\n",
              "      <td>Simpson Strong-Tie 12-Gauge Angle</td>\n",
              "      <td>angle bracket</td>\n",
              "      <td>3.00</td>\n",
              "    </tr>\n",
              "    <tr>\n",
              "      <th>1</th>\n",
              "      <td>3</td>\n",
              "      <td>100001</td>\n",
              "      <td>Simpson Strong-Tie 12-Gauge Angle</td>\n",
              "      <td>l bracket</td>\n",
              "      <td>2.50</td>\n",
              "    </tr>\n",
              "    <tr>\n",
              "      <th>2</th>\n",
              "      <td>9</td>\n",
              "      <td>100002</td>\n",
              "      <td>BEHR Premium Textured DeckOver 1-gal. #SC-141 ...</td>\n",
              "      <td>deck over</td>\n",
              "      <td>3.00</td>\n",
              "    </tr>\n",
              "    <tr>\n",
              "      <th>3</th>\n",
              "      <td>16</td>\n",
              "      <td>100005</td>\n",
              "      <td>Delta Vero 1-Handle Shower Only Faucet Trim Ki...</td>\n",
              "      <td>rain shower head</td>\n",
              "      <td>2.33</td>\n",
              "    </tr>\n",
              "    <tr>\n",
              "      <th>4</th>\n",
              "      <td>17</td>\n",
              "      <td>100005</td>\n",
              "      <td>Delta Vero 1-Handle Shower Only Faucet Trim Ki...</td>\n",
              "      <td>shower only faucet</td>\n",
              "      <td>2.67</td>\n",
              "    </tr>\n",
              "  </tbody>\n",
              "</table>\n",
              "</div>"
            ],
            "text/plain": [
              "   id  product_uid                                      product_title  \\\n",
              "0   2       100001                  Simpson Strong-Tie 12-Gauge Angle   \n",
              "1   3       100001                  Simpson Strong-Tie 12-Gauge Angle   \n",
              "2   9       100002  BEHR Premium Textured DeckOver 1-gal. #SC-141 ...   \n",
              "3  16       100005  Delta Vero 1-Handle Shower Only Faucet Trim Ki...   \n",
              "4  17       100005  Delta Vero 1-Handle Shower Only Faucet Trim Ki...   \n",
              "\n",
              "          search_term  relevance  \n",
              "0       angle bracket       3.00  \n",
              "1           l bracket       2.50  \n",
              "2           deck over       3.00  \n",
              "3    rain shower head       2.33  \n",
              "4  shower only faucet       2.67  "
            ]
          },
          "metadata": {
            "tags": []
          },
          "execution_count": 23
        }
      ]
    },
    {
      "cell_type": "code",
      "metadata": {
        "id": "0Qzs_K87PQM1",
        "colab_type": "code",
        "colab": {}
      },
      "source": [
        "#Import required packages and functions\n",
        "import pandas as pd\n",
        "import requests\n",
        "import re\n",
        "import time\n",
        "from random import randint\n",
        "import csv\n",
        "\n",
        "#Read in search terms\n",
        "Train_search_term = pd.read_csv('C:/Users/sandh/Google Drive/Data Science/Kaggle Projects/home-depot-product-search-relevance/Data/train.csv', header = 0, usecols = ['search_term'], encoding = \"ISO-8859-1\")\n",
        "\n",
        "Test_search_term = pd.read_csv('C:/Users/sandh/Google Drive/Data Science/Kaggle Projects/home-depot-product-search-relevance/Data/test.csv', header = 0, usecols = ['search_term'], encoding = \"ISO-8859-1\")\n",
        "\n",
        "#Concatenate train and test\n",
        "search_term = pd.concat((Train_search_term, Test_search_term)).reset_index(drop=True)\n",
        "\n",
        "#Drop duplicated search terms\n",
        "search_term = search_term.drop_duplicates()\n",
        "\n",
        "#Convert to list\n",
        "search_term = search_term['search_term'].tolist()"
      ],
      "execution_count": null,
      "outputs": []
    },
    {
      "cell_type": "code",
      "metadata": {
        "id": "eevJtp6PPQM3",
        "colab_type": "code",
        "colab": {}
      },
      "source": [
        "#Define the function\n",
        "start_spell_check = \"<span class=\\\"spell\\\">Showing results for</span>\"\n",
        "end_spell_check = \"<br><span class=\\\"spell_orig\\\">Search instead for\"\n",
        "\n",
        "html_codes = (\n",
        "\t\t(\"'\", '&#39;'),\n",
        "\t\t('\"', '&quot;'),\n",
        "\t\t('>', '&gt;'),\n",
        "\t\t('<', '&lt;'),\n",
        "\t\t('&', '&amp;'),\n",
        ")\n",
        "\n",
        "html_codes = (\n",
        "\t\t(\"'\", '&#39;'),\n",
        "\t\t('\"', '&quot;'),\n",
        "\t\t('>', '&gt;'),\n",
        "\t\t('<', '&lt;'),\n",
        "\t\t('&', '&amp;'),\n",
        ")"
      ],
      "execution_count": null,
      "outputs": []
    },
    {
      "cell_type": "code",
      "metadata": {
        "id": "YyL8_9mgPQM5",
        "colab_type": "code",
        "colab": {}
      },
      "source": [
        "def spell_check(s):\n",
        "    #Takes a string as input and returns Google's corrected result\n",
        "    q = '+'.join(s.split())\n",
        "    time.sleep(  randint(2,5) ) #relax and don't let google be angry\n",
        "    r = requests.get(\"https://www.google.co.uk/search?q=\"+q)\n",
        "    content = r.text\n",
        "    start = content.find(start_spell_check) \n",
        "    if (start > -1):\n",
        "        start = start + len(start_spell_check)\n",
        "        end=content.find(end_spell_check)\n",
        "        search = content[start:end]\n",
        "        search = re.sub(r'<[^>]+>', '', search)\n",
        "        for code in html_codes:\n",
        "            search = search.replace(code[1], code[0])\n",
        "        correction = search[1:]\n",
        "    else:\n",
        "        correction = \"\"\n",
        "    return correction"
      ],
      "execution_count": null,
      "outputs": []
    },
    {
      "cell_type": "code",
      "metadata": {
        "id": "jkfXFntnPQM6",
        "colab_type": "code",
        "colab": {},
        "outputId": "51e48e03-b469-45e6-8c23-32d8d7035ae6"
      },
      "source": [
        "html_codes"
      ],
      "execution_count": null,
      "outputs": [
        {
          "output_type": "execute_result",
          "data": {
            "text/plain": [
              "((\"'\", '&#39;'), ('\"', '&quot;'), ('>', '&gt;'), ('<', '&lt;'), ('&', '&amp;'))"
            ]
          },
          "metadata": {
            "tags": []
          },
          "execution_count": 43
        }
      ]
    },
    {
      "cell_type": "code",
      "metadata": {
        "id": "KRL48qmePQM_",
        "colab_type": "code",
        "colab": {},
        "outputId": "db9fb622-a79d-45c1-f62d-153932652cb9"
      },
      "source": [
        "spell_check(\"moweer\")"
      ],
      "execution_count": null,
      "outputs": [
        {
          "output_type": "execute_result",
          "data": {
            "text/plain": [
              "''"
            ]
          },
          "metadata": {
            "tags": []
          },
          "execution_count": 55
        }
      ]
    },
    {
      "cell_type": "code",
      "metadata": {
        "id": "IfprWlm7PQNC",
        "colab_type": "code",
        "colab": {},
        "outputId": "288f0ebd-93a2-4087-ee50-c2f835776786"
      },
      "source": [
        "moweer.split()"
      ],
      "execution_count": null,
      "outputs": [
        {
          "output_type": "error",
          "ename": "NameError",
          "evalue": "name 'moweer' is not defined",
          "traceback": [
            "\u001b[1;31m---------------------------------------------------------------------------\u001b[0m",
            "\u001b[1;31mNameError\u001b[0m                                 Traceback (most recent call last)",
            "\u001b[1;32m<ipython-input-56-33a4ef12a3bd>\u001b[0m in \u001b[0;36m<module>\u001b[1;34m\u001b[0m\n\u001b[1;32m----> 1\u001b[1;33m \u001b[0mmoweer\u001b[0m\u001b[1;33m.\u001b[0m\u001b[0msplit\u001b[0m\u001b[1;33m(\u001b[0m\u001b[1;33m)\u001b[0m\u001b[1;33m\u001b[0m\u001b[1;33m\u001b[0m\u001b[0m\n\u001b[0m",
            "\u001b[1;31mNameError\u001b[0m: name 'moweer' is not defined"
          ]
        }
      ]
    },
    {
      "cell_type": "code",
      "metadata": {
        "id": "mwPEcsLBPQNG",
        "colab_type": "code",
        "colab": {}
      },
      "source": [
        "search_term = search_term[3:15]"
      ],
      "execution_count": null,
      "outputs": []
    },
    {
      "cell_type": "code",
      "metadata": {
        "id": "IC5smsRgPQNI",
        "colab_type": "code",
        "colab": {},
        "outputId": "0fbc156d-72b9-4818-b704-781bf71cee4f"
      },
      "source": [
        "search_term"
      ],
      "execution_count": null,
      "outputs": [
        {
          "output_type": "execute_result",
          "data": {
            "text/plain": [
              "['rain shower head',\n",
              " 'shower only faucet',\n",
              " 'convection otr',\n",
              " 'microwave over stove',\n",
              " 'microwaves',\n",
              " 'emergency light',\n",
              " 'mdf 3/4',\n",
              " 'steele stake',\n",
              " 'briggs and stratton lawn mower',\n",
              " 'gas mowe',\n",
              " 'honda mower',\n",
              " 'hampton bay chestnut pull up shade']"
            ]
          },
          "metadata": {
            "tags": []
          },
          "execution_count": 36
        }
      ]
    },
    {
      "cell_type": "code",
      "metadata": {
        "id": "k9pxBHg5PQNM",
        "colab_type": "code",
        "colab": {}
      },
      "source": [
        "#Loop through each unique search term and apply the above function\n",
        "corrections = {}\n",
        "for search in search_term:\n",
        "    google_result = spell_check(search)\n",
        "    if google_result != \"\":\n",
        "        print(search + \": \" + google_result)\n",
        "        corrections[search] = google_result"
      ],
      "execution_count": null,
      "outputs": []
    },
    {
      "cell_type": "code",
      "metadata": {
        "id": "zktJiTjMPQNP",
        "colab_type": "code",
        "colab": {},
        "outputId": "80d68c5d-3179-4d86-d6fc-9bfe4920e464"
      },
      "source": [
        "search_term"
      ],
      "execution_count": null,
      "outputs": [
        {
          "output_type": "execute_result",
          "data": {
            "text/plain": [
              "['rain shower head',\n",
              " 'shower only faucet',\n",
              " 'convection otr',\n",
              " 'microwave over stove',\n",
              " 'microwaves',\n",
              " 'emergency light',\n",
              " 'mdf 3/4',\n",
              " 'steele stake',\n",
              " 'briggs and stratton lawn mower',\n",
              " 'gas mowe',\n",
              " 'honda mower',\n",
              " 'hampton bay chestnut pull up shade']"
            ]
          },
          "metadata": {
            "tags": []
          },
          "execution_count": 38
        }
      ]
    },
    {
      "cell_type": "code",
      "metadata": {
        "id": "SY7s_0E7PQNT",
        "colab_type": "code",
        "colab": {},
        "outputId": "3b340d81-ff26-471f-a242-d6b24a56930b"
      },
      "source": [
        "import spell"
      ],
      "execution_count": null,
      "outputs": [
        {
          "output_type": "error",
          "ename": "ModuleNotFoundError",
          "evalue": "No module named 'spell'",
          "traceback": [
            "\u001b[1;31m---------------------------------------------------------------------------\u001b[0m",
            "\u001b[1;31mModuleNotFoundError\u001b[0m                       Traceback (most recent call last)",
            "\u001b[1;32m<ipython-input-59-70a523eb6293>\u001b[0m in \u001b[0;36m<module>\u001b[1;34m\u001b[0m\n\u001b[1;32m----> 1\u001b[1;33m \u001b[1;32mimport\u001b[0m \u001b[0mspell\u001b[0m\u001b[1;33m\u001b[0m\u001b[1;33m\u001b[0m\u001b[0m\n\u001b[0m",
            "\u001b[1;31mModuleNotFoundError\u001b[0m: No module named 'spell'"
          ]
        }
      ]
    },
    {
      "cell_type": "code",
      "metadata": {
        "id": "xT-EJyfgPQNY",
        "colab_type": "code",
        "colab": {},
        "outputId": "86f3e599-a512-4df6-ff7a-9c30e05cac2f"
      },
      "source": [
        "\n",
        "################ Spelling Corrector \n",
        "\n",
        "import re\n",
        "from collections import Counter\n",
        "\n",
        "def words(text): return re.findall(r'\\w+', text.lower())\n",
        "\n",
        "WORDS = Counter(words(open('big.txt').read()))\n",
        "\n",
        "def P(word, N=sum(WORDS.values())): \n",
        "    \"Probability of `word`.\"\n",
        "    return WORDS[word] / N\n",
        "\n",
        "def correction(word): \n",
        "    \"Most probable spelling correction for word.\"\n",
        "    return max(candidates(word), key=P)\n",
        "\n",
        "def candidates(word): \n",
        "    \"Generate possible spelling corrections for word.\"\n",
        "    return (known([word]) or known(edits1(word)) or known(edits2(word)) or [word])\n",
        "\n",
        "def known(words): \n",
        "    \"The subset of `words` that appear in the dictionary of WORDS.\"\n",
        "    return set(w for w in words if w in WORDS)\n",
        "\n",
        "def edits1(word):\n",
        "    \"All edits that are one edit away from `word`.\"\n",
        "    letters    = 'abcdefghijklmnopqrstuvwxyz'\n",
        "    splits     = [(word[:i], word[i:])    for i in range(len(word) + 1)]\n",
        "    deletes    = [L + R[1:]               for L, R in splits if R]\n",
        "    transposes = [L + R[1] + R[0] + R[2:] for L, R in splits if len(R)>1]\n",
        "    replaces   = [L + c + R[1:]           for L, R in splits if R for c in letters]\n",
        "    inserts    = [L + c + R               for L, R in splits for c in letters]\n",
        "    return set(deletes + transposes + replaces + inserts)\n",
        "\n",
        "def edits2(word): \n",
        "    \"All edits that are two edits away from `word`.\"\n",
        "    return (e2 for e1 in edits1(word) for e2 in edits1(e1))"
      ],
      "execution_count": null,
      "outputs": [
        {
          "output_type": "error",
          "ename": "FileNotFoundError",
          "evalue": "[Errno 2] No such file or directory: 'big.txt'",
          "traceback": [
            "\u001b[1;31m---------------------------------------------------------------------------\u001b[0m",
            "\u001b[1;31mFileNotFoundError\u001b[0m                         Traceback (most recent call last)",
            "\u001b[1;32m<ipython-input-60-498941c1a796>\u001b[0m in \u001b[0;36m<module>\u001b[1;34m\u001b[0m\n\u001b[0;32m      7\u001b[0m \u001b[1;32mdef\u001b[0m \u001b[0mwords\u001b[0m\u001b[1;33m(\u001b[0m\u001b[0mtext\u001b[0m\u001b[1;33m)\u001b[0m\u001b[1;33m:\u001b[0m \u001b[1;32mreturn\u001b[0m \u001b[0mre\u001b[0m\u001b[1;33m.\u001b[0m\u001b[0mfindall\u001b[0m\u001b[1;33m(\u001b[0m\u001b[1;34mr'\\w+'\u001b[0m\u001b[1;33m,\u001b[0m \u001b[0mtext\u001b[0m\u001b[1;33m.\u001b[0m\u001b[0mlower\u001b[0m\u001b[1;33m(\u001b[0m\u001b[1;33m)\u001b[0m\u001b[1;33m)\u001b[0m\u001b[1;33m\u001b[0m\u001b[1;33m\u001b[0m\u001b[0m\n\u001b[0;32m      8\u001b[0m \u001b[1;33m\u001b[0m\u001b[0m\n\u001b[1;32m----> 9\u001b[1;33m \u001b[0mWORDS\u001b[0m \u001b[1;33m=\u001b[0m \u001b[0mCounter\u001b[0m\u001b[1;33m(\u001b[0m\u001b[0mwords\u001b[0m\u001b[1;33m(\u001b[0m\u001b[0mopen\u001b[0m\u001b[1;33m(\u001b[0m\u001b[1;34m'big.txt'\u001b[0m\u001b[1;33m)\u001b[0m\u001b[1;33m.\u001b[0m\u001b[0mread\u001b[0m\u001b[1;33m(\u001b[0m\u001b[1;33m)\u001b[0m\u001b[1;33m)\u001b[0m\u001b[1;33m)\u001b[0m\u001b[1;33m\u001b[0m\u001b[1;33m\u001b[0m\u001b[0m\n\u001b[0m\u001b[0;32m     10\u001b[0m \u001b[1;33m\u001b[0m\u001b[0m\n\u001b[0;32m     11\u001b[0m \u001b[1;32mdef\u001b[0m \u001b[0mP\u001b[0m\u001b[1;33m(\u001b[0m\u001b[0mword\u001b[0m\u001b[1;33m,\u001b[0m \u001b[0mN\u001b[0m\u001b[1;33m=\u001b[0m\u001b[0msum\u001b[0m\u001b[1;33m(\u001b[0m\u001b[0mWORDS\u001b[0m\u001b[1;33m.\u001b[0m\u001b[0mvalues\u001b[0m\u001b[1;33m(\u001b[0m\u001b[1;33m)\u001b[0m\u001b[1;33m)\u001b[0m\u001b[1;33m)\u001b[0m\u001b[1;33m:\u001b[0m\u001b[1;33m\u001b[0m\u001b[1;33m\u001b[0m\u001b[0m\n",
            "\u001b[1;31mFileNotFoundError\u001b[0m: [Errno 2] No such file or directory: 'big.txt'"
          ]
        }
      ]
    },
    {
      "cell_type": "code",
      "metadata": {
        "id": "mt9VqciTPQNd",
        "colab_type": "code",
        "colab": {}
      },
      "source": [
        "#Save to CSV\n",
        "with open('correction_playing.csv', 'w', newline='') as f:\n",
        "    writer = csv.writer(f)\n",
        "    writer.writerow(['search_term_old','search_term_new'])\n",
        "    for row in corrections.items():\n",
        "        writer.writerow(row)"
      ],
      "execution_count": null,
      "outputs": []
    }
  ]
}