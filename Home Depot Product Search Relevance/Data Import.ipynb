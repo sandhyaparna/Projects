{
 "cells": [
  {
   "cell_type": "markdown",
   "metadata": {},
   "source": [
    "# Import Packages"
   ]
  },
  {
   "cell_type": "code",
   "execution_count": 9,
   "metadata": {},
   "outputs": [],
   "source": [
    "# Import pandas \n",
    "import numpy as np \n",
    "import pandas as pd\n",
    "\n",
    "# Import time to measure how long processing takes\n",
    "import time\n",
    "\n",
    "# Import sklearn modules for model building\n",
    "from sklearn.ensemble import GradientBoostingRegressor\n",
    "from sklearn import pipeline\n",
    "from sklearn.model_selection import GridSearchCV\n",
    "from sklearn.base import BaseEstimator, TransformerMixin\n",
    "from sklearn.pipeline import FeatureUnion, Pipeline\n",
    "from sklearn.decomposition import TruncatedSVD\n",
    "from sklearn.feature_extraction.text import TfidfVectorizer\n",
    "from sklearn.metrics import mean_squared_error, make_scorer\n",
    "\n",
    "# Import the Snowball stemmer for stemming operations\n",
    "from nltk.stem.snowball import SnowballStemmer\n",
    "\n",
    "# Import regex for cleaning and other data processng\n",
    "import re\n",
    "\n",
    "\n",
    "import random\n",
    "from collections import Counter\n",
    "\n",
    "# Import matplotlib colors for color identification in queries\n",
    "from matplotlib import colors as mcolors\n",
    "import matplotlib.pyplot as plt\n",
    "\n",
    "# Import requests and json for search requests to google\n",
    "import requests, json\n",
    "\n",
    "# Import StringIO to handle the attributes file formatting errors on import\n",
    "from io import StringIO"
   ]
  },
  {
   "cell_type": "markdown",
   "metadata": {},
   "source": [
    "# Import Data"
   ]
  },
  {
   "cell_type": "code",
   "execution_count": 10,
   "metadata": {},
   "outputs": [],
   "source": [
    "# Import Train, Test, Product Descriptions and Attributes\n",
    "Train = pd.read_csv('C:/Users/SPashikanti/Downloads/HomeDepot Kaggle/Data/train.csv', encoding='latin-1')\n",
    "Test = pd.read_csv('C:/Users/SPashikanti/Downloads/HomeDepot Kaggle/Data/test.csv', encoding='latin-1')\n",
    "ProductDescriptions = pd.read_csv('C:/Users/SPashikanti/Downloads/HomeDepot Kaggle/Data/product_descriptions.csv', encoding='latin-1')\n",
    "Attributes = pd.read_csv('C:/Users/SPashikanti/Downloads/HomeDepot Kaggle/Data/attributes.csv', encoding='latin-1')"
   ]
  },
  {
   "cell_type": "markdown",
   "metadata": {},
   "source": [
    "### Data Exploration"
   ]
  },
  {
   "cell_type": "code",
   "execution_count": 32,
   "metadata": {},
   "outputs": [],
   "source": [
    "def return_desc(df): \n",
    "    return print('This dataset has ' + str(df.shape[0]) + ' rows, and ' + str(df.shape[1]) + ' columns'), print(\" \"), print(\"DATA TYPES\"), print (df.dtypes), print(\" \"), print(\"TOP OBSERVATIONS\"), print (display(df.head(5))) , print(\" \") , print(\"UNIQUE VALUES IN EACH VARIABLE\"), print(df.apply(lambda x: [x.unique()])), print(\" \"), print(\"NUMBER OF UNIQUE VALUES IN EACH VARIABLE\"), print(df.apply(lambda x: [len(x.unique())]))"
   ]
  },
  {
   "cell_type": "code",
   "execution_count": 33,
   "metadata": {
    "scrolled": true
   },
   "outputs": [
    {
     "name": "stdout",
     "output_type": "stream",
     "text": [
      "This dataset has 2044803 rows, and 3 columns\n",
      " \n",
      "DATA TYPES\n",
      "product_uid    float64\n",
      "name            object\n",
      "value           object\n",
      "dtype: object\n",
      " \n",
      "TOP OBSERVATIONS\n"
     ]
    },
    {
     "data": {
      "text/html": [
       "<div>\n",
       "<style scoped>\n",
       "    .dataframe tbody tr th:only-of-type {\n",
       "        vertical-align: middle;\n",
       "    }\n",
       "\n",
       "    .dataframe tbody tr th {\n",
       "        vertical-align: top;\n",
       "    }\n",
       "\n",
       "    .dataframe thead th {\n",
       "        text-align: right;\n",
       "    }\n",
       "</style>\n",
       "<table border=\"1\" class=\"dataframe\">\n",
       "  <thead>\n",
       "    <tr style=\"text-align: right;\">\n",
       "      <th></th>\n",
       "      <th>product_uid</th>\n",
       "      <th>name</th>\n",
       "      <th>value</th>\n",
       "    </tr>\n",
       "  </thead>\n",
       "  <tbody>\n",
       "    <tr>\n",
       "      <th>0</th>\n",
       "      <td>100001.0</td>\n",
       "      <td>Bullet01</td>\n",
       "      <td>Versatile connector for various 90Â° connectio...</td>\n",
       "    </tr>\n",
       "    <tr>\n",
       "      <th>1</th>\n",
       "      <td>100001.0</td>\n",
       "      <td>Bullet02</td>\n",
       "      <td>Stronger than angled nailing or screw fastenin...</td>\n",
       "    </tr>\n",
       "    <tr>\n",
       "      <th>2</th>\n",
       "      <td>100001.0</td>\n",
       "      <td>Bullet03</td>\n",
       "      <td>Help ensure joints are consistently straight a...</td>\n",
       "    </tr>\n",
       "    <tr>\n",
       "      <th>3</th>\n",
       "      <td>100001.0</td>\n",
       "      <td>Bullet04</td>\n",
       "      <td>Dimensions: 3 in. x 3 in. x 1-1/2 in.</td>\n",
       "    </tr>\n",
       "    <tr>\n",
       "      <th>4</th>\n",
       "      <td>100001.0</td>\n",
       "      <td>Bullet05</td>\n",
       "      <td>Made from 12-Gauge steel</td>\n",
       "    </tr>\n",
       "  </tbody>\n",
       "</table>\n",
       "</div>"
      ],
      "text/plain": [
       "   product_uid      name                                              value\n",
       "0     100001.0  Bullet01  Versatile connector for various 90Â° connectio...\n",
       "1     100001.0  Bullet02  Stronger than angled nailing or screw fastenin...\n",
       "2     100001.0  Bullet03  Help ensure joints are consistently straight a...\n",
       "3     100001.0  Bullet04              Dimensions: 3 in. x 3 in. x 1-1/2 in.\n",
       "4     100001.0  Bullet05                           Made from 12-Gauge steel"
      ]
     },
     "metadata": {},
     "output_type": "display_data"
    },
    {
     "name": "stdout",
     "output_type": "stream",
     "text": [
      " \n",
      "UNIQUE VALUES IN EACH VARIABLE\n",
      "product_uid    [[100001.0, 100002.0, 100003.0, 100004.0, 1000...\n",
      "name           [[Bullet01, Bullet02, Bullet03, Bullet04, Bull...\n",
      "value          [[Versatile connector for various 90Â° connect...\n",
      "dtype: object\n",
      " \n",
      "NUMBER OF UNIQUE VALUES IN EACH VARIABLE\n",
      "product_uid     [86264]\n",
      "name             [5411]\n",
      "value          [307588]\n",
      "dtype: object\n"
     ]
    },
    {
     "data": {
      "text/plain": [
       "(None, None, None, None, None, None, None, None, None, None, None, None, None)"
      ]
     },
     "execution_count": 33,
     "metadata": {},
     "output_type": "execute_result"
    }
   ],
   "source": [
    "return_desc(Attributes)"
   ]
  },
  {
   "cell_type": "code",
   "execution_count": 34,
   "metadata": {},
   "outputs": [
    {
     "name": "stdout",
     "output_type": "stream",
     "text": [
      "<class 'pandas.core.frame.DataFrame'>\n",
      "RangeIndex: 2044803 entries, 0 to 2044802\n",
      "Data columns (total 3 columns):\n",
      "product_uid    float64\n",
      "name           object\n",
      "value          object\n",
      "dtypes: float64(1), object(2)\n",
      "memory usage: 46.8+ MB\n"
     ]
    }
   ],
   "source": [
    "Attributes.info()"
   ]
  },
  {
   "cell_type": "code",
   "execution_count": null,
   "metadata": {},
   "outputs": [],
   "source": [
    "df_test=pd.read_csv('./Data/test_new.csv')\n",
    "df_pro_desc=pd.read_csv('./Data/product_descriptions_new.csv')\n"
   ]
  },
  {
   "cell_type": "code",
   "execution_count": null,
   "metadata": {},
   "outputs": [],
   "source": []
  }
 ],
 "metadata": {
  "kernelspec": {
   "display_name": "Python 3",
   "language": "python",
   "name": "python3"
  },
  "language_info": {
   "codemirror_mode": {
    "name": "ipython",
    "version": 3
   },
   "file_extension": ".py",
   "mimetype": "text/x-python",
   "name": "python",
   "nbconvert_exporter": "python",
   "pygments_lexer": "ipython3",
   "version": "3.7.2"
  }
 },
 "nbformat": 4,
 "nbformat_minor": 2
}
