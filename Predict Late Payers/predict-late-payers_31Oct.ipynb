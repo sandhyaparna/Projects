{
 "cells": [
  {
   "cell_type": "code",
   "execution_count": 2,
   "metadata": {},
   "outputs": [
    {
     "name": "stderr",
     "output_type": "stream",
     "text": [
      "C:\\Users\\spashikanti\\AppData\\Local\\Continuum\\anaconda2\\lib\\site-packages\\sklearn\\ensemble\\weight_boosting.py:29: DeprecationWarning: numpy.core.umath_tests is an internal NumPy module and should not be imported. It will be removed in a future NumPy release.\n",
      "  from numpy.core.umath_tests import inner1d\n"
     ]
    }
   ],
   "source": [
    "# Import Libraries\n",
    "import numpy as np\n",
    "import pandas as pd\n",
    "from sklearn.ensemble import RandomForestClassifier\n",
    "from sklearn.metrics import confusion_matrix, roc_curve, precision_recall_curve\n",
    "import matplotlib.pyplot as plt\n",
    "import seaborn as sns\n",
    "%matplotlib inline\n",
    "from scipy import stats\n",
    "# import statsmodels.api as sm\n",
    "\n",
    "# Preprocessing and Pipeline libraries\n",
    "# from sklearn.compose import ColumnTransformer\n",
    "# from sklearn.impute import SimpleImputer\n",
    "from sklearn.pipeline import Pipeline, make_pipeline\n",
    "from sklearn.preprocessing import OneHotEncoder\n",
    "from sklearn.impute import SimpleImputer\n",
    "import pickle\n"
   ]
  },
  {
   "cell_type": "code",
   "execution_count": 3,
   "metadata": {},
   "outputs": [],
   "source": [
    "pd.options.display.max_rows = 1500\n",
    "pd.set_option('display.max_columns', None)  # or 1000\n",
    "pd.set_option('display.max_rows', None)  # or 1000\n",
    "pd.set_option('display.max_colwidth', -1)  # or 199"
   ]
  },
  {
   "cell_type": "code",
   "execution_count": 93,
   "metadata": {},
   "outputs": [
    {
     "name": "stdout",
     "output_type": "stream",
     "text": [
      "\n",
      "Loading training data...\n",
      "\n",
      "Loading test data...\n",
      "\n",
      "Loaded !!\n"
     ]
    }
   ],
   "source": [
    "print(\"\\nLoading training data...\")\n",
    "# load training data\n",
    "train_data = pd.read_csv(\"Data/peerLoanTraining.csv\", engine='python', header=0)\n",
    "\n",
    "# Separate out X and y\n",
    "X_train = train_data.loc[:, train_data.columns != 'is_late']\n",
    "y_train = train_data['is_late']\n",
    "\n",
    "print(\"\\nLoading test data...\")\n",
    "# load test data\n",
    "test_data = pd.read_csv(\"Data/peerLoanTest.csv\", engine='python', header=0)\n",
    "\n",
    "# Separate out X and y\n",
    "X_test = test_data.loc[:, test_data.columns != 'is_late']\n",
    "y_test = test_data['is_late']\n",
    "\n",
    "print(\"\\nLoaded !!\")"
   ]
  },
  {
   "cell_type": "code",
   "execution_count": 94,
   "metadata": {
    "scrolled": true
   },
   "outputs": [],
   "source": [
    "def SummaryTable(df):\n",
    "    print('This dataset has ' + str(df.shape[0]) + ' rows, and ' + str(df.shape[1]) + ' columns')\n",
    "    print(\"\\n\",\"TOP FEW OBSERVATIONS:\")\n",
    "    print(display(df.head(5)))\n",
    "    print(\"\\n\",\"BOTTOM FEW OBSERVATIONS:\")\n",
    "    print(display(df.tail(5)))\n",
    "    print(\"\\n\",\"SUMMARY of Quantitative Data:\")\n",
    "    print(display(df.describe()),\"\\n\")\n",
    "    summary = pd.DataFrame(df.dtypes,columns=['DataType'])\n",
    "    summary = summary.reset_index()\n",
    "    summary['VariableName'] = summary['index']\n",
    "    summary = summary[['VariableName','DataType']]\n",
    "    summary['Missing'] = df.isnull().sum().values\n",
    "    summary['MissingPercentage'] = (summary['Missing']/len(df)*100).round(2)\n",
    "    summary['Uniques'] = df.nunique().values\n",
    "#     summary['First Value'] = df.loc[0].values\n",
    "#     summary['Second Value'] = df.loc[1].values\n",
    "#     summary['Third Value'] = df.loc[2].values\n",
    "#     summary['Fourth Value'] = df.loc[3].values\n",
    "#     summary['Fifth Value'] = df.loc[4].values\n",
    "    \n",
    "#     for name in summary['VariableName'].value_counts().index:\n",
    "#         summary.loc[summary['VariableName'] == name, 'Entropy'] = round(stats.entropy(df[name].value_counts(normalize=True), base=2),2) \n",
    "    categorical_features = df.select_dtypes(include = np.object)\n",
    "    print(\"Frequency of Categorical Data:\",\"\\n\")\n",
    "    for i in categorical_features.columns:\n",
    "        print(i + \":\" + str(categorical_features[i].nunique()))\n",
    "        print(categorical_features[i].value_counts())\n",
    "        print('\\n')\n",
    "    \n",
    "    return summary"
   ]
  },
  {
   "cell_type": "code",
   "execution_count": 95,
   "metadata": {
    "scrolled": true
   },
   "outputs": [
    {
     "name": "stdout",
     "output_type": "stream",
     "text": [
      "Summary of Training Data:\n",
      "This dataset has 111068 rows, and 10 columns\n",
      "('\\n', 'TOP FEW OBSERVATIONS:')\n"
     ]
    },
    {
     "data": {
      "text/html": [
       "<div>\n",
       "<style scoped>\n",
       "    .dataframe tbody tr th:only-of-type {\n",
       "        vertical-align: middle;\n",
       "    }\n",
       "\n",
       "    .dataframe tbody tr th {\n",
       "        vertical-align: top;\n",
       "    }\n",
       "\n",
       "    .dataframe thead th {\n",
       "        text-align: right;\n",
       "    }\n",
       "</style>\n",
       "<table border=\"1\" class=\"dataframe\">\n",
       "  <thead>\n",
       "    <tr style=\"text-align: right;\">\n",
       "      <th></th>\n",
       "      <th>loan_amnt</th>\n",
       "      <th>int_rate</th>\n",
       "      <th>purpose</th>\n",
       "      <th>grade</th>\n",
       "      <th>annual_inc</th>\n",
       "      <th>revol_util</th>\n",
       "      <th>emp_length</th>\n",
       "      <th>dti</th>\n",
       "      <th>delinq_2yrs</th>\n",
       "      <th>home_ownership</th>\n",
       "    </tr>\n",
       "  </thead>\n",
       "  <tbody>\n",
       "    <tr>\n",
       "      <th>0</th>\n",
       "      <td>12000</td>\n",
       "      <td>0.2039</td>\n",
       "      <td>credit_card</td>\n",
       "      <td>D</td>\n",
       "      <td>42000.0</td>\n",
       "      <td>0.647</td>\n",
       "      <td>10+ years</td>\n",
       "      <td>14.46</td>\n",
       "      <td>0</td>\n",
       "      <td>RENT</td>\n",
       "    </tr>\n",
       "    <tr>\n",
       "      <th>1</th>\n",
       "      <td>29150</td>\n",
       "      <td>0.2039</td>\n",
       "      <td>home_improvement</td>\n",
       "      <td>D</td>\n",
       "      <td>51000.0</td>\n",
       "      <td>0.404</td>\n",
       "      <td>10+ years</td>\n",
       "      <td>20.82</td>\n",
       "      <td>0</td>\n",
       "      <td>MORTGAGE</td>\n",
       "    </tr>\n",
       "    <tr>\n",
       "      <th>2</th>\n",
       "      <td>8000</td>\n",
       "      <td>0.1306</td>\n",
       "      <td>other</td>\n",
       "      <td>C</td>\n",
       "      <td>73000.0</td>\n",
       "      <td>0.560</td>\n",
       "      <td>10+ years</td>\n",
       "      <td>33.27</td>\n",
       "      <td>0</td>\n",
       "      <td>MORTGAGE</td>\n",
       "    </tr>\n",
       "    <tr>\n",
       "      <th>3</th>\n",
       "      <td>21000</td>\n",
       "      <td>0.0746</td>\n",
       "      <td>credit_card</td>\n",
       "      <td>A</td>\n",
       "      <td>60000.0</td>\n",
       "      <td>0.395</td>\n",
       "      <td>NaN</td>\n",
       "      <td>22.42</td>\n",
       "      <td>0</td>\n",
       "      <td>OWN</td>\n",
       "    </tr>\n",
       "    <tr>\n",
       "      <th>4</th>\n",
       "      <td>13000</td>\n",
       "      <td>0.1747</td>\n",
       "      <td>debt_consolidation</td>\n",
       "      <td>D</td>\n",
       "      <td>27500.0</td>\n",
       "      <td>0.185</td>\n",
       "      <td>4 years</td>\n",
       "      <td>26.45</td>\n",
       "      <td>0</td>\n",
       "      <td>RENT</td>\n",
       "    </tr>\n",
       "  </tbody>\n",
       "</table>\n",
       "</div>"
      ],
      "text/plain": [
       "   loan_amnt  int_rate             purpose grade  annual_inc  revol_util  \\\n",
       "0  12000      0.2039    credit_card         D     42000.0     0.647        \n",
       "1  29150      0.2039    home_improvement    D     51000.0     0.404        \n",
       "2  8000       0.1306    other               C     73000.0     0.560        \n",
       "3  21000      0.0746    credit_card         A     60000.0     0.395        \n",
       "4  13000      0.1747    debt_consolidation  D     27500.0     0.185        \n",
       "\n",
       "  emp_length    dti  delinq_2yrs home_ownership  \n",
       "0  10+ years  14.46  0            RENT           \n",
       "1  10+ years  20.82  0            MORTGAGE       \n",
       "2  10+ years  33.27  0            MORTGAGE       \n",
       "3  NaN        22.42  0            OWN            \n",
       "4  4 years    26.45  0            RENT           "
      ]
     },
     "metadata": {},
     "output_type": "display_data"
    },
    {
     "name": "stdout",
     "output_type": "stream",
     "text": [
      "None\n",
      "('\\n', 'BOTTOM FEW OBSERVATIONS:')\n"
     ]
    },
    {
     "data": {
      "text/html": [
       "<div>\n",
       "<style scoped>\n",
       "    .dataframe tbody tr th:only-of-type {\n",
       "        vertical-align: middle;\n",
       "    }\n",
       "\n",
       "    .dataframe tbody tr th {\n",
       "        vertical-align: top;\n",
       "    }\n",
       "\n",
       "    .dataframe thead th {\n",
       "        text-align: right;\n",
       "    }\n",
       "</style>\n",
       "<table border=\"1\" class=\"dataframe\">\n",
       "  <thead>\n",
       "    <tr style=\"text-align: right;\">\n",
       "      <th></th>\n",
       "      <th>loan_amnt</th>\n",
       "      <th>int_rate</th>\n",
       "      <th>purpose</th>\n",
       "      <th>grade</th>\n",
       "      <th>annual_inc</th>\n",
       "      <th>revol_util</th>\n",
       "      <th>emp_length</th>\n",
       "      <th>dti</th>\n",
       "      <th>delinq_2yrs</th>\n",
       "      <th>home_ownership</th>\n",
       "    </tr>\n",
       "  </thead>\n",
       "  <tbody>\n",
       "    <tr>\n",
       "      <th>111063</th>\n",
       "      <td>6800</td>\n",
       "      <td>0.1601</td>\n",
       "      <td>debt_consolidation</td>\n",
       "      <td>C</td>\n",
       "      <td>20000.0</td>\n",
       "      <td>0.287</td>\n",
       "      <td>10+ years</td>\n",
       "      <td>25.03</td>\n",
       "      <td>1</td>\n",
       "      <td>MORTGAGE</td>\n",
       "    </tr>\n",
       "    <tr>\n",
       "      <th>111064</th>\n",
       "      <td>3000</td>\n",
       "      <td>0.2039</td>\n",
       "      <td>other</td>\n",
       "      <td>D</td>\n",
       "      <td>72000.0</td>\n",
       "      <td>0.605</td>\n",
       "      <td>10+ years</td>\n",
       "      <td>5.87</td>\n",
       "      <td>0</td>\n",
       "      <td>RENT</td>\n",
       "    </tr>\n",
       "    <tr>\n",
       "      <th>111065</th>\n",
       "      <td>14000</td>\n",
       "      <td>0.1601</td>\n",
       "      <td>debt_consolidation</td>\n",
       "      <td>C</td>\n",
       "      <td>52874.0</td>\n",
       "      <td>0.850</td>\n",
       "      <td>10+ years</td>\n",
       "      <td>22.36</td>\n",
       "      <td>0</td>\n",
       "      <td>MORTGAGE</td>\n",
       "    </tr>\n",
       "    <tr>\n",
       "      <th>111066</th>\n",
       "      <td>7500</td>\n",
       "      <td>0.1090</td>\n",
       "      <td>other</td>\n",
       "      <td>B</td>\n",
       "      <td>126000.0</td>\n",
       "      <td>0.283</td>\n",
       "      <td>10+ years</td>\n",
       "      <td>6.33</td>\n",
       "      <td>0</td>\n",
       "      <td>RENT</td>\n",
       "    </tr>\n",
       "    <tr>\n",
       "      <th>111067</th>\n",
       "      <td>35000</td>\n",
       "      <td>0.0607</td>\n",
       "      <td>debt_consolidation</td>\n",
       "      <td>A</td>\n",
       "      <td>110000.0</td>\n",
       "      <td>0.352</td>\n",
       "      <td>10+ years</td>\n",
       "      <td>9.80</td>\n",
       "      <td>0</td>\n",
       "      <td>RENT</td>\n",
       "    </tr>\n",
       "  </tbody>\n",
       "</table>\n",
       "</div>"
      ],
      "text/plain": [
       "        loan_amnt  int_rate             purpose grade  annual_inc  revol_util  \\\n",
       "111063  6800       0.1601    debt_consolidation  C     20000.0     0.287        \n",
       "111064  3000       0.2039    other               D     72000.0     0.605        \n",
       "111065  14000      0.1601    debt_consolidation  C     52874.0     0.850        \n",
       "111066  7500       0.1090    other               B     126000.0    0.283        \n",
       "111067  35000      0.0607    debt_consolidation  A     110000.0    0.352        \n",
       "\n",
       "       emp_length    dti  delinq_2yrs home_ownership  \n",
       "111063  10+ years  25.03  1            MORTGAGE       \n",
       "111064  10+ years  5.87   0            RENT           \n",
       "111065  10+ years  22.36  0            MORTGAGE       \n",
       "111066  10+ years  6.33   0            RENT           \n",
       "111067  10+ years  9.80   0            RENT           "
      ]
     },
     "metadata": {},
     "output_type": "display_data"
    },
    {
     "name": "stdout",
     "output_type": "stream",
     "text": [
      "None\n",
      "('\\n', 'SUMMARY of Quantitative Data:')\n"
     ]
    },
    {
     "data": {
      "text/html": [
       "<div>\n",
       "<style scoped>\n",
       "    .dataframe tbody tr th:only-of-type {\n",
       "        vertical-align: middle;\n",
       "    }\n",
       "\n",
       "    .dataframe tbody tr th {\n",
       "        vertical-align: top;\n",
       "    }\n",
       "\n",
       "    .dataframe thead th {\n",
       "        text-align: right;\n",
       "    }\n",
       "</style>\n",
       "<table border=\"1\" class=\"dataframe\">\n",
       "  <thead>\n",
       "    <tr style=\"text-align: right;\">\n",
       "      <th></th>\n",
       "      <th>loan_amnt</th>\n",
       "      <th>int_rate</th>\n",
       "      <th>annual_inc</th>\n",
       "      <th>revol_util</th>\n",
       "      <th>dti</th>\n",
       "      <th>delinq_2yrs</th>\n",
       "    </tr>\n",
       "  </thead>\n",
       "  <tbody>\n",
       "    <tr>\n",
       "      <th>count</th>\n",
       "      <td>111068.000000</td>\n",
       "      <td>111068.000000</td>\n",
       "      <td>1.110680e+05</td>\n",
       "      <td>110951.000000</td>\n",
       "      <td>111068.000000</td>\n",
       "      <td>111068.000000</td>\n",
       "    </tr>\n",
       "    <tr>\n",
       "      <th>mean</th>\n",
       "      <td>15333.901304</td>\n",
       "      <td>0.123530</td>\n",
       "      <td>8.152713e+04</td>\n",
       "      <td>0.432369</td>\n",
       "      <td>17.334945</td>\n",
       "      <td>0.236450</td>\n",
       "    </tr>\n",
       "    <tr>\n",
       "      <th>std</th>\n",
       "      <td>9903.827140</td>\n",
       "      <td>0.049712</td>\n",
       "      <td>8.914149e+04</td>\n",
       "      <td>0.247957</td>\n",
       "      <td>8.750318</td>\n",
       "      <td>0.750367</td>\n",
       "    </tr>\n",
       "    <tr>\n",
       "      <th>min</th>\n",
       "      <td>1000.000000</td>\n",
       "      <td>0.053100</td>\n",
       "      <td>2.300000e+03</td>\n",
       "      <td>0.000000</td>\n",
       "      <td>0.000000</td>\n",
       "      <td>0.000000</td>\n",
       "    </tr>\n",
       "    <tr>\n",
       "      <th>25%</th>\n",
       "      <td>8000.000000</td>\n",
       "      <td>0.080800</td>\n",
       "      <td>4.800000e+04</td>\n",
       "      <td>0.236000</td>\n",
       "      <td>10.750000</td>\n",
       "      <td>0.000000</td>\n",
       "    </tr>\n",
       "    <tr>\n",
       "      <th>50%</th>\n",
       "      <td>12000.000000</td>\n",
       "      <td>0.119800</td>\n",
       "      <td>6.800000e+04</td>\n",
       "      <td>0.413000</td>\n",
       "      <td>16.700000</td>\n",
       "      <td>0.000000</td>\n",
       "    </tr>\n",
       "    <tr>\n",
       "      <th>75%</th>\n",
       "      <td>20000.000000</td>\n",
       "      <td>0.150400</td>\n",
       "      <td>9.800000e+04</td>\n",
       "      <td>0.616000</td>\n",
       "      <td>23.410000</td>\n",
       "      <td>0.000000</td>\n",
       "    </tr>\n",
       "    <tr>\n",
       "      <th>max</th>\n",
       "      <td>40000.000000</td>\n",
       "      <td>0.309900</td>\n",
       "      <td>9.930475e+06</td>\n",
       "      <td>1.244000</td>\n",
       "      <td>39.990000</td>\n",
       "      <td>23.000000</td>\n",
       "    </tr>\n",
       "  </tbody>\n",
       "</table>\n",
       "</div>"
      ],
      "text/plain": [
       "           loan_amnt       int_rate    annual_inc     revol_util  \\\n",
       "count  111068.000000  111068.000000  1.110680e+05  110951.000000   \n",
       "mean   15333.901304   0.123530       8.152713e+04  0.432369        \n",
       "std    9903.827140    0.049712       8.914149e+04  0.247957        \n",
       "min    1000.000000    0.053100       2.300000e+03  0.000000        \n",
       "25%    8000.000000    0.080800       4.800000e+04  0.236000        \n",
       "50%    12000.000000   0.119800       6.800000e+04  0.413000        \n",
       "75%    20000.000000   0.150400       9.800000e+04  0.616000        \n",
       "max    40000.000000   0.309900       9.930475e+06  1.244000        \n",
       "\n",
       "                 dti    delinq_2yrs  \n",
       "count  111068.000000  111068.000000  \n",
       "mean   17.334945      0.236450       \n",
       "std    8.750318       0.750367       \n",
       "min    0.000000       0.000000       \n",
       "25%    10.750000      0.000000       \n",
       "50%    16.700000      0.000000       \n",
       "75%    23.410000      0.000000       \n",
       "max    39.990000      23.000000      "
      ]
     },
     "metadata": {},
     "output_type": "display_data"
    },
    {
     "name": "stdout",
     "output_type": "stream",
     "text": [
      "(None, '\\n')\n",
      "('Frequency of Categorical Data:', '\\n')\n",
      "purpose:12\n",
      "debt_consolidation    53271\n",
      "credit_card           29222\n",
      "other                 9876 \n",
      "home_improvement      7679 \n",
      "major_purchase        3260 \n",
      "house                 2081 \n",
      "medical               1559 \n",
      "car                   1311 \n",
      "small_business        1038 \n",
      "vacation              938  \n",
      "moving                772  \n",
      "renewable_energy      61   \n",
      "Name: purpose, dtype: int64\n",
      "\n",
      "\n",
      "grade:7\n",
      "B    32835\n",
      "C    29884\n",
      "A    29298\n",
      "D    15082\n",
      "E    3281 \n",
      "F    596  \n",
      "G    92   \n",
      "Name: grade, dtype: int64\n",
      "\n",
      "\n",
      "emp_length:11\n",
      "10+ years    37389\n",
      "2 years      10577\n",
      "3 years      9325 \n",
      "< 1 year     7615 \n",
      "1 year       7488 \n",
      "4 years      7445 \n",
      "5 years      7048 \n",
      "6 years      5282 \n",
      "7 years      4280 \n",
      "8 years      3753 \n",
      "9 years      3119 \n",
      "Name: emp_length, dtype: int64\n",
      "\n",
      "\n",
      "home_ownership:4\n",
      "MORTGAGE    49589\n",
      "RENT        46766\n",
      "OWN         14700\n",
      "ANY         13   \n",
      "Name: home_ownership, dtype: int64\n",
      "\n",
      "\n"
     ]
    },
    {
     "data": {
      "text/html": [
       "<div>\n",
       "<style scoped>\n",
       "    .dataframe tbody tr th:only-of-type {\n",
       "        vertical-align: middle;\n",
       "    }\n",
       "\n",
       "    .dataframe tbody tr th {\n",
       "        vertical-align: top;\n",
       "    }\n",
       "\n",
       "    .dataframe thead th {\n",
       "        text-align: right;\n",
       "    }\n",
       "</style>\n",
       "<table border=\"1\" class=\"dataframe\">\n",
       "  <thead>\n",
       "    <tr style=\"text-align: right;\">\n",
       "      <th></th>\n",
       "      <th>VariableName</th>\n",
       "      <th>DataType</th>\n",
       "      <th>Missing</th>\n",
       "      <th>MissingPercentage</th>\n",
       "      <th>Uniques</th>\n",
       "    </tr>\n",
       "  </thead>\n",
       "  <tbody>\n",
       "    <tr>\n",
       "      <th>0</th>\n",
       "      <td>loan_amnt</td>\n",
       "      <td>int64</td>\n",
       "      <td>0</td>\n",
       "      <td>0.00</td>\n",
       "      <td>1415</td>\n",
       "    </tr>\n",
       "    <tr>\n",
       "      <th>1</th>\n",
       "      <td>int_rate</td>\n",
       "      <td>float64</td>\n",
       "      <td>0</td>\n",
       "      <td>0.00</td>\n",
       "      <td>54</td>\n",
       "    </tr>\n",
       "    <tr>\n",
       "      <th>2</th>\n",
       "      <td>purpose</td>\n",
       "      <td>object</td>\n",
       "      <td>0</td>\n",
       "      <td>0.00</td>\n",
       "      <td>12</td>\n",
       "    </tr>\n",
       "    <tr>\n",
       "      <th>3</th>\n",
       "      <td>grade</td>\n",
       "      <td>object</td>\n",
       "      <td>0</td>\n",
       "      <td>0.00</td>\n",
       "      <td>7</td>\n",
       "    </tr>\n",
       "    <tr>\n",
       "      <th>4</th>\n",
       "      <td>annual_inc</td>\n",
       "      <td>float64</td>\n",
       "      <td>0</td>\n",
       "      <td>0.00</td>\n",
       "      <td>9589</td>\n",
       "    </tr>\n",
       "    <tr>\n",
       "      <th>5</th>\n",
       "      <td>revol_util</td>\n",
       "      <td>float64</td>\n",
       "      <td>117</td>\n",
       "      <td>0.11</td>\n",
       "      <td>1058</td>\n",
       "    </tr>\n",
       "    <tr>\n",
       "      <th>6</th>\n",
       "      <td>emp_length</td>\n",
       "      <td>object</td>\n",
       "      <td>7747</td>\n",
       "      <td>6.98</td>\n",
       "      <td>11</td>\n",
       "    </tr>\n",
       "    <tr>\n",
       "      <th>7</th>\n",
       "      <td>dti</td>\n",
       "      <td>float64</td>\n",
       "      <td>0</td>\n",
       "      <td>0.00</td>\n",
       "      <td>3996</td>\n",
       "    </tr>\n",
       "    <tr>\n",
       "      <th>8</th>\n",
       "      <td>delinq_2yrs</td>\n",
       "      <td>int64</td>\n",
       "      <td>0</td>\n",
       "      <td>0.00</td>\n",
       "      <td>20</td>\n",
       "    </tr>\n",
       "    <tr>\n",
       "      <th>9</th>\n",
       "      <td>home_ownership</td>\n",
       "      <td>object</td>\n",
       "      <td>0</td>\n",
       "      <td>0.00</td>\n",
       "      <td>4</td>\n",
       "    </tr>\n",
       "  </tbody>\n",
       "</table>\n",
       "</div>"
      ],
      "text/plain": [
       "     VariableName DataType  Missing  MissingPercentage  Uniques\n",
       "0  loan_amnt       int64    0        0.00               1415   \n",
       "1  int_rate        float64  0        0.00               54     \n",
       "2  purpose         object   0        0.00               12     \n",
       "3  grade           object   0        0.00               7      \n",
       "4  annual_inc      float64  0        0.00               9589   \n",
       "5  revol_util      float64  117      0.11               1058   \n",
       "6  emp_length      object   7747     6.98               11     \n",
       "7  dti             float64  0        0.00               3996   \n",
       "8  delinq_2yrs     int64    0        0.00               20     \n",
       "9  home_ownership  object   0        0.00               4      "
      ]
     },
     "execution_count": 95,
     "metadata": {},
     "output_type": "execute_result"
    }
   ],
   "source": [
    "print(\"Summary of Training Data:\")\n",
    "SummaryTable(X_train)"
   ]
  },
  {
   "cell_type": "code",
   "execution_count": 96,
   "metadata": {},
   "outputs": [
    {
     "name": "stdout",
     "output_type": "stream",
     "text": [
      "('The no of duplicates in the data:', 0)\n"
     ]
    }
   ],
   "source": [
    "# Check for duplicate data\n",
    "columns_without_id = [col for col in X_train.columns if col!='SK_ID_CURR']\n",
    "#Checking for duplicates in the data.\n",
    "X_train[X_train.duplicated(subset = columns_without_id, keep=False)]\n",
    "print('The no of duplicates in the data:',X_train[X_train.duplicated(subset = columns_without_id, keep=False)].shape[0])"
   ]
  },
  {
   "cell_type": "code",
   "execution_count": 17,
   "metadata": {
    "collapsed": true
   },
   "outputs": [
    {
     "name": "stdout",
     "output_type": "stream",
     "text": [
      "This dataset has 6843 rows, and 10 columns\n",
      "('\\n', 'TOP FEW OBSERVATIONS:')\n"
     ]
    },
    {
     "data": {
      "text/html": [
       "<div>\n",
       "<style scoped>\n",
       "    .dataframe tbody tr th:only-of-type {\n",
       "        vertical-align: middle;\n",
       "    }\n",
       "\n",
       "    .dataframe tbody tr th {\n",
       "        vertical-align: top;\n",
       "    }\n",
       "\n",
       "    .dataframe thead th {\n",
       "        text-align: right;\n",
       "    }\n",
       "</style>\n",
       "<table border=\"1\" class=\"dataframe\">\n",
       "  <thead>\n",
       "    <tr style=\"text-align: right;\">\n",
       "      <th></th>\n",
       "      <th>loan_amnt</th>\n",
       "      <th>int_rate</th>\n",
       "      <th>purpose</th>\n",
       "      <th>grade</th>\n",
       "      <th>annual_inc</th>\n",
       "      <th>revol_util</th>\n",
       "      <th>emp_length</th>\n",
       "      <th>dti</th>\n",
       "      <th>delinq_2yrs</th>\n",
       "      <th>home_ownership</th>\n",
       "    </tr>\n",
       "  </thead>\n",
       "  <tbody>\n",
       "    <tr>\n",
       "      <th>0</th>\n",
       "      <td>5000</td>\n",
       "      <td>0.1356</td>\n",
       "      <td>debt_consolidation</td>\n",
       "      <td>C</td>\n",
       "      <td>52000.0</td>\n",
       "      <td>0.226</td>\n",
       "      <td>9 years</td>\n",
       "      <td>14.39</td>\n",
       "      <td>1</td>\n",
       "      <td>MORTGAGE</td>\n",
       "    </tr>\n",
       "    <tr>\n",
       "      <th>1</th>\n",
       "      <td>25000</td>\n",
       "      <td>0.0611</td>\n",
       "      <td>credit_card</td>\n",
       "      <td>A</td>\n",
       "      <td>75000.0</td>\n",
       "      <td>0.300</td>\n",
       "      <td>1 year</td>\n",
       "      <td>32.94</td>\n",
       "      <td>0</td>\n",
       "      <td>RENT</td>\n",
       "    </tr>\n",
       "    <tr>\n",
       "      <th>2</th>\n",
       "      <td>12000</td>\n",
       "      <td>0.0846</td>\n",
       "      <td>debt_consolidation</td>\n",
       "      <td>A</td>\n",
       "      <td>70000.0</td>\n",
       "      <td>0.447</td>\n",
       "      <td>1 year</td>\n",
       "      <td>20.93</td>\n",
       "      <td>0</td>\n",
       "      <td>RENT</td>\n",
       "    </tr>\n",
       "    <tr>\n",
       "      <th>3</th>\n",
       "      <td>20000</td>\n",
       "      <td>0.1155</td>\n",
       "      <td>debt_consolidation</td>\n",
       "      <td>B</td>\n",
       "      <td>85000.0</td>\n",
       "      <td>0.785</td>\n",
       "      <td>10+ years</td>\n",
       "      <td>28.72</td>\n",
       "      <td>1</td>\n",
       "      <td>OWN</td>\n",
       "    </tr>\n",
       "    <tr>\n",
       "      <th>4</th>\n",
       "      <td>6400</td>\n",
       "      <td>0.1549</td>\n",
       "      <td>credit_card</td>\n",
       "      <td>C</td>\n",
       "      <td>46000.0</td>\n",
       "      <td>0.327</td>\n",
       "      <td>10+ years</td>\n",
       "      <td>18.76</td>\n",
       "      <td>0</td>\n",
       "      <td>RENT</td>\n",
       "    </tr>\n",
       "  </tbody>\n",
       "</table>\n",
       "</div>"
      ],
      "text/plain": [
       "   loan_amnt  int_rate             purpose grade  annual_inc  revol_util  \\\n",
       "0  5000       0.1356    debt_consolidation  C     52000.0     0.226        \n",
       "1  25000      0.0611    credit_card         A     75000.0     0.300        \n",
       "2  12000      0.0846    debt_consolidation  A     70000.0     0.447        \n",
       "3  20000      0.1155    debt_consolidation  B     85000.0     0.785        \n",
       "4  6400       0.1549    credit_card         C     46000.0     0.327        \n",
       "\n",
       "  emp_length    dti  delinq_2yrs home_ownership  \n",
       "0  9 years    14.39  1            MORTGAGE       \n",
       "1  1 year     32.94  0            RENT           \n",
       "2  1 year     20.93  0            RENT           \n",
       "3  10+ years  28.72  1            OWN            \n",
       "4  10+ years  18.76  0            RENT           "
      ]
     },
     "metadata": {},
     "output_type": "display_data"
    },
    {
     "name": "stdout",
     "output_type": "stream",
     "text": [
      "None\n",
      "('\\n', 'BOTTOM FEW OBSERVATIONS:')\n"
     ]
    },
    {
     "data": {
      "text/html": [
       "<div>\n",
       "<style scoped>\n",
       "    .dataframe tbody tr th:only-of-type {\n",
       "        vertical-align: middle;\n",
       "    }\n",
       "\n",
       "    .dataframe tbody tr th {\n",
       "        vertical-align: top;\n",
       "    }\n",
       "\n",
       "    .dataframe thead th {\n",
       "        text-align: right;\n",
       "    }\n",
       "</style>\n",
       "<table border=\"1\" class=\"dataframe\">\n",
       "  <thead>\n",
       "    <tr style=\"text-align: right;\">\n",
       "      <th></th>\n",
       "      <th>loan_amnt</th>\n",
       "      <th>int_rate</th>\n",
       "      <th>purpose</th>\n",
       "      <th>grade</th>\n",
       "      <th>annual_inc</th>\n",
       "      <th>revol_util</th>\n",
       "      <th>emp_length</th>\n",
       "      <th>dti</th>\n",
       "      <th>delinq_2yrs</th>\n",
       "      <th>home_ownership</th>\n",
       "    </tr>\n",
       "  </thead>\n",
       "  <tbody>\n",
       "    <tr>\n",
       "      <th>6838</th>\n",
       "      <td>8400</td>\n",
       "      <td>0.0846</td>\n",
       "      <td>credit_card</td>\n",
       "      <td>A</td>\n",
       "      <td>100000.0</td>\n",
       "      <td>0.070</td>\n",
       "      <td>&lt; 1 year</td>\n",
       "      <td>4.98</td>\n",
       "      <td>0</td>\n",
       "      <td>MORTGAGE</td>\n",
       "    </tr>\n",
       "    <tr>\n",
       "      <th>6839</th>\n",
       "      <td>20000</td>\n",
       "      <td>0.1691</td>\n",
       "      <td>home_improvement</td>\n",
       "      <td>C</td>\n",
       "      <td>103000.0</td>\n",
       "      <td>0.415</td>\n",
       "      <td>10+ years</td>\n",
       "      <td>14.16</td>\n",
       "      <td>2</td>\n",
       "      <td>MORTGAGE</td>\n",
       "    </tr>\n",
       "    <tr>\n",
       "      <th>6840</th>\n",
       "      <td>8000</td>\n",
       "      <td>0.1614</td>\n",
       "      <td>credit_card</td>\n",
       "      <td>C</td>\n",
       "      <td>40000.0</td>\n",
       "      <td>0.106</td>\n",
       "      <td>10+ years</td>\n",
       "      <td>10.17</td>\n",
       "      <td>1</td>\n",
       "      <td>OWN</td>\n",
       "    </tr>\n",
       "    <tr>\n",
       "      <th>6841</th>\n",
       "      <td>20000</td>\n",
       "      <td>0.1047</td>\n",
       "      <td>credit_card</td>\n",
       "      <td>B</td>\n",
       "      <td>150000.0</td>\n",
       "      <td>0.642</td>\n",
       "      <td>8 years</td>\n",
       "      <td>7.67</td>\n",
       "      <td>2</td>\n",
       "      <td>RENT</td>\n",
       "    </tr>\n",
       "    <tr>\n",
       "      <th>6842</th>\n",
       "      <td>10000</td>\n",
       "      <td>0.1691</td>\n",
       "      <td>debt_consolidation</td>\n",
       "      <td>C</td>\n",
       "      <td>38000.0</td>\n",
       "      <td>0.290</td>\n",
       "      <td>5 years</td>\n",
       "      <td>19.58</td>\n",
       "      <td>3</td>\n",
       "      <td>RENT</td>\n",
       "    </tr>\n",
       "  </tbody>\n",
       "</table>\n",
       "</div>"
      ],
      "text/plain": [
       "      loan_amnt  int_rate             purpose grade  annual_inc  revol_util  \\\n",
       "6838  8400       0.0846    credit_card         A     100000.0    0.070        \n",
       "6839  20000      0.1691    home_improvement    C     103000.0    0.415        \n",
       "6840  8000       0.1614    credit_card         C     40000.0     0.106        \n",
       "6841  20000      0.1047    credit_card         B     150000.0    0.642        \n",
       "6842  10000      0.1691    debt_consolidation  C     38000.0     0.290        \n",
       "\n",
       "     emp_length    dti  delinq_2yrs home_ownership  \n",
       "6838  < 1 year   4.98   0            MORTGAGE       \n",
       "6839  10+ years  14.16  2            MORTGAGE       \n",
       "6840  10+ years  10.17  1            OWN            \n",
       "6841  8 years    7.67   2            RENT           \n",
       "6842  5 years    19.58  3            RENT           "
      ]
     },
     "metadata": {},
     "output_type": "display_data"
    },
    {
     "name": "stdout",
     "output_type": "stream",
     "text": [
      "None\n",
      "('\\n', 'SUMMARY of Quantitative Data:')\n"
     ]
    },
    {
     "data": {
      "text/html": [
       "<div>\n",
       "<style scoped>\n",
       "    .dataframe tbody tr th:only-of-type {\n",
       "        vertical-align: middle;\n",
       "    }\n",
       "\n",
       "    .dataframe tbody tr th {\n",
       "        vertical-align: top;\n",
       "    }\n",
       "\n",
       "    .dataframe thead th {\n",
       "        text-align: right;\n",
       "    }\n",
       "</style>\n",
       "<table border=\"1\" class=\"dataframe\">\n",
       "  <thead>\n",
       "    <tr style=\"text-align: right;\">\n",
       "      <th></th>\n",
       "      <th>loan_amnt</th>\n",
       "      <th>int_rate</th>\n",
       "      <th>annual_inc</th>\n",
       "      <th>revol_util</th>\n",
       "      <th>dti</th>\n",
       "      <th>delinq_2yrs</th>\n",
       "    </tr>\n",
       "  </thead>\n",
       "  <tbody>\n",
       "    <tr>\n",
       "      <th>count</th>\n",
       "      <td>6843.000000</td>\n",
       "      <td>6843.000000</td>\n",
       "      <td>6843.000000</td>\n",
       "      <td>6836.000000</td>\n",
       "      <td>6843.000000</td>\n",
       "      <td>6843.000000</td>\n",
       "    </tr>\n",
       "    <tr>\n",
       "      <th>mean</th>\n",
       "      <td>15564.723075</td>\n",
       "      <td>0.128534</td>\n",
       "      <td>82371.544058</td>\n",
       "      <td>0.448347</td>\n",
       "      <td>17.638371</td>\n",
       "      <td>0.235423</td>\n",
       "    </tr>\n",
       "    <tr>\n",
       "      <th>std</th>\n",
       "      <td>9784.198677</td>\n",
       "      <td>0.052686</td>\n",
       "      <td>53271.511923</td>\n",
       "      <td>0.245049</td>\n",
       "      <td>8.595267</td>\n",
       "      <td>0.752054</td>\n",
       "    </tr>\n",
       "    <tr>\n",
       "      <th>min</th>\n",
       "      <td>1000.000000</td>\n",
       "      <td>0.053100</td>\n",
       "      <td>2951.000000</td>\n",
       "      <td>0.000000</td>\n",
       "      <td>0.000000</td>\n",
       "      <td>0.000000</td>\n",
       "    </tr>\n",
       "    <tr>\n",
       "      <th>25%</th>\n",
       "      <td>8312.500000</td>\n",
       "      <td>0.084600</td>\n",
       "      <td>50000.000000</td>\n",
       "      <td>0.254000</td>\n",
       "      <td>11.170000</td>\n",
       "      <td>0.000000</td>\n",
       "    </tr>\n",
       "    <tr>\n",
       "      <th>50%</th>\n",
       "      <td>13000.000000</td>\n",
       "      <td>0.115500</td>\n",
       "      <td>70000.000000</td>\n",
       "      <td>0.431000</td>\n",
       "      <td>16.950000</td>\n",
       "      <td>0.000000</td>\n",
       "    </tr>\n",
       "    <tr>\n",
       "      <th>75%</th>\n",
       "      <td>20000.000000</td>\n",
       "      <td>0.161400</td>\n",
       "      <td>100000.000000</td>\n",
       "      <td>0.630000</td>\n",
       "      <td>23.595000</td>\n",
       "      <td>0.000000</td>\n",
       "    </tr>\n",
       "    <tr>\n",
       "      <th>max</th>\n",
       "      <td>40000.000000</td>\n",
       "      <td>0.309900</td>\n",
       "      <td>987000.000000</td>\n",
       "      <td>1.050000</td>\n",
       "      <td>39.990000</td>\n",
       "      <td>18.000000</td>\n",
       "    </tr>\n",
       "  </tbody>\n",
       "</table>\n",
       "</div>"
      ],
      "text/plain": [
       "          loan_amnt     int_rate     annual_inc   revol_util          dti  \\\n",
       "count  6843.000000   6843.000000  6843.000000    6836.000000  6843.000000   \n",
       "mean   15564.723075  0.128534     82371.544058   0.448347     17.638371     \n",
       "std    9784.198677   0.052686     53271.511923   0.245049     8.595267      \n",
       "min    1000.000000   0.053100     2951.000000    0.000000     0.000000      \n",
       "25%    8312.500000   0.084600     50000.000000   0.254000     11.170000     \n",
       "50%    13000.000000  0.115500     70000.000000   0.431000     16.950000     \n",
       "75%    20000.000000  0.161400     100000.000000  0.630000     23.595000     \n",
       "max    40000.000000  0.309900     987000.000000  1.050000     39.990000     \n",
       "\n",
       "       delinq_2yrs  \n",
       "count  6843.000000  \n",
       "mean   0.235423     \n",
       "std    0.752054     \n",
       "min    0.000000     \n",
       "25%    0.000000     \n",
       "50%    0.000000     \n",
       "75%    0.000000     \n",
       "max    18.000000    "
      ]
     },
     "metadata": {},
     "output_type": "display_data"
    },
    {
     "name": "stdout",
     "output_type": "stream",
     "text": [
      "(None, '\\n')\n",
      "('Frequency of Categorical Data:', '\\n')\n",
      "purpose:12\n",
      "debt_consolidation    3753\n",
      "credit_card           1913\n",
      "other                 386 \n",
      "home_improvement      380 \n",
      "major_purchase        115 \n",
      "medical               68  \n",
      "vacation              53  \n",
      "car                   50  \n",
      "small_business        49  \n",
      "house                 40  \n",
      "moving                32  \n",
      "renewable_energy      4   \n",
      "Name: purpose, dtype: int64\n",
      "\n",
      "\n",
      "grade:7\n",
      "A    2019\n",
      "B    1882\n",
      "C    1671\n",
      "D    951 \n",
      "E    267 \n",
      "F    42  \n",
      "G    11  \n",
      "Name: grade, dtype: int64\n",
      "\n",
      "\n",
      "emp_length:11\n",
      "10+ years    2275\n",
      "2 years      637 \n",
      "< 1 year     633 \n",
      "3 years      576 \n",
      "4 years      476 \n",
      "1 year       447 \n",
      "5 years      407 \n",
      "6 years      297 \n",
      "7 years      243 \n",
      "8 years      220 \n",
      "9 years      159 \n",
      "Name: emp_length, dtype: int64\n",
      "\n",
      "\n",
      "home_ownership:4\n",
      "MORTGAGE    3111\n",
      "RENT        2908\n",
      "OWN         813 \n",
      "ANY         11  \n",
      "Name: home_ownership, dtype: int64\n",
      "\n",
      "\n"
     ]
    },
    {
     "data": {
      "text/html": [
       "<div>\n",
       "<style scoped>\n",
       "    .dataframe tbody tr th:only-of-type {\n",
       "        vertical-align: middle;\n",
       "    }\n",
       "\n",
       "    .dataframe tbody tr th {\n",
       "        vertical-align: top;\n",
       "    }\n",
       "\n",
       "    .dataframe thead th {\n",
       "        text-align: right;\n",
       "    }\n",
       "</style>\n",
       "<table border=\"1\" class=\"dataframe\">\n",
       "  <thead>\n",
       "    <tr style=\"text-align: right;\">\n",
       "      <th></th>\n",
       "      <th>VariableName</th>\n",
       "      <th>DataType</th>\n",
       "      <th>Missing</th>\n",
       "      <th>MissingPercentage</th>\n",
       "      <th>Uniques</th>\n",
       "    </tr>\n",
       "  </thead>\n",
       "  <tbody>\n",
       "    <tr>\n",
       "      <th>0</th>\n",
       "      <td>loan_amnt</td>\n",
       "      <td>int64</td>\n",
       "      <td>0</td>\n",
       "      <td>0.00</td>\n",
       "      <td>449</td>\n",
       "    </tr>\n",
       "    <tr>\n",
       "      <th>1</th>\n",
       "      <td>int_rate</td>\n",
       "      <td>float64</td>\n",
       "      <td>0</td>\n",
       "      <td>0.00</td>\n",
       "      <td>57</td>\n",
       "    </tr>\n",
       "    <tr>\n",
       "      <th>2</th>\n",
       "      <td>purpose</td>\n",
       "      <td>object</td>\n",
       "      <td>0</td>\n",
       "      <td>0.00</td>\n",
       "      <td>12</td>\n",
       "    </tr>\n",
       "    <tr>\n",
       "      <th>3</th>\n",
       "      <td>grade</td>\n",
       "      <td>object</td>\n",
       "      <td>0</td>\n",
       "      <td>0.00</td>\n",
       "      <td>7</td>\n",
       "    </tr>\n",
       "    <tr>\n",
       "      <th>4</th>\n",
       "      <td>annual_inc</td>\n",
       "      <td>float64</td>\n",
       "      <td>0</td>\n",
       "      <td>0.00</td>\n",
       "      <td>1014</td>\n",
       "    </tr>\n",
       "    <tr>\n",
       "      <th>5</th>\n",
       "      <td>revol_util</td>\n",
       "      <td>float64</td>\n",
       "      <td>7</td>\n",
       "      <td>0.10</td>\n",
       "      <td>986</td>\n",
       "    </tr>\n",
       "    <tr>\n",
       "      <th>6</th>\n",
       "      <td>emp_length</td>\n",
       "      <td>object</td>\n",
       "      <td>473</td>\n",
       "      <td>6.91</td>\n",
       "      <td>11</td>\n",
       "    </tr>\n",
       "    <tr>\n",
       "      <th>7</th>\n",
       "      <td>dti</td>\n",
       "      <td>float64</td>\n",
       "      <td>0</td>\n",
       "      <td>0.00</td>\n",
       "      <td>2934</td>\n",
       "    </tr>\n",
       "    <tr>\n",
       "      <th>8</th>\n",
       "      <td>delinq_2yrs</td>\n",
       "      <td>int64</td>\n",
       "      <td>0</td>\n",
       "      <td>0.00</td>\n",
       "      <td>12</td>\n",
       "    </tr>\n",
       "    <tr>\n",
       "      <th>9</th>\n",
       "      <td>home_ownership</td>\n",
       "      <td>object</td>\n",
       "      <td>0</td>\n",
       "      <td>0.00</td>\n",
       "      <td>4</td>\n",
       "    </tr>\n",
       "  </tbody>\n",
       "</table>\n",
       "</div>"
      ],
      "text/plain": [
       "     VariableName DataType  Missing  MissingPercentage  Uniques\n",
       "0  loan_amnt       int64    0        0.00               449    \n",
       "1  int_rate        float64  0        0.00               57     \n",
       "2  purpose         object   0        0.00               12     \n",
       "3  grade           object   0        0.00               7      \n",
       "4  annual_inc      float64  0        0.00               1014   \n",
       "5  revol_util      float64  7        0.10               986    \n",
       "6  emp_length      object   473      6.91               11     \n",
       "7  dti             float64  0        0.00               2934   \n",
       "8  delinq_2yrs     int64    0        0.00               12     \n",
       "9  home_ownership  object   0        0.00               4      "
      ]
     },
     "execution_count": 17,
     "metadata": {},
     "output_type": "execute_result"
    }
   ],
   "source": [
    "SummaryTable(X_test)"
   ]
  },
  {
   "cell_type": "markdown",
   "metadata": {},
   "source": [
    "#### Missing Value Analysis\n",
    "* revol_util - Use Median\n",
    "* emp_length - Create a new category"
   ]
  },
  {
   "cell_type": "code",
   "execution_count": 97,
   "metadata": {
    "collapsed": true
   },
   "outputs": [
    {
     "name": "stderr",
     "output_type": "stream",
     "text": [
      "C:\\Users\\spashikanti\\AppData\\Local\\Continuum\\anaconda2\\lib\\site-packages\\ipykernel_launcher.py:2: SettingWithCopyWarning: \n",
      "A value is trying to be set on a copy of a slice from a DataFrame.\n",
      "Try using .loc[row_indexer,col_indexer] = value instead\n",
      "\n",
      "See the caveats in the documentation: http://pandas.pydata.org/pandas-docs/stable/indexing.html#indexing-view-versus-copy\n",
      "  \n",
      "C:\\Users\\spashikanti\\AppData\\Local\\Continuum\\anaconda2\\lib\\site-packages\\ipykernel_launcher.py:3: SettingWithCopyWarning: \n",
      "A value is trying to be set on a copy of a slice from a DataFrame.\n",
      "Try using .loc[row_indexer,col_indexer] = value instead\n",
      "\n",
      "See the caveats in the documentation: http://pandas.pydata.org/pandas-docs/stable/indexing.html#indexing-view-versus-copy\n",
      "  This is separate from the ipykernel package so we can avoid doing imports until\n",
      "C:\\Users\\spashikanti\\AppData\\Local\\Continuum\\anaconda2\\lib\\site-packages\\ipykernel_launcher.py:9: SettingWithCopyWarning: \n",
      "A value is trying to be set on a copy of a slice from a DataFrame.\n",
      "Try using .loc[row_indexer,col_indexer] = value instead\n",
      "\n",
      "See the caveats in the documentation: http://pandas.pydata.org/pandas-docs/stable/indexing.html#indexing-view-versus-copy\n",
      "  if __name__ == '__main__':\n",
      "C:\\Users\\spashikanti\\AppData\\Local\\Continuum\\anaconda2\\lib\\site-packages\\ipykernel_launcher.py:10: SettingWithCopyWarning: \n",
      "A value is trying to be set on a copy of a slice from a DataFrame.\n",
      "Try using .loc[row_indexer,col_indexer] = value instead\n",
      "\n",
      "See the caveats in the documentation: http://pandas.pydata.org/pandas-docs/stable/indexing.html#indexing-view-versus-copy\n",
      "  # Remove the CWD from sys.path while we load stuff.\n"
     ]
    }
   ],
   "source": [
    "revol_util_median = X_train['revol_util'].median()\n",
    "X_train['revol_util']=X_train['revol_util'].fillna(revol_util_median)\n",
    "X_test['revol_util']=X_test['revol_util'].fillna(revol_util_median)\n",
    "\n",
    "# emp_length_mode = X_train['emp_length'].mode()\n",
    "# X_train['emp_length']=X_train['emp_length'].fillna(emp_length_mode[0])\n",
    "# X_test['emp_length']=X_test['emp_length'].fillna(emp_length_mode[0])\n",
    "\n",
    "X_train['emp_length']=X_train['emp_length'].fillna(\"Missing\")\n",
    "X_test['emp_length']=X_test['emp_length'].fillna(\"Missing\")"
   ]
  },
  {
   "cell_type": "markdown",
   "metadata": {},
   "source": [
    "#### Categorical Data \n",
    "* Grade & emp_length are Ordinal vars\n",
    "* Grade is related to Interest rate\n",
    "* \n"
   ]
  },
  {
   "cell_type": "code",
   "execution_count": 28,
   "metadata": {
    "collapsed": true
   },
   "outputs": [
    {
     "data": {
      "text/html": [
       "<div>\n",
       "<style scoped>\n",
       "    .dataframe tbody tr th:only-of-type {\n",
       "        vertical-align: middle;\n",
       "    }\n",
       "\n",
       "    .dataframe tbody tr th {\n",
       "        vertical-align: top;\n",
       "    }\n",
       "\n",
       "    .dataframe thead th {\n",
       "        text-align: right;\n",
       "    }\n",
       "</style>\n",
       "<table border=\"1\" class=\"dataframe\">\n",
       "  <thead>\n",
       "    <tr style=\"text-align: right;\">\n",
       "      <th>int_rate</th>\n",
       "      <th>0.0531</th>\n",
       "      <th>0.06</th>\n",
       "      <th>0.0607</th>\n",
       "      <th>0.0619</th>\n",
       "      <th>0.0671</th>\n",
       "      <th>0.0683</th>\n",
       "      <th>0.0734</th>\n",
       "      <th>0.0735</th>\n",
       "      <th>0.0746</th>\n",
       "      <th>0.0796</th>\n",
       "      <th>0.0808</th>\n",
       "      <th>0.0943</th>\n",
       "      <th>0.0958</th>\n",
       "      <th>0.0992</th>\n",
       "      <th>0.1007</th>\n",
       "      <th>0.1041</th>\n",
       "      <th>0.1056</th>\n",
       "      <th>0.109</th>\n",
       "      <th>0.1105</th>\n",
       "      <th>0.1198</th>\n",
       "      <th>0.1213</th>\n",
       "      <th>0.1261</th>\n",
       "      <th>0.1306</th>\n",
       "      <th>0.1358</th>\n",
       "      <th>0.1403</th>\n",
       "      <th>0.1407</th>\n",
       "      <th>0.1452</th>\n",
       "      <th>0.1504</th>\n",
       "      <th>0.1549</th>\n",
       "      <th>0.1601</th>\n",
       "      <th>0.1646</th>\n",
       "      <th>0.1709</th>\n",
       "      <th>0.1747</th>\n",
       "      <th>0.1806</th>\n",
       "      <th>0.1845</th>\n",
       "      <th>0.1942</th>\n",
       "      <th>0.2</th>\n",
       "      <th>0.2039</th>\n",
       "      <th>0.2185</th>\n",
       "      <th>0.229</th>\n",
       "      <th>0.2387</th>\n",
       "      <th>0.2484</th>\n",
       "      <th>0.2581</th>\n",
       "      <th>0.2677</th>\n",
       "      <th>0.2872</th>\n",
       "      <th>0.2969</th>\n",
       "      <th>0.3017</th>\n",
       "      <th>0.3065</th>\n",
       "      <th>0.3075</th>\n",
       "      <th>0.3079</th>\n",
       "      <th>0.3084</th>\n",
       "      <th>0.3089</th>\n",
       "      <th>0.3094</th>\n",
       "      <th>0.3099</th>\n",
       "    </tr>\n",
       "    <tr>\n",
       "      <th>grade</th>\n",
       "      <th></th>\n",
       "      <th></th>\n",
       "      <th></th>\n",
       "      <th></th>\n",
       "      <th></th>\n",
       "      <th></th>\n",
       "      <th></th>\n",
       "      <th></th>\n",
       "      <th></th>\n",
       "      <th></th>\n",
       "      <th></th>\n",
       "      <th></th>\n",
       "      <th></th>\n",
       "      <th></th>\n",
       "      <th></th>\n",
       "      <th></th>\n",
       "      <th></th>\n",
       "      <th></th>\n",
       "      <th></th>\n",
       "      <th></th>\n",
       "      <th></th>\n",
       "      <th></th>\n",
       "      <th></th>\n",
       "      <th></th>\n",
       "      <th></th>\n",
       "      <th></th>\n",
       "      <th></th>\n",
       "      <th></th>\n",
       "      <th></th>\n",
       "      <th></th>\n",
       "      <th></th>\n",
       "      <th></th>\n",
       "      <th></th>\n",
       "      <th></th>\n",
       "      <th></th>\n",
       "      <th></th>\n",
       "      <th></th>\n",
       "      <th></th>\n",
       "      <th></th>\n",
       "      <th></th>\n",
       "      <th></th>\n",
       "      <th></th>\n",
       "      <th></th>\n",
       "      <th></th>\n",
       "      <th></th>\n",
       "      <th></th>\n",
       "      <th></th>\n",
       "      <th></th>\n",
       "      <th></th>\n",
       "      <th></th>\n",
       "      <th></th>\n",
       "      <th></th>\n",
       "      <th></th>\n",
       "      <th></th>\n",
       "    </tr>\n",
       "  </thead>\n",
       "  <tbody>\n",
       "    <tr>\n",
       "      <th>A</th>\n",
       "      <td>5576</td>\n",
       "      <td>4</td>\n",
       "      <td>2560</td>\n",
       "      <td>2704</td>\n",
       "      <td>2865</td>\n",
       "      <td>3255</td>\n",
       "      <td>3178</td>\n",
       "      <td>2</td>\n",
       "      <td>3572</td>\n",
       "      <td>2549</td>\n",
       "      <td>3033</td>\n",
       "      <td>0</td>\n",
       "      <td>0</td>\n",
       "      <td>0</td>\n",
       "      <td>0</td>\n",
       "      <td>0</td>\n",
       "      <td>0</td>\n",
       "      <td>0</td>\n",
       "      <td>0</td>\n",
       "      <td>0</td>\n",
       "      <td>0</td>\n",
       "      <td>0</td>\n",
       "      <td>0</td>\n",
       "      <td>0</td>\n",
       "      <td>0</td>\n",
       "      <td>0</td>\n",
       "      <td>0</td>\n",
       "      <td>0</td>\n",
       "      <td>0</td>\n",
       "      <td>0</td>\n",
       "      <td>0</td>\n",
       "      <td>0</td>\n",
       "      <td>0</td>\n",
       "      <td>0</td>\n",
       "      <td>0</td>\n",
       "      <td>0</td>\n",
       "      <td>0</td>\n",
       "      <td>0</td>\n",
       "      <td>0</td>\n",
       "      <td>0</td>\n",
       "      <td>0</td>\n",
       "      <td>0</td>\n",
       "      <td>0</td>\n",
       "      <td>0</td>\n",
       "      <td>0</td>\n",
       "      <td>0</td>\n",
       "      <td>0</td>\n",
       "      <td>0</td>\n",
       "      <td>0</td>\n",
       "      <td>0</td>\n",
       "      <td>0</td>\n",
       "      <td>0</td>\n",
       "      <td>0</td>\n",
       "      <td>0</td>\n",
       "    </tr>\n",
       "    <tr>\n",
       "      <th>B</th>\n",
       "      <td>0</td>\n",
       "      <td>3</td>\n",
       "      <td>0</td>\n",
       "      <td>0</td>\n",
       "      <td>0</td>\n",
       "      <td>0</td>\n",
       "      <td>0</td>\n",
       "      <td>0</td>\n",
       "      <td>0</td>\n",
       "      <td>0</td>\n",
       "      <td>0</td>\n",
       "      <td>3308</td>\n",
       "      <td>3309</td>\n",
       "      <td>3233</td>\n",
       "      <td>3493</td>\n",
       "      <td>2372</td>\n",
       "      <td>2751</td>\n",
       "      <td>3550</td>\n",
       "      <td>3799</td>\n",
       "      <td>3454</td>\n",
       "      <td>3563</td>\n",
       "      <td>0</td>\n",
       "      <td>0</td>\n",
       "      <td>0</td>\n",
       "      <td>0</td>\n",
       "      <td>0</td>\n",
       "      <td>0</td>\n",
       "      <td>0</td>\n",
       "      <td>0</td>\n",
       "      <td>0</td>\n",
       "      <td>0</td>\n",
       "      <td>0</td>\n",
       "      <td>0</td>\n",
       "      <td>0</td>\n",
       "      <td>0</td>\n",
       "      <td>0</td>\n",
       "      <td>0</td>\n",
       "      <td>0</td>\n",
       "      <td>0</td>\n",
       "      <td>0</td>\n",
       "      <td>0</td>\n",
       "      <td>0</td>\n",
       "      <td>0</td>\n",
       "      <td>0</td>\n",
       "      <td>0</td>\n",
       "      <td>0</td>\n",
       "      <td>0</td>\n",
       "      <td>0</td>\n",
       "      <td>0</td>\n",
       "      <td>0</td>\n",
       "      <td>0</td>\n",
       "      <td>0</td>\n",
       "      <td>0</td>\n",
       "      <td>0</td>\n",
       "    </tr>\n",
       "    <tr>\n",
       "      <th>C</th>\n",
       "      <td>0</td>\n",
       "      <td>5</td>\n",
       "      <td>0</td>\n",
       "      <td>0</td>\n",
       "      <td>0</td>\n",
       "      <td>0</td>\n",
       "      <td>0</td>\n",
       "      <td>0</td>\n",
       "      <td>0</td>\n",
       "      <td>0</td>\n",
       "      <td>0</td>\n",
       "      <td>0</td>\n",
       "      <td>0</td>\n",
       "      <td>0</td>\n",
       "      <td>0</td>\n",
       "      <td>0</td>\n",
       "      <td>0</td>\n",
       "      <td>0</td>\n",
       "      <td>0</td>\n",
       "      <td>0</td>\n",
       "      <td>0</td>\n",
       "      <td>3277</td>\n",
       "      <td>3417</td>\n",
       "      <td>2900</td>\n",
       "      <td>3206</td>\n",
       "      <td>2858</td>\n",
       "      <td>3056</td>\n",
       "      <td>2725</td>\n",
       "      <td>3029</td>\n",
       "      <td>2664</td>\n",
       "      <td>2747</td>\n",
       "      <td>0</td>\n",
       "      <td>0</td>\n",
       "      <td>0</td>\n",
       "      <td>0</td>\n",
       "      <td>0</td>\n",
       "      <td>0</td>\n",
       "      <td>0</td>\n",
       "      <td>0</td>\n",
       "      <td>0</td>\n",
       "      <td>0</td>\n",
       "      <td>0</td>\n",
       "      <td>0</td>\n",
       "      <td>0</td>\n",
       "      <td>0</td>\n",
       "      <td>0</td>\n",
       "      <td>0</td>\n",
       "      <td>0</td>\n",
       "      <td>0</td>\n",
       "      <td>0</td>\n",
       "      <td>0</td>\n",
       "      <td>0</td>\n",
       "      <td>0</td>\n",
       "      <td>0</td>\n",
       "    </tr>\n",
       "    <tr>\n",
       "      <th>D</th>\n",
       "      <td>0</td>\n",
       "      <td>6</td>\n",
       "      <td>0</td>\n",
       "      <td>0</td>\n",
       "      <td>0</td>\n",
       "      <td>0</td>\n",
       "      <td>0</td>\n",
       "      <td>0</td>\n",
       "      <td>0</td>\n",
       "      <td>0</td>\n",
       "      <td>0</td>\n",
       "      <td>0</td>\n",
       "      <td>0</td>\n",
       "      <td>0</td>\n",
       "      <td>0</td>\n",
       "      <td>0</td>\n",
       "      <td>0</td>\n",
       "      <td>0</td>\n",
       "      <td>0</td>\n",
       "      <td>0</td>\n",
       "      <td>0</td>\n",
       "      <td>0</td>\n",
       "      <td>0</td>\n",
       "      <td>0</td>\n",
       "      <td>0</td>\n",
       "      <td>0</td>\n",
       "      <td>0</td>\n",
       "      <td>0</td>\n",
       "      <td>0</td>\n",
       "      <td>0</td>\n",
       "      <td>0</td>\n",
       "      <td>1</td>\n",
       "      <td>3562</td>\n",
       "      <td>1</td>\n",
       "      <td>3369</td>\n",
       "      <td>2966</td>\n",
       "      <td>1</td>\n",
       "      <td>2675</td>\n",
       "      <td>2501</td>\n",
       "      <td>0</td>\n",
       "      <td>0</td>\n",
       "      <td>0</td>\n",
       "      <td>0</td>\n",
       "      <td>0</td>\n",
       "      <td>0</td>\n",
       "      <td>0</td>\n",
       "      <td>0</td>\n",
       "      <td>0</td>\n",
       "      <td>0</td>\n",
       "      <td>0</td>\n",
       "      <td>0</td>\n",
       "      <td>0</td>\n",
       "      <td>0</td>\n",
       "      <td>0</td>\n",
       "    </tr>\n",
       "    <tr>\n",
       "      <th>E</th>\n",
       "      <td>0</td>\n",
       "      <td>1</td>\n",
       "      <td>0</td>\n",
       "      <td>0</td>\n",
       "      <td>0</td>\n",
       "      <td>0</td>\n",
       "      <td>0</td>\n",
       "      <td>0</td>\n",
       "      <td>0</td>\n",
       "      <td>0</td>\n",
       "      <td>0</td>\n",
       "      <td>0</td>\n",
       "      <td>0</td>\n",
       "      <td>0</td>\n",
       "      <td>0</td>\n",
       "      <td>0</td>\n",
       "      <td>0</td>\n",
       "      <td>0</td>\n",
       "      <td>0</td>\n",
       "      <td>0</td>\n",
       "      <td>0</td>\n",
       "      <td>0</td>\n",
       "      <td>0</td>\n",
       "      <td>0</td>\n",
       "      <td>0</td>\n",
       "      <td>0</td>\n",
       "      <td>0</td>\n",
       "      <td>0</td>\n",
       "      <td>0</td>\n",
       "      <td>0</td>\n",
       "      <td>0</td>\n",
       "      <td>0</td>\n",
       "      <td>0</td>\n",
       "      <td>0</td>\n",
       "      <td>0</td>\n",
       "      <td>0</td>\n",
       "      <td>0</td>\n",
       "      <td>0</td>\n",
       "      <td>0</td>\n",
       "      <td>535</td>\n",
       "      <td>460</td>\n",
       "      <td>724</td>\n",
       "      <td>611</td>\n",
       "      <td>950</td>\n",
       "      <td>0</td>\n",
       "      <td>0</td>\n",
       "      <td>0</td>\n",
       "      <td>0</td>\n",
       "      <td>0</td>\n",
       "      <td>0</td>\n",
       "      <td>0</td>\n",
       "      <td>0</td>\n",
       "      <td>0</td>\n",
       "      <td>0</td>\n",
       "    </tr>\n",
       "    <tr>\n",
       "      <th>F</th>\n",
       "      <td>0</td>\n",
       "      <td>0</td>\n",
       "      <td>0</td>\n",
       "      <td>0</td>\n",
       "      <td>0</td>\n",
       "      <td>0</td>\n",
       "      <td>0</td>\n",
       "      <td>0</td>\n",
       "      <td>0</td>\n",
       "      <td>0</td>\n",
       "      <td>0</td>\n",
       "      <td>0</td>\n",
       "      <td>0</td>\n",
       "      <td>0</td>\n",
       "      <td>0</td>\n",
       "      <td>0</td>\n",
       "      <td>0</td>\n",
       "      <td>0</td>\n",
       "      <td>0</td>\n",
       "      <td>0</td>\n",
       "      <td>0</td>\n",
       "      <td>0</td>\n",
       "      <td>0</td>\n",
       "      <td>0</td>\n",
       "      <td>0</td>\n",
       "      <td>0</td>\n",
       "      <td>0</td>\n",
       "      <td>0</td>\n",
       "      <td>0</td>\n",
       "      <td>0</td>\n",
       "      <td>0</td>\n",
       "      <td>0</td>\n",
       "      <td>0</td>\n",
       "      <td>0</td>\n",
       "      <td>0</td>\n",
       "      <td>0</td>\n",
       "      <td>0</td>\n",
       "      <td>0</td>\n",
       "      <td>0</td>\n",
       "      <td>0</td>\n",
       "      <td>0</td>\n",
       "      <td>0</td>\n",
       "      <td>0</td>\n",
       "      <td>0</td>\n",
       "      <td>352</td>\n",
       "      <td>83</td>\n",
       "      <td>64</td>\n",
       "      <td>48</td>\n",
       "      <td>49</td>\n",
       "      <td>0</td>\n",
       "      <td>0</td>\n",
       "      <td>0</td>\n",
       "      <td>0</td>\n",
       "      <td>0</td>\n",
       "    </tr>\n",
       "    <tr>\n",
       "      <th>G</th>\n",
       "      <td>0</td>\n",
       "      <td>0</td>\n",
       "      <td>0</td>\n",
       "      <td>0</td>\n",
       "      <td>0</td>\n",
       "      <td>0</td>\n",
       "      <td>0</td>\n",
       "      <td>0</td>\n",
       "      <td>0</td>\n",
       "      <td>0</td>\n",
       "      <td>0</td>\n",
       "      <td>0</td>\n",
       "      <td>0</td>\n",
       "      <td>0</td>\n",
       "      <td>0</td>\n",
       "      <td>0</td>\n",
       "      <td>0</td>\n",
       "      <td>0</td>\n",
       "      <td>0</td>\n",
       "      <td>0</td>\n",
       "      <td>0</td>\n",
       "      <td>0</td>\n",
       "      <td>0</td>\n",
       "      <td>0</td>\n",
       "      <td>0</td>\n",
       "      <td>0</td>\n",
       "      <td>0</td>\n",
       "      <td>0</td>\n",
       "      <td>0</td>\n",
       "      <td>0</td>\n",
       "      <td>0</td>\n",
       "      <td>0</td>\n",
       "      <td>0</td>\n",
       "      <td>0</td>\n",
       "      <td>0</td>\n",
       "      <td>0</td>\n",
       "      <td>0</td>\n",
       "      <td>0</td>\n",
       "      <td>0</td>\n",
       "      <td>0</td>\n",
       "      <td>0</td>\n",
       "      <td>0</td>\n",
       "      <td>0</td>\n",
       "      <td>0</td>\n",
       "      <td>0</td>\n",
       "      <td>0</td>\n",
       "      <td>0</td>\n",
       "      <td>0</td>\n",
       "      <td>0</td>\n",
       "      <td>71</td>\n",
       "      <td>10</td>\n",
       "      <td>6</td>\n",
       "      <td>2</td>\n",
       "      <td>3</td>\n",
       "    </tr>\n",
       "  </tbody>\n",
       "</table>\n",
       "</div>"
      ],
      "text/plain": [
       "int_rate  0.0531  0.0600  0.0607  0.0619  0.0671  0.0683  0.0734  0.0735  \\\n",
       "grade                                                                      \n",
       "A         5576    4       2560    2704    2865    3255    3178    2        \n",
       "B         0       3       0       0       0       0       0       0        \n",
       "C         0       5       0       0       0       0       0       0        \n",
       "D         0       6       0       0       0       0       0       0        \n",
       "E         0       1       0       0       0       0       0       0        \n",
       "F         0       0       0       0       0       0       0       0        \n",
       "G         0       0       0       0       0       0       0       0        \n",
       "\n",
       "int_rate  0.0746  0.0796  0.0808  0.0943  0.0958  0.0992  0.1007  0.1041  \\\n",
       "grade                                                                      \n",
       "A         3572    2549    3033    0       0       0       0       0        \n",
       "B         0       0       0       3308    3309    3233    3493    2372     \n",
       "C         0       0       0       0       0       0       0       0        \n",
       "D         0       0       0       0       0       0       0       0        \n",
       "E         0       0       0       0       0       0       0       0        \n",
       "F         0       0       0       0       0       0       0       0        \n",
       "G         0       0       0       0       0       0       0       0        \n",
       "\n",
       "int_rate  0.1056  0.1090  0.1105  0.1198  0.1213  0.1261  0.1306  0.1358  \\\n",
       "grade                                                                      \n",
       "A         0       0       0       0       0       0       0       0        \n",
       "B         2751    3550    3799    3454    3563    0       0       0        \n",
       "C         0       0       0       0       0       3277    3417    2900     \n",
       "D         0       0       0       0       0       0       0       0        \n",
       "E         0       0       0       0       0       0       0       0        \n",
       "F         0       0       0       0       0       0       0       0        \n",
       "G         0       0       0       0       0       0       0       0        \n",
       "\n",
       "int_rate  0.1403  0.1407  0.1452  0.1504  0.1549  0.1601  0.1646  0.1709  \\\n",
       "grade                                                                      \n",
       "A         0       0       0       0       0       0       0       0        \n",
       "B         0       0       0       0       0       0       0       0        \n",
       "C         3206    2858    3056    2725    3029    2664    2747    0        \n",
       "D         0       0       0       0       0       0       0       1        \n",
       "E         0       0       0       0       0       0       0       0        \n",
       "F         0       0       0       0       0       0       0       0        \n",
       "G         0       0       0       0       0       0       0       0        \n",
       "\n",
       "int_rate  0.1747  0.1806  0.1845  0.1942  0.2000  0.2039  0.2185  0.2290  \\\n",
       "grade                                                                      \n",
       "A         0       0       0       0       0       0       0       0        \n",
       "B         0       0       0       0       0       0       0       0        \n",
       "C         0       0       0       0       0       0       0       0        \n",
       "D         3562    1       3369    2966    1       2675    2501    0        \n",
       "E         0       0       0       0       0       0       0       535      \n",
       "F         0       0       0       0       0       0       0       0        \n",
       "G         0       0       0       0       0       0       0       0        \n",
       "\n",
       "int_rate  0.2387  0.2484  0.2581  0.2677  0.2872  0.2969  0.3017  0.3065  \\\n",
       "grade                                                                      \n",
       "A         0       0       0       0       0       0       0       0        \n",
       "B         0       0       0       0       0       0       0       0        \n",
       "C         0       0       0       0       0       0       0       0        \n",
       "D         0       0       0       0       0       0       0       0        \n",
       "E         460     724     611     950     0       0       0       0        \n",
       "F         0       0       0       0       352     83      64      48       \n",
       "G         0       0       0       0       0       0       0       0        \n",
       "\n",
       "int_rate  0.3075  0.3079  0.3084  0.3089  0.3094  0.3099  \n",
       "grade                                                     \n",
       "A         0       0       0       0       0       0       \n",
       "B         0       0       0       0       0       0       \n",
       "C         0       0       0       0       0       0       \n",
       "D         0       0       0       0       0       0       \n",
       "E         0       0       0       0       0       0       \n",
       "F         49      0       0       0       0       0       \n",
       "G         0       71      10      6       2       3       "
      ]
     },
     "execution_count": 28,
     "metadata": {},
     "output_type": "execute_result"
    }
   ],
   "source": [
    "# A [0.5,0.08], B 0.06,[0.0943,0.1213], C 0.06,[0.1261,0.1646], D 0.06,[0.1709,0.2185], E 0.06,[0.229,0.2677], F [0.2872,0.3075], G [0.3079,0.3099]\n",
    "pd.crosstab(X_train['grade'],X_train['int_rate'])"
   ]
  },
  {
   "cell_type": "code",
   "execution_count": 110,
   "metadata": {},
   "outputs": [
    {
     "name": "stderr",
     "output_type": "stream",
     "text": [
      "C:\\Users\\spashikanti\\AppData\\Local\\Continuum\\anaconda2\\lib\\site-packages\\pandas\\core\\indexing.py:543: SettingWithCopyWarning: \n",
      "A value is trying to be set on a copy of a slice from a DataFrame.\n",
      "Try using .loc[row_indexer,col_indexer] = value instead\n",
      "\n",
      "See the caveats in the documentation: http://pandas.pydata.org/pandas-docs/stable/indexing.html#indexing-view-versus-copy\n",
      "  self.obj[item] = s\n"
     ]
    }
   ],
   "source": [
    "# Grade is converted to Continuous using\n",
    "grade = sorted(list(set(X_train['grade'].values)))\n",
    "grade = dict(zip(grade, [x+1 for x in range(len(grade))]))\n",
    "X_train.loc[:, 'grade'] = X_train['grade'].apply(lambda x: grade[x]).astype(int)\n",
    "X_test.loc[:, 'grade'] = X_test['grade'].apply(lambda x: grade[x]).astype(int)"
   ]
  },
  {
   "cell_type": "code",
   "execution_count": 27,
   "metadata": {
    "collapsed": true
   },
   "outputs": [
    {
     "data": {
      "text/plain": [
       "[Text(0,0,'D'),\n",
       " Text(0,0,'C'),\n",
       " Text(0,0,'A'),\n",
       " Text(0,0,'E'),\n",
       " Text(0,0,'B'),\n",
       " Text(0,0,'F'),\n",
       " Text(0,0,'G')]"
      ]
     },
     "execution_count": 27,
     "metadata": {},
     "output_type": "execute_result"
    },
    {
     "data": {
      "image/png": "[encoded data removed]",
      "text/plain": [
       "<Figure size 432x288 with 1 Axes>"
      ]
     },
     "metadata": {
      "needs_background": "light"
     },
     "output_type": "display_data"
    }
   ],
   "source": [
    "chart = sns.boxplot(x=\"grade\", y=\"int_rate\", data=X_train)\n",
    "chart.set_xticklabels(chart.get_xticklabels(), rotation=85)"
   ]
  },
  {
   "cell_type": "code",
   "execution_count": 26,
   "metadata": {
    "collapsed": true
   },
   "outputs": [
    {
     "data": {
      "text/plain": [
       "[Text(0,0,'credit_card'),\n",
       " Text(0,0,'home_improvement'),\n",
       " Text(0,0,'other'),\n",
       " Text(0,0,'debt_consolidation'),\n",
       " Text(0,0,'major_purchase'),\n",
       " Text(0,0,'moving'),\n",
       " Text(0,0,'house'),\n",
       " Text(0,0,'medical'),\n",
       " Text(0,0,'small_business'),\n",
       " Text(0,0,'vacation'),\n",
       " Text(0,0,'car'),\n",
       " Text(0,0,'renewable_energy')]"
      ]
     },
     "execution_count": 26,
     "metadata": {},
     "output_type": "execute_result"
    },
    {
     "data": {
      "image/png": "[encoded data removed]",
      "text/plain": [
       "<Figure size 432x288 with 1 Axes>"
      ]
     },
     "metadata": {
      "needs_background": "light"
     },
     "output_type": "display_data"
    }
   ],
   "source": [
    "chart = sns.boxplot(x=\"purpose\", y=\"loan_amnt\", data=X_train)\n",
    "chart.set_xticklabels(chart.get_xticklabels(), rotation=85)"
   ]
  },
  {
   "cell_type": "code",
   "execution_count": null,
   "metadata": {},
   "outputs": [],
   "source": [
    "chart = sns.boxplot(x=\"purpose\", y=\"loan_amnt\", data=X_train)\n",
    "chart.set_xticklabels(chart.get_xticklabels(), rotation=85)"
   ]
  },
  {
   "cell_type": "code",
   "execution_count": 11,
   "metadata": {},
   "outputs": [
    {
     "data": {
      "text/plain": [
       "'10+ years'"
      ]
     },
     "execution_count": 11,
     "metadata": {},
     "output_type": "execute_result"
    }
   ],
   "source": [
    "grade = sorted(list(set(X_train['grade'].values)))\n",
    "grade = dict(zip(grade, range(len(grade))))\n"
   ]
  },
  {
   "cell_type": "code",
   "execution_count": 108,
   "metadata": {
    "scrolled": true
   },
   "outputs": [
    {
     "data": {
      "text/plain": [
       "{'A': 1, 'B': 2, 'C': 3, 'D': 4, 'E': 5, 'F': 6, 'G': 7}"
      ]
     },
     "execution_count": 108,
     "metadata": {},
     "output_type": "execute_result"
    }
   ],
   "source": []
  },
  {
   "cell_type": "code",
   "execution_count": 106,
   "metadata": {},
   "outputs": [
    {
     "data": {
      "text/plain": [
       "[1, 2, 3, 4, 5, 6, 7]"
      ]
     },
     "execution_count": 106,
     "metadata": {},
     "output_type": "execute_result"
    }
   ],
   "source": []
  },
  {
   "cell_type": "code",
   "execution_count": 111,
   "metadata": {},
   "outputs": [
    {
     "name": "stdout",
     "output_type": "stream",
     "text": [
      "This dataset has 111068 rows, and 10 columns\n",
      "('\\n', 'TOP FEW OBSERVATIONS:')\n"
     ]
    },
    {
     "data": {
      "text/html": [
       "<div>\n",
       "<style scoped>\n",
       "    .dataframe tbody tr th:only-of-type {\n",
       "        vertical-align: middle;\n",
       "    }\n",
       "\n",
       "    .dataframe tbody tr th {\n",
       "        vertical-align: top;\n",
       "    }\n",
       "\n",
       "    .dataframe thead th {\n",
       "        text-align: right;\n",
       "    }\n",
       "</style>\n",
       "<table border=\"1\" class=\"dataframe\">\n",
       "  <thead>\n",
       "    <tr style=\"text-align: right;\">\n",
       "      <th></th>\n",
       "      <th>loan_amnt</th>\n",
       "      <th>int_rate</th>\n",
       "      <th>purpose</th>\n",
       "      <th>grade</th>\n",
       "      <th>annual_inc</th>\n",
       "      <th>revol_util</th>\n",
       "      <th>emp_length</th>\n",
       "      <th>dti</th>\n",
       "      <th>delinq_2yrs</th>\n",
       "      <th>home_ownership</th>\n",
       "    </tr>\n",
       "  </thead>\n",
       "  <tbody>\n",
       "    <tr>\n",
       "      <th>0</th>\n",
       "      <td>12000</td>\n",
       "      <td>0.2039</td>\n",
       "      <td>credit_card</td>\n",
       "      <td>4</td>\n",
       "      <td>42000.0</td>\n",
       "      <td>0.647</td>\n",
       "      <td>10+ years</td>\n",
       "      <td>14.46</td>\n",
       "      <td>0</td>\n",
       "      <td>RENT</td>\n",
       "    </tr>\n",
       "    <tr>\n",
       "      <th>1</th>\n",
       "      <td>29150</td>\n",
       "      <td>0.2039</td>\n",
       "      <td>home_improvement</td>\n",
       "      <td>4</td>\n",
       "      <td>51000.0</td>\n",
       "      <td>0.404</td>\n",
       "      <td>10+ years</td>\n",
       "      <td>20.82</td>\n",
       "      <td>0</td>\n",
       "      <td>MORTGAGE</td>\n",
       "    </tr>\n",
       "    <tr>\n",
       "      <th>2</th>\n",
       "      <td>8000</td>\n",
       "      <td>0.1306</td>\n",
       "      <td>other</td>\n",
       "      <td>3</td>\n",
       "      <td>73000.0</td>\n",
       "      <td>0.560</td>\n",
       "      <td>10+ years</td>\n",
       "      <td>33.27</td>\n",
       "      <td>0</td>\n",
       "      <td>MORTGAGE</td>\n",
       "    </tr>\n",
       "    <tr>\n",
       "      <th>3</th>\n",
       "      <td>21000</td>\n",
       "      <td>0.0746</td>\n",
       "      <td>credit_card</td>\n",
       "      <td>1</td>\n",
       "      <td>60000.0</td>\n",
       "      <td>0.395</td>\n",
       "      <td>Missing</td>\n",
       "      <td>22.42</td>\n",
       "      <td>0</td>\n",
       "      <td>OWN</td>\n",
       "    </tr>\n",
       "    <tr>\n",
       "      <th>4</th>\n",
       "      <td>13000</td>\n",
       "      <td>0.1747</td>\n",
       "      <td>debt_consolidation</td>\n",
       "      <td>4</td>\n",
       "      <td>27500.0</td>\n",
       "      <td>0.185</td>\n",
       "      <td>4 years</td>\n",
       "      <td>26.45</td>\n",
       "      <td>0</td>\n",
       "      <td>RENT</td>\n",
       "    </tr>\n",
       "  </tbody>\n",
       "</table>\n",
       "</div>"
      ],
      "text/plain": [
       "   loan_amnt  int_rate             purpose  grade  annual_inc  revol_util  \\\n",
       "0  12000      0.2039    credit_card         4      42000.0     0.647        \n",
       "1  29150      0.2039    home_improvement    4      51000.0     0.404        \n",
       "2  8000       0.1306    other               3      73000.0     0.560        \n",
       "3  21000      0.0746    credit_card         1      60000.0     0.395        \n",
       "4  13000      0.1747    debt_consolidation  4      27500.0     0.185        \n",
       "\n",
       "  emp_length    dti  delinq_2yrs home_ownership  \n",
       "0  10+ years  14.46  0            RENT           \n",
       "1  10+ years  20.82  0            MORTGAGE       \n",
       "2  10+ years  33.27  0            MORTGAGE       \n",
       "3  Missing    22.42  0            OWN            \n",
       "4  4 years    26.45  0            RENT           "
      ]
     },
     "metadata": {},
     "output_type": "display_data"
    },
    {
     "name": "stdout",
     "output_type": "stream",
     "text": [
      "None\n",
      "('\\n', 'BOTTOM FEW OBSERVATIONS:')\n"
     ]
    },
    {
     "data": {
      "text/html": [
       "<div>\n",
       "<style scoped>\n",
       "    .dataframe tbody tr th:only-of-type {\n",
       "        vertical-align: middle;\n",
       "    }\n",
       "\n",
       "    .dataframe tbody tr th {\n",
       "        vertical-align: top;\n",
       "    }\n",
       "\n",
       "    .dataframe thead th {\n",
       "        text-align: right;\n",
       "    }\n",
       "</style>\n",
       "<table border=\"1\" class=\"dataframe\">\n",
       "  <thead>\n",
       "    <tr style=\"text-align: right;\">\n",
       "      <th></th>\n",
       "      <th>loan_amnt</th>\n",
       "      <th>int_rate</th>\n",
       "      <th>purpose</th>\n",
       "      <th>grade</th>\n",
       "      <th>annual_inc</th>\n",
       "      <th>revol_util</th>\n",
       "      <th>emp_length</th>\n",
       "      <th>dti</th>\n",
       "      <th>delinq_2yrs</th>\n",
       "      <th>home_ownership</th>\n",
       "    </tr>\n",
       "  </thead>\n",
       "  <tbody>\n",
       "    <tr>\n",
       "      <th>111063</th>\n",
       "      <td>6800</td>\n",
       "      <td>0.1601</td>\n",
       "      <td>debt_consolidation</td>\n",
       "      <td>3</td>\n",
       "      <td>20000.0</td>\n",
       "      <td>0.287</td>\n",
       "      <td>10+ years</td>\n",
       "      <td>25.03</td>\n",
       "      <td>1</td>\n",
       "      <td>MORTGAGE</td>\n",
       "    </tr>\n",
       "    <tr>\n",
       "      <th>111064</th>\n",
       "      <td>3000</td>\n",
       "      <td>0.2039</td>\n",
       "      <td>other</td>\n",
       "      <td>4</td>\n",
       "      <td>72000.0</td>\n",
       "      <td>0.605</td>\n",
       "      <td>10+ years</td>\n",
       "      <td>5.87</td>\n",
       "      <td>0</td>\n",
       "      <td>RENT</td>\n",
       "    </tr>\n",
       "    <tr>\n",
       "      <th>111065</th>\n",
       "      <td>14000</td>\n",
       "      <td>0.1601</td>\n",
       "      <td>debt_consolidation</td>\n",
       "      <td>3</td>\n",
       "      <td>52874.0</td>\n",
       "      <td>0.850</td>\n",
       "      <td>10+ years</td>\n",
       "      <td>22.36</td>\n",
       "      <td>0</td>\n",
       "      <td>MORTGAGE</td>\n",
       "    </tr>\n",
       "    <tr>\n",
       "      <th>111066</th>\n",
       "      <td>7500</td>\n",
       "      <td>0.1090</td>\n",
       "      <td>other</td>\n",
       "      <td>2</td>\n",
       "      <td>126000.0</td>\n",
       "      <td>0.283</td>\n",
       "      <td>10+ years</td>\n",
       "      <td>6.33</td>\n",
       "      <td>0</td>\n",
       "      <td>RENT</td>\n",
       "    </tr>\n",
       "    <tr>\n",
       "      <th>111067</th>\n",
       "      <td>35000</td>\n",
       "      <td>0.0607</td>\n",
       "      <td>debt_consolidation</td>\n",
       "      <td>1</td>\n",
       "      <td>110000.0</td>\n",
       "      <td>0.352</td>\n",
       "      <td>10+ years</td>\n",
       "      <td>9.80</td>\n",
       "      <td>0</td>\n",
       "      <td>RENT</td>\n",
       "    </tr>\n",
       "  </tbody>\n",
       "</table>\n",
       "</div>"
      ],
      "text/plain": [
       "        loan_amnt  int_rate             purpose  grade  annual_inc  \\\n",
       "111063  6800       0.1601    debt_consolidation  3      20000.0      \n",
       "111064  3000       0.2039    other               4      72000.0      \n",
       "111065  14000      0.1601    debt_consolidation  3      52874.0      \n",
       "111066  7500       0.1090    other               2      126000.0     \n",
       "111067  35000      0.0607    debt_consolidation  1      110000.0     \n",
       "\n",
       "        revol_util emp_length    dti  delinq_2yrs home_ownership  \n",
       "111063  0.287       10+ years  25.03  1            MORTGAGE       \n",
       "111064  0.605       10+ years  5.87   0            RENT           \n",
       "111065  0.850       10+ years  22.36  0            MORTGAGE       \n",
       "111066  0.283       10+ years  6.33   0            RENT           \n",
       "111067  0.352       10+ years  9.80   0            RENT           "
      ]
     },
     "metadata": {},
     "output_type": "display_data"
    },
    {
     "name": "stdout",
     "output_type": "stream",
     "text": [
      "None\n",
      "('\\n', 'SUMMARY of Quantitative Data:')\n"
     ]
    },
    {
     "data": {
      "text/html": [
       "<div>\n",
       "<style scoped>\n",
       "    .dataframe tbody tr th:only-of-type {\n",
       "        vertical-align: middle;\n",
       "    }\n",
       "\n",
       "    .dataframe tbody tr th {\n",
       "        vertical-align: top;\n",
       "    }\n",
       "\n",
       "    .dataframe thead th {\n",
       "        text-align: right;\n",
       "    }\n",
       "</style>\n",
       "<table border=\"1\" class=\"dataframe\">\n",
       "  <thead>\n",
       "    <tr style=\"text-align: right;\">\n",
       "      <th></th>\n",
       "      <th>loan_amnt</th>\n",
       "      <th>int_rate</th>\n",
       "      <th>grade</th>\n",
       "      <th>annual_inc</th>\n",
       "      <th>revol_util</th>\n",
       "      <th>dti</th>\n",
       "      <th>delinq_2yrs</th>\n",
       "    </tr>\n",
       "  </thead>\n",
       "  <tbody>\n",
       "    <tr>\n",
       "      <th>count</th>\n",
       "      <td>111068.000000</td>\n",
       "      <td>111068.000000</td>\n",
       "      <td>111068.000000</td>\n",
       "      <td>1.110680e+05</td>\n",
       "      <td>111068.000000</td>\n",
       "      <td>111068.000000</td>\n",
       "      <td>111068.000000</td>\n",
       "    </tr>\n",
       "    <tr>\n",
       "      <th>mean</th>\n",
       "      <td>15333.901304</td>\n",
       "      <td>0.123530</td>\n",
       "      <td>2.391085</td>\n",
       "      <td>8.152713e+04</td>\n",
       "      <td>0.432349</td>\n",
       "      <td>17.334945</td>\n",
       "      <td>0.236450</td>\n",
       "    </tr>\n",
       "    <tr>\n",
       "      <th>std</th>\n",
       "      <td>9903.827140</td>\n",
       "      <td>0.049712</td>\n",
       "      <td>1.138201</td>\n",
       "      <td>8.914149e+04</td>\n",
       "      <td>0.247827</td>\n",
       "      <td>8.750318</td>\n",
       "      <td>0.750367</td>\n",
       "    </tr>\n",
       "    <tr>\n",
       "      <th>min</th>\n",
       "      <td>1000.000000</td>\n",
       "      <td>0.053100</td>\n",
       "      <td>1.000000</td>\n",
       "      <td>2.300000e+03</td>\n",
       "      <td>0.000000</td>\n",
       "      <td>0.000000</td>\n",
       "      <td>0.000000</td>\n",
       "    </tr>\n",
       "    <tr>\n",
       "      <th>25%</th>\n",
       "      <td>8000.000000</td>\n",
       "      <td>0.080800</td>\n",
       "      <td>1.000000</td>\n",
       "      <td>4.800000e+04</td>\n",
       "      <td>0.236000</td>\n",
       "      <td>10.750000</td>\n",
       "      <td>0.000000</td>\n",
       "    </tr>\n",
       "    <tr>\n",
       "      <th>50%</th>\n",
       "      <td>12000.000000</td>\n",
       "      <td>0.119800</td>\n",
       "      <td>2.000000</td>\n",
       "      <td>6.800000e+04</td>\n",
       "      <td>0.413000</td>\n",
       "      <td>16.700000</td>\n",
       "      <td>0.000000</td>\n",
       "    </tr>\n",
       "    <tr>\n",
       "      <th>75%</th>\n",
       "      <td>20000.000000</td>\n",
       "      <td>0.150400</td>\n",
       "      <td>3.000000</td>\n",
       "      <td>9.800000e+04</td>\n",
       "      <td>0.615000</td>\n",
       "      <td>23.410000</td>\n",
       "      <td>0.000000</td>\n",
       "    </tr>\n",
       "    <tr>\n",
       "      <th>max</th>\n",
       "      <td>40000.000000</td>\n",
       "      <td>0.309900</td>\n",
       "      <td>7.000000</td>\n",
       "      <td>9.930475e+06</td>\n",
       "      <td>1.244000</td>\n",
       "      <td>39.990000</td>\n",
       "      <td>23.000000</td>\n",
       "    </tr>\n",
       "  </tbody>\n",
       "</table>\n",
       "</div>"
      ],
      "text/plain": [
       "           loan_amnt       int_rate          grade    annual_inc  \\\n",
       "count  111068.000000  111068.000000  111068.000000  1.110680e+05   \n",
       "mean   15333.901304   0.123530       2.391085       8.152713e+04   \n",
       "std    9903.827140    0.049712       1.138201       8.914149e+04   \n",
       "min    1000.000000    0.053100       1.000000       2.300000e+03   \n",
       "25%    8000.000000    0.080800       1.000000       4.800000e+04   \n",
       "50%    12000.000000   0.119800       2.000000       6.800000e+04   \n",
       "75%    20000.000000   0.150400       3.000000       9.800000e+04   \n",
       "max    40000.000000   0.309900       7.000000       9.930475e+06   \n",
       "\n",
       "          revol_util            dti    delinq_2yrs  \n",
       "count  111068.000000  111068.000000  111068.000000  \n",
       "mean   0.432349       17.334945      0.236450       \n",
       "std    0.247827       8.750318       0.750367       \n",
       "min    0.000000       0.000000       0.000000       \n",
       "25%    0.236000       10.750000      0.000000       \n",
       "50%    0.413000       16.700000      0.000000       \n",
       "75%    0.615000       23.410000      0.000000       \n",
       "max    1.244000       39.990000      23.000000      "
      ]
     },
     "metadata": {},
     "output_type": "display_data"
    },
    {
     "name": "stdout",
     "output_type": "stream",
     "text": [
      "(None, '\\n')\n",
      "('Frequency of Categorical Data:', '\\n')\n",
      "purpose:12\n",
      "debt_consolidation    53271\n",
      "credit_card           29222\n",
      "other                 9876 \n",
      "home_improvement      7679 \n",
      "major_purchase        3260 \n",
      "house                 2081 \n",
      "medical               1559 \n",
      "car                   1311 \n",
      "small_business        1038 \n",
      "vacation              938  \n",
      "moving                772  \n",
      "renewable_energy      61   \n",
      "Name: purpose, dtype: int64\n",
      "\n",
      "\n",
      "emp_length:12\n",
      "10+ years    37389\n",
      "2 years      10577\n",
      "3 years      9325 \n",
      "Missing      7747 \n",
      "< 1 year     7615 \n",
      "1 year       7488 \n",
      "4 years      7445 \n",
      "5 years      7048 \n",
      "6 years      5282 \n",
      "7 years      4280 \n",
      "8 years      3753 \n",
      "9 years      3119 \n",
      "Name: emp_length, dtype: int64\n",
      "\n",
      "\n",
      "home_ownership:4\n",
      "MORTGAGE    49589\n",
      "RENT        46766\n",
      "OWN         14700\n",
      "ANY         13   \n",
      "Name: home_ownership, dtype: int64\n",
      "\n",
      "\n"
     ]
    },
    {
     "data": {
      "text/html": [
       "<div>\n",
       "<style scoped>\n",
       "    .dataframe tbody tr th:only-of-type {\n",
       "        vertical-align: middle;\n",
       "    }\n",
       "\n",
       "    .dataframe tbody tr th {\n",
       "        vertical-align: top;\n",
       "    }\n",
       "\n",
       "    .dataframe thead th {\n",
       "        text-align: right;\n",
       "    }\n",
       "</style>\n",
       "<table border=\"1\" class=\"dataframe\">\n",
       "  <thead>\n",
       "    <tr style=\"text-align: right;\">\n",
       "      <th></th>\n",
       "      <th>VariableName</th>\n",
       "      <th>DataType</th>\n",
       "      <th>Missing</th>\n",
       "      <th>MissingPercentage</th>\n",
       "      <th>Uniques</th>\n",
       "    </tr>\n",
       "  </thead>\n",
       "  <tbody>\n",
       "    <tr>\n",
       "      <th>0</th>\n",
       "      <td>loan_amnt</td>\n",
       "      <td>int64</td>\n",
       "      <td>0</td>\n",
       "      <td>0.0</td>\n",
       "      <td>1415</td>\n",
       "    </tr>\n",
       "    <tr>\n",
       "      <th>1</th>\n",
       "      <td>int_rate</td>\n",
       "      <td>float64</td>\n",
       "      <td>0</td>\n",
       "      <td>0.0</td>\n",
       "      <td>54</td>\n",
       "    </tr>\n",
       "    <tr>\n",
       "      <th>2</th>\n",
       "      <td>purpose</td>\n",
       "      <td>object</td>\n",
       "      <td>0</td>\n",
       "      <td>0.0</td>\n",
       "      <td>12</td>\n",
       "    </tr>\n",
       "    <tr>\n",
       "      <th>3</th>\n",
       "      <td>grade</td>\n",
       "      <td>int32</td>\n",
       "      <td>0</td>\n",
       "      <td>0.0</td>\n",
       "      <td>7</td>\n",
       "    </tr>\n",
       "    <tr>\n",
       "      <th>4</th>\n",
       "      <td>annual_inc</td>\n",
       "      <td>float64</td>\n",
       "      <td>0</td>\n",
       "      <td>0.0</td>\n",
       "      <td>9589</td>\n",
       "    </tr>\n",
       "    <tr>\n",
       "      <th>5</th>\n",
       "      <td>revol_util</td>\n",
       "      <td>float64</td>\n",
       "      <td>0</td>\n",
       "      <td>0.0</td>\n",
       "      <td>1058</td>\n",
       "    </tr>\n",
       "    <tr>\n",
       "      <th>6</th>\n",
       "      <td>emp_length</td>\n",
       "      <td>object</td>\n",
       "      <td>0</td>\n",
       "      <td>0.0</td>\n",
       "      <td>12</td>\n",
       "    </tr>\n",
       "    <tr>\n",
       "      <th>7</th>\n",
       "      <td>dti</td>\n",
       "      <td>float64</td>\n",
       "      <td>0</td>\n",
       "      <td>0.0</td>\n",
       "      <td>3996</td>\n",
       "    </tr>\n",
       "    <tr>\n",
       "      <th>8</th>\n",
       "      <td>delinq_2yrs</td>\n",
       "      <td>int64</td>\n",
       "      <td>0</td>\n",
       "      <td>0.0</td>\n",
       "      <td>20</td>\n",
       "    </tr>\n",
       "    <tr>\n",
       "      <th>9</th>\n",
       "      <td>home_ownership</td>\n",
       "      <td>object</td>\n",
       "      <td>0</td>\n",
       "      <td>0.0</td>\n",
       "      <td>4</td>\n",
       "    </tr>\n",
       "  </tbody>\n",
       "</table>\n",
       "</div>"
      ],
      "text/plain": [
       "     VariableName DataType  Missing  MissingPercentage  Uniques\n",
       "0  loan_amnt       int64    0        0.0                1415   \n",
       "1  int_rate        float64  0        0.0                54     \n",
       "2  purpose         object   0        0.0                12     \n",
       "3  grade           int32    0        0.0                7      \n",
       "4  annual_inc      float64  0        0.0                9589   \n",
       "5  revol_util      float64  0        0.0                1058   \n",
       "6  emp_length      object   0        0.0                12     \n",
       "7  dti             float64  0        0.0                3996   \n",
       "8  delinq_2yrs     int64    0        0.0                20     \n",
       "9  home_ownership  object   0        0.0                4      "
      ]
     },
     "execution_count": 111,
     "metadata": {},
     "output_type": "execute_result"
    }
   ],
   "source": [
    "SummaryTable(X_train)"
   ]
  },
  {
   "cell_type": "code",
   "execution_count": 30,
   "metadata": {
    "collapsed": true
   },
   "outputs": [
    {
     "name": "stdout",
     "output_type": "stream",
     "text": [
      "('FREQUENCY OF TARGET: \\n', 0    108608\n",
      "1    2460  \n",
      "Name: is_late, dtype: int64)\n"
     ]
    },
    {
     "data": {
      "text/plain": [
       "<matplotlib.axes._subplots.AxesSubplot at 0xc9f6c50>"
      ]
     },
     "execution_count": 30,
     "metadata": {},
     "output_type": "execute_result"
    },
    {
     "data": {
      "image/png": "[encoded data removed]",
      "text/plain": [
       "<Figure size 432x288 with 1 Axes>"
      ]
     },
     "metadata": {
      "needs_background": "light"
     },
     "output_type": "display_data"
    }
   ],
   "source": [
    "print(\"FREQUENCY OF TARGET: \\n\",pd.value_counts(y_train))\n",
    "y_train.value_counts().plot.bar()"
   ]
  },
  {
   "cell_type": "code",
   "execution_count": 92,
   "metadata": {
    "scrolled": true
   },
   "outputs": [
    {
     "name": "stdout",
     "output_type": "stream",
     "text": [
      "Distribution of data points among output class\n",
      "\n",
      "0    108608\n",
      "1    2460  \n",
      "Name: is_late, dtype: int64\n"
     ]
    },
    {
     "data": {
      "image/png": "[encoded data removed]",
      "text/plain": [
       "<Figure size 432x288 with 1 Axes>"
      ]
     },
     "metadata": {},
     "output_type": "display_data"
    }
   ],
   "source": [
    "print(\"Distribution of data points among output class\\n\")\n",
    "\n",
    "print(pd.value_counts(y_train))\n",
    "\n",
    "import matplotlib.pyplot as plt\n",
    "\n",
    "# The slices will be ordered and plotted counter-clockwise.\n",
    "labels = y_train.value_counts().index\n",
    "sizes = y_train.value_counts().values\n",
    "# colors = ['yellowgreen', 'gold', 'lightskyblue', 'lightcoral']\n",
    "explode = (0, 0, 0, 0)  # explode a slice if required\n",
    "\n",
    "plt.pie(sizes, labels=labels, autopct='%1.1f%%', shadow=True)\n",
    "centre_circle = plt.Circle((0,0),0.75,color='black', fc='white',linewidth=1.25)\n",
    "fig = plt.gcf()\n",
    "fig.gca().add_artist(centre_circle)\n",
    "plt.axis('equal')\n",
    "plt.show()  "
   ]
  },
  {
   "cell_type": "markdown",
   "metadata": {},
   "source": [
    "# Data is HIGHLY IMBALANCED"
   ]
  },
  {
   "cell_type": "code",
   "execution_count": null,
   "metadata": {},
   "outputs": [],
   "source": [
    "import category_encoders as ce"
   ]
  },
  {
   "cell_type": "code",
   "execution_count": null,
   "metadata": {},
   "outputs": [],
   "source": []
  },
  {
   "cell_type": "code",
   "execution_count": 222,
   "metadata": {},
   "outputs": [],
   "source": [
    "X_train = X_train.assign(ID=pd.Series(range(1,len(X_train))))"
   ]
  },
  {
   "cell_type": "code",
   "execution_count": null,
   "metadata": {},
   "outputs": [],
   "source": []
  },
  {
   "cell_type": "code",
   "execution_count": null,
   "metadata": {},
   "outputs": [],
   "source": []
  },
  {
   "cell_type": "code",
   "execution_count": null,
   "metadata": {},
   "outputs": [],
   "source": []
  },
  {
   "cell_type": "code",
   "execution_count": null,
   "metadata": {},
   "outputs": [],
   "source": []
  },
  {
   "cell_type": "code",
   "execution_count": 103,
   "metadata": {
    "collapsed": true
   },
   "outputs": [
    {
     "name": "stdout",
     "output_type": "stream",
     "text": [
      "Numerical Features: 6 \n",
      " Index(['loan_amnt', 'int_rate', 'annual_inc', 'revol_util', 'dti',\n",
      "       'delinq_2yrs'],\n",
      "      dtype='object')\n",
      "\n",
      "\n",
      "Cateogrical Features: 4 \n",
      " Index(['purpose', 'grade', 'emp_length', 'home_ownership'], dtype='object')\n"
     ]
    }
   ],
   "source": [
    "numerical_features = X_train.select_dtypes(include = np.number)\n",
    "categorical_features = X_train.select_dtypes(include = np.object)\n",
    "print(\"Numerical Features:\", numerical_features.shape[1] ,\"\\n\", numerical_features.columns)\n",
    "print('\\n')\n",
    "print(\"Cateogrical Features:\", categorical_features.shape[1] ,\"\\n\", categorical_features.columns)"
   ]
  },
  {
   "cell_type": "code",
   "execution_count": 105,
   "metadata": {},
   "outputs": [
    {
     "data": {
      "text/plain": [
       "Index(['loan_amnt', 'int_rate', 'annual_inc', 'revol_util', 'dti',\n",
       "       'delinq_2yrs'],\n",
       "      dtype='object')"
      ]
     },
     "execution_count": 105,
     "metadata": {},
     "output_type": "execute_result"
    }
   ],
   "source": [
    "numerical_features.columns"
   ]
  },
  {
   "cell_type": "code",
   "execution_count": null,
   "metadata": {},
   "outputs": [],
   "source": [
    "def woe(X, y, cont=True):\n",
    "    tmp = pd.DataFrame()\n",
    "    tmp[\"variable\"] = X\n",
    "    if cont:\n",
    "        tmp[\"variable\"] = pd.qcut(tmp[\"variable\"], 255, duplicates=\"drop\")\n",
    "    tmp[\"target\"] = y\n",
    "    var_counts = tmp.groupby(\"variable\")[\"target\"].count()\n",
    "    var_events = tmp.groupby(\"variable\")[\"target\"].sum()\n",
    "    var_nonevents = var_counts - var_events\n",
    "    tmp[\"var_counts\"] = tmp.variable.map(var_counts)\n",
    "    tmp[\"var_events\"] = tmp.variable.map(var_events)\n",
    "    tmp[\"var_nonevents\"] = tmp.variable.map(var_nonevents)\n",
    "    events = sum(tmp[\"target\"] == 1)\n",
    "    nonevents = sum(tmp[\"target\"] == 0)\n",
    "    tmp[\"woe\"] = np.log(((tmp[\"var_nonevents\"])/nonevents)/((tmp[\"var_events\"])/events))\n",
    "    tmp[\"woe\"] = tmp[\"woe\"].replace(np.inf, 0).replace(-np.inf, 0)\n",
    "    tmp[\"iv\"] = (tmp[\"var_nonevents\"]/nonevents - tmp[\"var_events\"]/events) * tmp[\"woe\"]\n",
    "    iv = tmp.groupby(\"variable\")[\"iv\"].last().sum()\n",
    "    return tmp[\"woe\"], tmp[\"iv\"], iv"
   ]
  },
  {
   "cell_type": "markdown",
   "metadata": {},
   "source": [
    "## Numerical\n",
    "* Apply long transformations on right skewed data\n"
   ]
  },
  {
   "cell_type": "code",
   "execution_count": 147,
   "metadata": {},
   "outputs": [],
   "source": [
    "numerical_features = train_data.select_dtypes(include = np.number)"
   ]
  },
  {
   "cell_type": "code",
   "execution_count": 229,
   "metadata": {
    "scrolled": true
   },
   "outputs": [
    {
     "data": {
      "image/png": "[encoded data removed]",
      "text/plain": [
       "<Figure size 1152x288 with 7 Axes>"
      ]
     },
     "metadata": {
      "needs_background": "light"
     },
     "output_type": "display_data"
    }
   ],
   "source": [
    "# Histogram for Numerical Vars\n",
    "fig, axes = plt.subplots(1,7 , figsize = (16,4))\n",
    "fig.subplots_adjust(hspace = 0.5, wspace = 0.5)\n",
    "axes = axes.ravel()\n",
    "for i,j in zip([i for i in numerical_features.columns[0:]], range(10)):\n",
    "    axes[j].hist(numerical_features[i])\n",
    "    axes[j].set_title(i+' skew: '+str(np.round(numerical_features[i].skew(),2)))"
   ]
  },
  {
   "cell_type": "code",
   "execution_count": 106,
   "metadata": {
    "collapsed": true
   },
   "outputs": [
    {
     "name": "stderr",
     "output_type": "stream",
     "text": [
      "C:\\ProgramData\\Anaconda3\\lib\\site-packages\\seaborn\\axisgrid.py:230: UserWarning: The `size` paramter has been renamed to `height`; please update your code.\n",
      "  warnings.warn(msg, UserWarning)\n"
     ]
    },
    {
     "data": {
      "image/png": "[encoded data removed]",
      "text/plain": [
       "<Figure size 330.375x288 with 1 Axes>"
      ]
     },
     "metadata": {
      "needs_background": "light"
     },
     "output_type": "display_data"
    },
    {
     "name": "stderr",
     "output_type": "stream",
     "text": [
      "C:\\ProgramData\\Anaconda3\\lib\\site-packages\\seaborn\\axisgrid.py:230: UserWarning: The `size` paramter has been renamed to `height`; please update your code.\n",
      "  warnings.warn(msg, UserWarning)\n"
     ]
    },
    {
     "data": {
      "image/png": "[encoded data removed]",
      "text/plain": [
       "<Figure size 330.375x288 with 1 Axes>"
      ]
     },
     "metadata": {
      "needs_background": "light"
     },
     "output_type": "display_data"
    },
    {
     "name": "stderr",
     "output_type": "stream",
     "text": [
      "C:\\ProgramData\\Anaconda3\\lib\\site-packages\\seaborn\\axisgrid.py:230: UserWarning: The `size` paramter has been renamed to `height`; please update your code.\n",
      "  warnings.warn(msg, UserWarning)\n"
     ]
    },
    {
     "data": {
      "image/png": "[encoded data removed]",
      "text/plain": [
       "<Figure size 330.375x288 with 1 Axes>"
      ]
     },
     "metadata": {
      "needs_background": "light"
     },
     "output_type": "display_data"
    },
    {
     "name": "stderr",
     "output_type": "stream",
     "text": [
      "C:\\ProgramData\\Anaconda3\\lib\\site-packages\\seaborn\\axisgrid.py:230: UserWarning: The `size` paramter has been renamed to `height`; please update your code.\n",
      "  warnings.warn(msg, UserWarning)\n"
     ]
    },
    {
     "data": {
      "image/png": "[encoded data removed]",
      "text/plain": [
       "<Figure size 330.375x288 with 1 Axes>"
      ]
     },
     "metadata": {
      "needs_background": "light"
     },
     "output_type": "display_data"
    },
    {
     "name": "stderr",
     "output_type": "stream",
     "text": [
      "C:\\ProgramData\\Anaconda3\\lib\\site-packages\\seaborn\\axisgrid.py:230: UserWarning: The `size` paramter has been renamed to `height`; please update your code.\n",
      "  warnings.warn(msg, UserWarning)\n"
     ]
    },
    {
     "data": {
      "image/png": "[encoded data removed]",
      "text/plain": [
       "<Figure size 330.375x288 with 1 Axes>"
      ]
     },
     "metadata": {
      "needs_background": "light"
     },
     "output_type": "display_data"
    },
    {
     "name": "stderr",
     "output_type": "stream",
     "text": [
      "C:\\ProgramData\\Anaconda3\\lib\\site-packages\\seaborn\\axisgrid.py:230: UserWarning: The `size` paramter has been renamed to `height`; please update your code.\n",
      "  warnings.warn(msg, UserWarning)\n"
     ]
    },
    {
     "data": {
      "image/png": "[encoded data removed]",
      "text/plain": [
       "<Figure size 330.375x288 with 1 Axes>"
      ]
     },
     "metadata": {
      "needs_background": "light"
     },
     "output_type": "display_data"
    }
   ],
   "source": [
    "# Numerical Vars\n",
    "for i in numerical_features.columns: #['loan_amnt','int_rate']\n",
    "    sns.FacetGrid(train_data, hue='is_late', size=4) \\\n",
    "        .map(sns.distplot, i) \\\n",
    "        .add_legend()\n",
    "    plt.show()"
   ]
  },
  {
   "cell_type": "code",
   "execution_count": 159,
   "metadata": {
    "collapsed": true
   },
   "outputs": [
    {
     "data": {
      "image/png": "[encoded data removed]",
      "text/plain": [
       "<Figure size 432x288 with 1 Axes>"
      ]
     },
     "metadata": {
      "needs_background": "light"
     },
     "output_type": "display_data"
    },
    {
     "data": {
      "image/png": "[encoded data removed]",
      "text/plain": [
       "<Figure size 432x288 with 1 Axes>"
      ]
     },
     "metadata": {
      "needs_background": "light"
     },
     "output_type": "display_data"
    },
    {
     "data": {
      "image/png": "[encoded data removed]",
      "text/plain": [
       "<Figure size 432x288 with 1 Axes>"
      ]
     },
     "metadata": {
      "needs_background": "light"
     },
     "output_type": "display_data"
    },
    {
     "data": {
      "image/png": "[encoded data removed]",
      "text/plain": [
       "<Figure size 432x288 with 1 Axes>"
      ]
     },
     "metadata": {
      "needs_background": "light"
     },
     "output_type": "display_data"
    },
    {
     "data": {
      "image/png": "[encoded data removed]",
      "text/plain": [
       "<Figure size 432x288 with 1 Axes>"
      ]
     },
     "metadata": {
      "needs_background": "light"
     },
     "output_type": "display_data"
    },
    {
     "data": {
      "image/png": "[encoded data removed]",
      "text/plain": [
       "<Figure size 432x288 with 1 Axes>"
      ]
     },
     "metadata": {
      "needs_background": "light"
     },
     "output_type": "display_data"
    },
    {
     "data": {
      "image/png": "[encoded data removed]",
      "text/plain": [
       "<Figure size 432x288 with 1 Axes>"
      ]
     },
     "metadata": {
      "needs_background": "light"
     },
     "output_type": "display_data"
    }
   ],
   "source": [
    "# Box Plot\n",
    "for i in numerical_features:\n",
    "    plt.figure()\n",
    "    plt.clf()\n",
    "    sns.boxplot(numerical_features[i])\n",
    "    plt.title(i)\n",
    "    plt.show()"
   ]
  },
  {
   "cell_type": "code",
   "execution_count": 317,
   "metadata": {
    "scrolled": true
   },
   "outputs": [
    {
     "data": {
      "image/png": "[encoded data removed]",
      "text/plain": [
       "<Figure size 1080x720 with 6 Axes>"
      ]
     },
     "metadata": {
      "needs_background": "light"
     },
     "output_type": "display_data"
    }
   ],
   "source": [
    "# Box Plot of Numerical Variable by Target Variable\n",
    "fig, ax = plt.subplots(nrows=2, ncols=3, figsize=(15,10))\n",
    "AX = ax.ravel()\n",
    "\n",
    "for i,j in zip([i for i in numerical_features.columns[0:]],AX):\n",
    "    sns.boxplot(x = 'is_late', y = i, data =numerical_features,ax=j)"
   ]
  },
  {
   "cell_type": "markdown",
   "metadata": {},
   "source": [
    "## Categorical Data"
   ]
  },
  {
   "cell_type": "code",
   "execution_count": 33,
   "metadata": {},
   "outputs": [],
   "source": [
    "categorical_features = X_train.select_dtypes(include = np.object)"
   ]
  },
  {
   "cell_type": "code",
   "execution_count": 37,
   "metadata": {
    "collapsed": true
   },
   "outputs": [
    {
     "name": "stdout",
     "output_type": "stream",
     "text": [
      "purpose:12\n",
      "                    Target_0  Target_1    Freq FreqPercent Target_Percent0  \\\n",
      "car                 1287      24        1311    1.2%        98.2%            \n",
      "credit_card         28769     453       29222   26.3%       98.4%            \n",
      "debt_consolidation  52028     1243      53271   48.0%       97.7%            \n",
      "home_improvement    7499      180       7679    6.9%        97.7%            \n",
      "house               2028      53        2081    1.9%        97.5%            \n",
      "major_purchase      3168      92        3260    2.9%        97.2%            \n",
      "medical             1503      56        1559    1.4%        96.4%            \n",
      "moving              749       23        772     0.7%        97.0%            \n",
      "other               9616      260       9876    8.9%        97.4%            \n",
      "renewable_energy    59        2         61      0.1%        96.7%            \n",
      "small_business      986       52        1038    0.9%        95.0%            \n",
      "vacation            916       22        938     0.8%        97.7%            \n",
      "All                 108608    2460      111068  NaN         NaN              \n",
      "\n",
      "                   Target_Percent1  \n",
      "car                 1.8%            \n",
      "credit_card         1.6%            \n",
      "debt_consolidation  2.3%            \n",
      "home_improvement    2.3%            \n",
      "house               2.5%            \n",
      "major_purchase      2.8%            \n",
      "medical             3.6%            \n",
      "moving              3.0%            \n",
      "other               2.6%            \n",
      "renewable_energy    3.3%            \n",
      "small_business      5.0%            \n",
      "vacation            2.3%            \n",
      "All                 NaN             \n",
      "\n",
      "\n",
      "grade:7\n",
      "     Target_0  Target_1    Freq FreqPercent Target_Percent0 Target_Percent1\n",
      "A    29140     158       29298   26.4%       99.5%           0.5%          \n",
      "B    32329     506       32835   29.6%       98.5%           1.5%          \n",
      "C    29052     832       29884   26.9%       97.2%           2.8%          \n",
      "D    14393     689       15082   13.6%       95.4%           4.6%          \n",
      "E    3057      224       3281    3.0%        93.2%           6.8%          \n",
      "F    550       46        596     0.5%        92.3%           7.7%          \n",
      "G    87        5         92      0.1%        94.6%           5.4%          \n",
      "All  108608    2460      111068  NaN         NaN             NaN           \n",
      "\n",
      "\n",
      "emp_length:11\n",
      "           Target_0  Target_1    Freq FreqPercent Target_Percent0  \\\n",
      "1 year     7295      193       7488    7.2%        97.4%            \n",
      "10+ years  36665     724       37389   36.2%       98.1%            \n",
      "2 years    10352     225       10577   10.2%       97.9%            \n",
      "3 years    9078      247       9325    9.0%        97.4%            \n",
      "4 years    7280      165       7445    7.2%        97.8%            \n",
      "5 years    6900      148       7048    6.8%        97.9%            \n",
      "6 years    5167      115       5282    5.1%        97.8%            \n",
      "7 years    4181      99        4280    4.1%        97.7%            \n",
      "8 years    3670      83        3753    3.6%        97.8%            \n",
      "9 years    3066      53        3119    3.0%        98.3%            \n",
      "< 1 year   7429      186       7615    7.4%        97.6%            \n",
      "All        101083    2238      103321  NaN         NaN              \n",
      "\n",
      "          Target_Percent1  \n",
      "1 year     2.6%            \n",
      "10+ years  1.9%            \n",
      "2 years    2.1%            \n",
      "3 years    2.6%            \n",
      "4 years    2.2%            \n",
      "5 years    2.1%            \n",
      "6 years    2.2%            \n",
      "7 years    2.3%            \n",
      "8 years    2.2%            \n",
      "9 years    1.7%            \n",
      "< 1 year   2.4%            \n",
      "All        NaN             \n",
      "\n",
      "\n",
      "home_ownership:4\n",
      "          Target_0  Target_1    Freq FreqPercent Target_Percent0  \\\n",
      "ANY       11        2         13      0.0%        84.6%            \n",
      "MORTGAGE  48702     887       49589   44.6%       98.2%            \n",
      "OWN       14366     334       14700   13.2%       97.7%            \n",
      "RENT      45529     1237      46766   42.1%       97.4%            \n",
      "All       108608    2460      111068  NaN         NaN              \n",
      "\n",
      "         Target_Percent1  \n",
      "ANY       15.4%           \n",
      "MORTGAGE  1.8%            \n",
      "OWN       2.3%            \n",
      "RENT      2.6%            \n",
      "All       NaN             \n",
      "\n",
      "\n"
     ]
    }
   ],
   "source": [
    "# Cross Tab of Categorical Vars by Target Variable: Freq & Percentage\n",
    "for i in categorical_features.columns:\n",
    "    print(i + \":\" + str(categorical_features[i].nunique()))\n",
    "#     print(pd.concat([pd.crosstab(train_data[i], train_data['is_late'], margins=True),\n",
    "#                    pd.crosstab(train_data[i], train_data['is_late'], normalize='index')]))\n",
    "    Df = pd.concat([pd.DataFrame(pd.crosstab(train_data[i], train_data['is_late'], margins=True)),\n",
    "                    pd.DataFrame(train_data[i].value_counts(normalize=True).mul(100).round(1).astype(str) + '%'),\n",
    "                   pd.DataFrame(pd.crosstab(train_data[i], train_data['is_late'], normalize='index')).mul(100).round(1).astype(str) + '%'], axis=1, sort=False)\n",
    "    Df.columns = ['Target_0', 'Target_1', 'Freq','FreqPercent',\"Target_Percent0\",\"Target_Percent1\"]\n",
    "    \n",
    "    print(Df)\n",
    "    print('\\n')"
   ]
  },
  {
   "cell_type": "code",
   "execution_count": 283,
   "metadata": {
    "collapsed": true
   },
   "outputs": [
    {
     "name": "stdout",
     "output_type": "stream",
     "text": [
      "purpose:12\n",
      "debt_consolidation    53271\n",
      "credit_card           29222\n",
      "other                  9876\n",
      "home_improvement       7679\n",
      "major_purchase         3260\n",
      "house                  2081\n",
      "medical                1559\n",
      "car                    1311\n",
      "small_business         1038\n",
      "vacation                938\n",
      "moving                  772\n",
      "renewable_energy         61\n",
      "Name: purpose, dtype: int64 \n",
      " is_late                 0     1\n",
      "purpose                        \n",
      "car                  1287    24\n",
      "credit_card         28769   453\n",
      "debt_consolidation  52028  1243\n",
      "home_improvement     7499   180\n",
      "house                2028    53\n",
      "major_purchase       3168    92\n",
      "medical              1503    56\n",
      "moving                749    23\n",
      "other                9616   260\n",
      "renewable_energy       59     2\n",
      "small_business        986    52\n",
      "vacation              916    22\n",
      "\n",
      "\n",
      "grade:7\n",
      "B    32835\n",
      "C    29884\n",
      "A    29298\n",
      "D    15082\n",
      "E     3281\n",
      "F      596\n",
      "G       92\n",
      "Name: grade, dtype: int64 \n",
      " is_late      0    1\n",
      "grade              \n",
      "A        29140  158\n",
      "B        32329  506\n",
      "C        29052  832\n",
      "D        14393  689\n",
      "E         3057  224\n",
      "F          550   46\n",
      "G           87    5\n",
      "\n",
      "\n",
      "emp_length:11\n",
      "10+ years    37389\n",
      "2 years      10577\n",
      "3 years       9325\n",
      "< 1 year      7615\n",
      "1 year        7488\n",
      "4 years       7445\n",
      "5 years       7048\n",
      "6 years       5282\n",
      "7 years       4280\n",
      "8 years       3753\n",
      "9 years       3119\n",
      "Name: emp_length, dtype: int64 \n",
      " is_late         0    1\n",
      "emp_length            \n",
      "1 year       7295  193\n",
      "10+ years   36665  724\n",
      "2 years     10352  225\n",
      "3 years      9078  247\n",
      "4 years      7280  165\n",
      "5 years      6900  148\n",
      "6 years      5167  115\n",
      "7 years      4181   99\n",
      "8 years      3670   83\n",
      "9 years      3066   53\n",
      "< 1 year     7429  186\n",
      "\n",
      "\n",
      "home_ownership:4\n",
      "MORTGAGE    49589\n",
      "RENT        46766\n",
      "OWN         14700\n",
      "ANY            13\n",
      "Name: home_ownership, dtype: int64 \n",
      " is_late             0     1\n",
      "home_ownership             \n",
      "ANY                11     2\n",
      "MORTGAGE        48702   887\n",
      "OWN             14366   334\n",
      "RENT            45529  1237\n",
      "\n",
      "\n"
     ]
    }
   ],
   "source": [
    "# Frequency table for each catergorical variable\n",
    "# Cross tab of Categorical variable vs Target Variable\n",
    "for i in categorical_features.columns:\n",
    "    print(i + \":\" + str(categorical_features[i].nunique()))\n",
    "    print(categorical_features[i].value_counts(), \"\\n\",pd.crosstab(train_data[i], train_data['is_late']))\n",
    "    print('\\n')"
   ]
  },
  {
   "cell_type": "code",
   "execution_count": 89,
   "metadata": {
    "collapsed": true
   },
   "outputs": [
    {
     "data": {
      "image/png": "[encoded data removed]",
      "text/plain": [
       "<Figure size 1152x576 with 4 Axes>"
      ]
     },
     "metadata": {
      "needs_background": "light"
     },
     "output_type": "display_data"
    }
   ],
   "source": [
    "# (Percentage of 1s & 0s with each category of Categorical varible)\n",
    "# Cross Tab - Categorical Variable by Target Variable (Stacked Bar Plot) \n",
    "fig, axes = plt.subplots(2,2, figsize = (16,8))\n",
    "axes = axes.ravel()\n",
    "\n",
    "for i,j in zip([i for i in categorical_features.columns], axes):\n",
    "    temp = pd.crosstab(train_data[i], train_data['is_late'], normalize='index')\n",
    "    temp.plot(kind = 'bar', stacked = True, color = ['red', 'green'] , grid = False, ax = j)"
   ]
  },
  {
   "cell_type": "code",
   "execution_count": 107,
   "metadata": {
    "collapsed": true
   },
   "outputs": [
    {
     "data": {
      "image/png": "[encoded data removed]",
      "text/plain": [
       "<Figure size 432x288 with 1 Axes>"
      ]
     },
     "metadata": {
      "needs_background": "light"
     },
     "output_type": "display_data"
    },
    {
     "data": {
      "image/png": "[encoded data removed]",
      "text/plain": [
       "<Figure size 432x288 with 1 Axes>"
      ]
     },
     "metadata": {
      "needs_background": "light"
     },
     "output_type": "display_data"
    },
    {
     "data": {
      "image/png": "[encoded data removed]",
      "text/plain": [
       "<Figure size 432x288 with 1 Axes>"
      ]
     },
     "metadata": {
      "needs_background": "light"
     },
     "output_type": "display_data"
    },
    {
     "data": {
      "image/png": "[encoded data removed]",
      "text/plain": [
       "<Figure size 432x288 with 1 Axes>"
      ]
     },
     "metadata": {
      "needs_background": "light"
     },
     "output_type": "display_data"
    }
   ],
   "source": [
    "# Frequncy - Bar Graph for Categorical Variables\n",
    "for i in categorical_features: #['purpose','grade']\n",
    "    chart = sns.countplot(data=train_data,x=i)\n",
    "    chart.set_xticklabels(chart.get_xticklabels(), rotation=90)\n",
    "    plt.show()"
   ]
  },
  {
   "cell_type": "code",
   "execution_count": 44,
   "metadata": {
    "collapsed": true
   },
   "outputs": [
    {
     "data": {
      "image/png": "[encoded data removed]",
      "text/plain": [
       "<Figure size 432x288 with 1 Axes>"
      ]
     },
     "metadata": {
      "needs_background": "light"
     },
     "output_type": "display_data"
    },
    {
     "data": {
      "image/png": "[encoded data removed]",
      "text/plain": [
       "<Figure size 432x288 with 1 Axes>"
      ]
     },
     "metadata": {
      "needs_background": "light"
     },
     "output_type": "display_data"
    },
    {
     "data": {
      "image/png": "[encoded data removed]",
      "text/plain": [
       "<Figure size 432x288 with 1 Axes>"
      ]
     },
     "metadata": {
      "needs_background": "light"
     },
     "output_type": "display_data"
    },
    {
     "data": {
      "image/png": "[encoded data removed]",
      "text/plain": [
       "<Figure size 432x288 with 1 Axes>"
      ]
     },
     "metadata": {
      "needs_background": "light"
     },
     "output_type": "display_data"
    }
   ],
   "source": [
    "# Cross Tab - Bar Graph for Categorical Variables by Target Variable\n",
    "for i in categorical_features: #['purpose','grade']\n",
    "    chart = sns.countplot(data=train_data,x=i, hue=\"is_late\") #, order=train_data[i]\n",
    "    chart.set_xticklabels(chart.get_xticklabels(), rotation=90)\n",
    "    plt.show()"
   ]
  },
  {
   "cell_type": "markdown",
   "metadata": {},
   "source": [
    "### Observations\n",
    "* Purpose\n",
    "    * Within is_late - debt_consilation has more number of 1 but within categories - small business have higher % of 1\n",
    "* Grade\n",
    "    * Within is_late - C has more number of 1 but within categories - F have higher % of 1"
   ]
  },
  {
   "cell_type": "code",
   "execution_count": 72,
   "metadata": {
    "collapsed": true
   },
   "outputs": [
    {
     "data": {
      "image/png": "[encoded data removed]",
      "text/plain": [
       "<Figure size 432x288 with 1 Axes>"
      ]
     },
     "metadata": {
      "needs_background": "light"
     },
     "output_type": "display_data"
    },
    {
     "data": {
      "image/png": "[encoded data removed]",
      "text/plain": [
       "<Figure size 432x288 with 1 Axes>"
      ]
     },
     "metadata": {
      "needs_background": "light"
     },
     "output_type": "display_data"
    },
    {
     "data": {
      "image/png": "[encoded data removed]",
      "text/plain": [
       "<Figure size 432x288 with 1 Axes>"
      ]
     },
     "metadata": {
      "needs_background": "light"
     },
     "output_type": "display_data"
    },
    {
     "data": {
      "image/png": "[encoded data removed]",
      "text/plain": [
       "<Figure size 432x288 with 1 Axes>"
      ]
     },
     "metadata": {
      "needs_background": "light"
     },
     "output_type": "display_data"
    }
   ],
   "source": [
    "# For is_late=0 is considered population and within it what are the proportions for various catergories within a categorical variable\n",
    "for i in categorical_features: #['purpose','grade']\n",
    "    chart = train_data[i].groupby(train_data[\"is_late\"]).value_counts(normalize=True).rename(\"proportion\").reset_index().pipe((sns.barplot, \"data\"), x=i, y=\"proportion\", hue=\"is_late\")\n",
    "    chart.set_xticklabels(chart.get_xticklabels(), rotation=90)\n",
    "    plt.show()"
   ]
  },
  {
   "cell_type": "code",
   "execution_count": 84,
   "metadata": {
    "collapsed": true
   },
   "outputs": [
    {
     "data": {
      "image/png": "[encoded data removed]",
      "text/plain": [
       "<Figure size 1152x576 with 4 Axes>"
      ]
     },
     "metadata": {
      "needs_background": "light"
     },
     "output_type": "display_data"
    }
   ],
   "source": [
    "# Cross Tab - Categorical Variable by Target Variable (Stacked Bar Plot)\n",
    "fig, axes = plt.subplots(2,2, figsize = (16,8))\n",
    "axes = axes.ravel()\n",
    "\n",
    "for i,j in zip([i for i in categorical_features.columns], axes):\n",
    "    temp = pd.crosstab(train_data[i], train_data['is_late'])\n",
    "    temp.plot(kind = 'bar', stacked = True, color = ['red', 'green'] , grid = False, ax = j)"
   ]
  },
  {
   "cell_type": "code",
   "execution_count": 160,
   "metadata": {
    "collapsed": true
   },
   "outputs": [
    {
     "ename": "ModuleNotFoundError",
     "evalue": "No module named 'pandas_profiling'",
     "output_type": "error",
     "traceback": [
      "\u001b[1;31m---------------------------------------------------------------------------\u001b[0m",
      "\u001b[1;31mModuleNotFoundError\u001b[0m                       Traceback (most recent call last)",
      "\u001b[1;32m<ipython-input-160-4afb823491c5>\u001b[0m in \u001b[0;36m<module>\u001b[1;34m\u001b[0m\n\u001b[1;32m----> 1\u001b[1;33m \u001b[1;32mimport\u001b[0m \u001b[0mpandas_profiling\u001b[0m \u001b[1;32mas\u001b[0m \u001b[0mpp\u001b[0m\u001b[1;33m\u001b[0m\u001b[1;33m\u001b[0m\u001b[0m\n\u001b[0m",
      "\u001b[1;31mModuleNotFoundError\u001b[0m: No module named 'pandas_profiling'"
     ]
    }
   ],
   "source": [
    "import pandas_profiling as pp"
   ]
  },
  {
   "cell_type": "code",
   "execution_count": null,
   "metadata": {},
   "outputs": [],
   "source": []
  },
  {
   "cell_type": "code",
   "execution_count": null,
   "metadata": {},
   "outputs": [],
   "source": []
  }
 ],
 "metadata": {
  "kernelspec": {
   "display_name": "Python 2",
   "language": "python",
   "name": "python2"
  },
  "language_info": {
   "codemirror_mode": {
    "name": "ipython",
    "version": 2
   },
   "file_extension": ".py",
   "mimetype": "text/x-python",
   "name": "python",
   "nbconvert_exporter": "python",
   "pygments_lexer": "ipython2",
   "version": "2.7.15"
  }
 },
 "nbformat": 4,
 "nbformat_minor": 2
}
