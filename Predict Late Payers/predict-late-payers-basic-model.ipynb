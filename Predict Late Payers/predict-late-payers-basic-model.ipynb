{
 "cells": [
  {
   "cell_type": "code",
   "execution_count": 2,
   "metadata": {},
   "outputs": [
    {
     "name": "stdout",
     "output_type": "stream",
     "text": [
      "\n",
      "Loading training data...\n",
      "\n",
      "Training model ...\n"
     ]
    },
    {
     "name": "stderr",
     "output_type": "stream",
     "text": [
      "C:\\ProgramData\\Anaconda3\\lib\\site-packages\\sklearn\\ensemble\\forest.py:246: FutureWarning: The default value of n_estimators will change from 10 in version 0.20 to 100 in 0.22.\n",
      "  \"10 in version 0.20 to 100 in 0.22.\", FutureWarning)\n"
     ]
    },
    {
     "name": "stdout",
     "output_type": "stream",
     "text": [
      "\n",
      "Saving model ...\n"
     ]
    }
   ],
   "source": [
    "# Import Libraries\n",
    "import numpy as np\n",
    "import pandas as pd\n",
    "from sklearn.ensemble import RandomForestClassifier\n",
    "\n",
    "# Preprocessing and Pipeline libraries\n",
    "from sklearn.compose import ColumnTransformer\n",
    "from sklearn.impute import SimpleImputer\n",
    "from sklearn.pipeline import Pipeline, make_pipeline\n",
    "from sklearn.preprocessing import OneHotEncoder\n",
    "import pickle\n",
    "\n",
    "print(\"\\nLoading training data...\")\n",
    "# load training data\n",
    "test_data = pd.read_csv(\"Data/peerLoanTraining.csv\", engine='python', header=0)\n",
    "\n",
    "# Separate out X and y\n",
    "X_train = test_data.loc[:, test_data.columns != 'is_late']\n",
    "y_train = test_data['is_late']\n",
    "\n",
    "# load test data\n",
    "test_data = pd.read_csv(\"Data/peerLoanTest.csv\", engine='python', header=0)\n",
    "\n",
    "# Separate out X and y\n",
    "X_test = test_data.loc[:, test_data.columns != 'is_late']\n",
    "y_test = test_data['is_late']\n",
    "\n",
    "# Preprocessing Steps\n",
    "numeric_features = ['loan_amnt', \n",
    "                    'int_rate', 'annual_inc', 'revol_util', \n",
    "                    'dti', 'delinq_2yrs'\n",
    "                   ]\n",
    "\n",
    "numeric_transformer = Pipeline(steps=[\n",
    "    ('imputer', SimpleImputer(strategy='median')),\n",
    "    ])\n",
    "\n",
    "categorical_features = ['purpose','grade', 'emp_length', 'home_ownership']\n",
    "\n",
    "categorical_transformer = Pipeline(steps=[\n",
    "    ('imputer', SimpleImputer(strategy='constant', fill_value='missing')),\n",
    "    ('onehot', OneHotEncoder(handle_unknown='ignore'))\n",
    "    ])\n",
    "\n",
    "preprocess = ColumnTransformer(\n",
    "    transformers=[\n",
    "        ('num', numeric_transformer, numeric_features),\n",
    "        ('cat', categorical_transformer, categorical_features)\n",
    "        ]\n",
    "    )\n",
    "\n",
    "# Combine preprocessing with classifier\n",
    "latePaymentsModel = make_pipeline(\n",
    "    preprocess,\n",
    "    RandomForestClassifier(random_state=42))\n",
    "\n",
    "# Fit the pipeline to the training data (fit is for both the preprocessing and the classifier)\n",
    "print(\"\\nTraining model ...\")\n",
    "latePaymentsModel.fit(X_train, y_train)\n",
    "\n",
    "# Save the trained model as a pickle file\n",
    "print(\"\\nSaving model ...\")\n",
    "file = open('models/latePaymentsModel.pkl', 'wb')\n",
    "pickle.dump(latePaymentsModel, file)\n",
    "file.close()\n",
    "\n"
   ]
  },
  {
   "cell_type": "code",
   "execution_count": 3,
   "metadata": {},
   "outputs": [
    {
     "name": "stdout",
     "output_type": "stream",
     "text": [
      "\n",
      "Loading saved model to make example predictions...\n",
      "\n",
      "Predicting class probabilities for likely on-time payer:\n",
      "[[1. 0.]]\n",
      "\n",
      "Predicting class probabilities for a likely late payer:\n",
      "[[0.7 0.3]]\n",
      "\n",
      "Predicting class probabilities for the test data set:\n",
      "[[1. 0.]\n",
      " [1. 0.]\n",
      " [1. 0.]\n",
      " ...\n",
      " [1. 0.]\n",
      " [1. 0.]\n",
      " [1. 0.]]\n",
      "Accuracy:\n",
      "0.9861172000584539\n"
     ]
    }
   ],
   "source": [
    "# load the pickled model\n",
    "print(\"\\nLoading saved model to make example predictions...\")\n",
    "pickledModel = pickle.load(open('models/latePaymentsModel.pkl','rb'))\n",
    "\n",
    "# Make a prediction for a likely on time payer\n",
    "payOnTimePrediction = {\n",
    "    'loan_amnt': [100],\n",
    "    'int_rate': [0.02039],\n",
    "    'purpose': ['credit_card'],\n",
    "    'grade': ['A'],\n",
    "    'annual_inc': [80000.00],\n",
    "    'revol_util': [0.05],\n",
    "    'emp_length': ['10+ years'],\n",
    "    'dti': [1.46],\n",
    "    'delinq_2yrs': [0],\n",
    "    'home_ownership': ['RENT']\n",
    "    }\n",
    "payOnTimePredictionDf = pd.DataFrame.from_dict(payOnTimePrediction)\n",
    "\n",
    "print(\"\\nPredicting class probabilities for likely on-time payer:\")\n",
    "print(pickledModel.predict_proba(payOnTimePredictionDf))\n",
    "\n",
    "# Prediction for a likely late payer\n",
    "payLatePrediction = {\n",
    "    'loan_amnt': [10000],\n",
    "    'int_rate': [0.6],\n",
    "    'purpose': ['credit_card'],\n",
    "    'grade': ['D'],\n",
    "    'annual_inc': [20000.00],\n",
    "    'revol_util': [0.85],\n",
    "    'emp_length': ['1 year'],\n",
    "    'dti': [42.00],\n",
    "    'delinq_2yrs': [4],\n",
    "    'home_ownership': ['RENT']\n",
    "    }\n",
    "payLatePredictionDf = pd.DataFrame.from_dict(payLatePrediction)\n",
    "\n",
    "print(\"\\nPredicting class probabilities for a likely late payer:\")\n",
    "print(pickledModel.predict_proba(payLatePredictionDf))\n",
    "\n",
    "# Predict class probabilities for a set of records using the test set\n",
    "print(\"\\nPredicting class probabilities for the test data set:\")\n",
    "print(pickledModel.predict_proba(X_test))\n",
    "\n",
    "from sklearn.metrics import accuracy_score\n",
    "print(\"Accuracy:\\n%s\" % accuracy_score(y_test, pickledModel.predict(X_test)))\n"
   ]
  },
  {
   "cell_type": "code",
   "execution_count": 5,
   "metadata": {},
   "outputs": [
    {
     "data": {
      "text/plain": [
       "array([0., 0., 0., ..., 0., 0., 0.])"
      ]
     },
     "execution_count": 5,
     "metadata": {},
     "output_type": "execute_result"
    }
   ],
   "source": [
    "y_pred_proba = pickledModel.predict_proba(X_test)\n",
    "y_pred_proba[:,1]"
   ]
  },
  {
   "cell_type": "code",
   "execution_count": 11,
   "metadata": {},
   "outputs": [],
   "source": [
    "y_test_pred = np.where(y_pred_proba[:,1]>=0.2,1,0)"
   ]
  },
  {
   "cell_type": "code",
   "execution_count": 12,
   "metadata": {},
   "outputs": [
    {
     "data": {
      "text/plain": [
       "324"
      ]
     },
     "execution_count": 12,
     "metadata": {},
     "output_type": "execute_result"
    }
   ],
   "source": [
    "sum(y_test_pred)"
   ]
  },
  {
   "cell_type": "code",
   "execution_count": 7,
   "metadata": {},
   "outputs": [
    {
     "data": {
      "text/plain": [
       "95"
      ]
     },
     "execution_count": 7,
     "metadata": {},
     "output_type": "execute_result"
    }
   ],
   "source": [
    "sum(y_test)"
   ]
  },
  {
   "cell_type": "code",
   "execution_count": 13,
   "metadata": {},
   "outputs": [
    {
     "data": {
      "text/plain": [
       "array([[6438,  310],\n",
       "       [  81,   14]], dtype=int64)"
      ]
     },
     "execution_count": 13,
     "metadata": {},
     "output_type": "execute_result"
    }
   ],
   "source": [
    "from sklearn.metrics import confusion_matrix\n",
    "confusion_matrix(y_test, y_test_pred)"
   ]
  },
  {
   "cell_type": "code",
   "execution_count": 17,
   "metadata": {},
   "outputs": [],
   "source": [
    "import matplotlib.pyplot as plt\n",
    "from sklearn.metrics import *"
   ]
  },
  {
   "cell_type": "code",
   "execution_count": 20,
   "metadata": {},
   "outputs": [],
   "source": [
    "fpr, tpr, thresholds = roc_curve(y_test,y_pred_proba[:,1])"
   ]
  },
  {
   "cell_type": "code",
   "execution_count": 21,
   "metadata": {},
   "outputs": [
    {
     "data": {
      "text/plain": [
       "(array([0.00000000e+00, 7.40960285e-04, 2.37107291e-03, 1.20035566e-02,\n",
       "        4.59395376e-02, 1.89834025e-01, 1.00000000e+00]),\n",
       " array([0.        , 0.01052632, 0.02105263, 0.02105263, 0.14736842,\n",
       "        0.42105263, 1.        ]),\n",
       " array([1.5, 0.5, 0.4, 0.3, 0.2, 0.1, 0. ]))"
      ]
     },
     "execution_count": 21,
     "metadata": {},
     "output_type": "execute_result"
    }
   ],
   "source": [
    "fpr, tpr, thresholds"
   ]
  },
  {
   "cell_type": "code",
   "execution_count": 23,
   "metadata": {},
   "outputs": [
    {
     "data": {
      "image/png": "[encoded data removed]",
      "text/plain": [
       "<Figure size 432x288 with 1 Axes>"
      ]
     },
     "metadata": {
      "needs_background": "light"
     },
     "output_type": "display_data"
    }
   ],
   "source": [
    "plt.plot(fpr, tpr, label='ROC curve'+', AUC='+str(round(roc_auc_score(y_test, y_pred_proba[:,1]).mean(),3)))\n",
    "plt.plot([0, 1], [0, 1], 'k--', label='Random guess')\n",
    "_ = plt.xlabel('False Positive Rate')\n",
    "_ = plt.ylabel('True Positive Rate')\n",
    "_ = plt.title('ROC Curve')\n",
    "_ = plt.xlim([-0.02, 1])\n",
    "_ = plt.ylim([0, 1.02])\n",
    "_ = plt.legend(loc=\"lower right\")"
   ]
  },
  {
   "cell_type": "code",
   "execution_count": null,
   "metadata": {},
   "outputs": [],
   "source": []
  }
 ],
 "metadata": {
  "kernelspec": {
   "display_name": "Python 3",
   "language": "python",
   "name": "python3"
  },
  "language_info": {
   "codemirror_mode": {
    "name": "ipython",
    "version": 3
   },
   "file_extension": ".py",
   "mimetype": "text/x-python",
   "name": "python",
   "nbconvert_exporter": "python",
   "pygments_lexer": "ipython3",
   "version": "3.7.1"
  }
 },
 "nbformat": 4,
 "nbformat_minor": 2
}
